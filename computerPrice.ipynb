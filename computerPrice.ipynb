{
  "nbformat": 4,
  "nbformat_minor": 0,
  "metadata": {
    "colab": {
      "name": "bigdataAS2.ipynb",
      "provenance": [],
      "collapsed_sections": [],
      "include_colab_link": true
    },
    "kernelspec": {
      "name": "python3",
      "display_name": "Python 3"
    }
  },
  "cells": [
    {
      "cell_type": "markdown",
      "metadata": {
        "id": "view-in-github",
        "colab_type": "text"
      },
      "source": [
        "<a href=\"https://colab.research.google.com/github/mekazanc/Computer-Price-Prediction/blob/main/computerPrice.ipynb\" target=\"_parent\"><img src=\"https://colab.research.google.com/assets/colab-badge.svg\" alt=\"Open In Colab\"/></a>"
      ]
    },
    {
      "cell_type": "code",
      "metadata": {
        "id": "DIkO4bWL6gbx",
        "outputId": "37673320-6a3f-40d7-db31-3e82d5630913",
        "colab": {
          "base_uri": "https://localhost:8080/",
          "height": 139
        }
      },
      "source": [
        "from google.colab import drive\n",
        "drive.mount('/gdrive')\n",
        "%cd /gdrive"
      ],
      "execution_count": null,
      "outputs": [
        {
          "output_type": "stream",
          "text": [
            "Go to this URL in a browser: https://accounts.google.com/o/oauth2/auth?client_id=947318989803-6bn6qk8qdgf4n4g3pfee6491hc0brc4i.apps.googleusercontent.com&redirect_uri=urn%3aietf%3awg%3aoauth%3a2.0%3aoob&response_type=code&scope=email%20https%3a%2f%2fwww.googleapis.com%2fauth%2fdocs.test%20https%3a%2f%2fwww.googleapis.com%2fauth%2fdrive%20https%3a%2f%2fwww.googleapis.com%2fauth%2fdrive.photos.readonly%20https%3a%2f%2fwww.googleapis.com%2fauth%2fpeopleapi.readonly\n",
            "\n",
            "Enter your authorization code:\n",
            "··········\n",
            "Mounted at /gdrive\n",
            "/gdrive\n"
          ],
          "name": "stdout"
        }
      ]
    },
    {
      "cell_type": "code",
      "metadata": {
        "id": "JdxTvC_o647X",
        "outputId": "ff7363cf-ee6b-4ff9-c7af-3a4e3b2ac54d",
        "colab": {
          "base_uri": "https://localhost:8080/",
          "height": 34
        }
      },
      "source": [
        "# you need to give your path here. It must starts with \"%cd My\\ Drive/\" then add your path in your google drive\n",
        "%cd My\\ Drive/Colab Notebooks/BigDataDev"
      ],
      "execution_count": null,
      "outputs": [
        {
          "output_type": "stream",
          "text": [
            "/gdrive/My Drive/Colab Notebooks/BigDataDev\n"
          ],
          "name": "stdout"
        }
      ]
    },
    {
      "cell_type": "code",
      "metadata": {
        "id": "RRXl2Gz_7Ip5",
        "outputId": "f6608be2-66e9-4e95-aa5f-cf1351f95902",
        "colab": {
          "base_uri": "https://localhost:8080/",
          "height": 238
        }
      },
      "source": [
        "%ls -l"
      ],
      "execution_count": null,
      "outputs": [
        {
          "output_type": "stream",
          "text": [
            "total 853\n",
            "drwx------ 2 root root   4096 Mar 31 15:31 \u001b[0m\u001b[01;34m'Assignment 2'\u001b[0m/\n",
            "drwx------ 2 root root   4096 Apr  8 13:43 \u001b[01;34m'Assignment 3'\u001b[0m/\n",
            "-rw------- 1 root root 426137 Apr 17 23:11  bigdata.ipynb\n",
            "drwx------ 2 root root   4096 Apr 17 00:28  \u001b[01;34mcatboost_info\u001b[0m/\n",
            "-rw------- 1 root root 128822 Apr  6 18:47 'Computer gaming.ipynb'\n",
            "drwx------ 2 root root   4096 Apr 17 10:16  \u001b[01;34mfinalData\u001b[0m/\n",
            "-rw------- 1 root root   9417 Apr  6 23:17  test111.csv\n",
            "-rw------- 1 root root   9242 Apr  6 00:13  test11.csv\n",
            "-rw------- 1 root root   8952 Apr  5 23:33  test1.csv\n",
            "-rw------- 1 root root  78300 Mar 16 10:35  test.csv\n",
            "-rw------- 1 root root   9466 Apr 17 18:37  testNew.csv\n",
            "-rw------- 1 root root 183865 Mar 16 10:35  train.csv\n"
          ],
          "name": "stdout"
        }
      ]
    },
    {
      "cell_type": "code",
      "metadata": {
        "id": "PjpI1D58cG_M"
      },
      "source": [
        ""
      ],
      "execution_count": null,
      "outputs": []
    },
    {
      "cell_type": "markdown",
      "metadata": {
        "id": "dXlbdrdF6Fmt"
      },
      "source": [
        "##Computer Price Prediction Analysis\n",
        "## 1. Data Exploration \n",
        "First of all, let's import data by pandas library"
      ]
    },
    {
      "cell_type": "code",
      "metadata": {
        "id": "BAPBwGGW6lrS",
        "outputId": "7a41d2a0-76c5-45d2-c0ec-6b1bc136b092",
        "colab": {
          "base_uri": "https://localhost:8080/",
          "height": 513
        }
      },
      "source": [
        "import pandas as pd\n",
        "# Import data \n",
        "dfTrain = pd.read_csv(\"train.csv\")\n",
        "dfTrain.head()"
      ],
      "execution_count": null,
      "outputs": [
        {
          "output_type": "execute_result",
          "data": {
            "text/html": [
              "<div>\n",
              "<style scoped>\n",
              "    .dataframe tbody tr th:only-of-type {\n",
              "        vertical-align: middle;\n",
              "    }\n",
              "\n",
              "    .dataframe tbody tr th {\n",
              "        vertical-align: top;\n",
              "    }\n",
              "\n",
              "    .dataframe thead th {\n",
              "        text-align: right;\n",
              "    }\n",
              "</style>\n",
              "<table border=\"1\" class=\"dataframe\">\n",
              "  <thead>\n",
              "    <tr style=\"text-align: right;\">\n",
              "      <th></th>\n",
              "      <th>id</th>\n",
              "      <th>name</th>\n",
              "      <th>brand</th>\n",
              "      <th>base_name</th>\n",
              "      <th>screen_size</th>\n",
              "      <th>pixels_x</th>\n",
              "      <th>pixels_y</th>\n",
              "      <th>screen_surface</th>\n",
              "      <th>touchscreen</th>\n",
              "      <th>cpu</th>\n",
              "      <th>cpu_details</th>\n",
              "      <th>detachable_keyboard</th>\n",
              "      <th>discrete_gpu</th>\n",
              "      <th>gpu</th>\n",
              "      <th>os</th>\n",
              "      <th>os_details</th>\n",
              "      <th>ram</th>\n",
              "      <th>ssd</th>\n",
              "      <th>storage</th>\n",
              "      <th>weight</th>\n",
              "      <th>min_price</th>\n",
              "      <th>max_price</th>\n",
              "    </tr>\n",
              "  </thead>\n",
              "  <tbody>\n",
              "    <tr>\n",
              "      <th>0</th>\n",
              "      <td>7774</td>\n",
              "      <td>Lenovo Flex 3 15.6-Inch Touchscreen Laptop (Co...</td>\n",
              "      <td>Lenovo</td>\n",
              "      <td>Lenovo Flex 3 80JM002CUS</td>\n",
              "      <td>15.6</td>\n",
              "      <td>1920</td>\n",
              "      <td>1080</td>\n",
              "      <td>Glossy</td>\n",
              "      <td>1</td>\n",
              "      <td>Intel Core i7</td>\n",
              "      <td>Intel Core i7-5500U 2.40 GHz (5th gen Broadwel...</td>\n",
              "      <td>0.0</td>\n",
              "      <td>0</td>\n",
              "      <td>Intel HD</td>\n",
              "      <td>Windows</td>\n",
              "      <td>Windows 10</td>\n",
              "      <td>8</td>\n",
              "      <td>0</td>\n",
              "      <td>1000</td>\n",
              "      <td>4.60</td>\n",
              "      <td>899.00</td>\n",
              "      <td>899.00</td>\n",
              "    </tr>\n",
              "    <tr>\n",
              "      <th>1</th>\n",
              "      <td>25926</td>\n",
              "      <td>Razer Blade 15 Gaming Laptop: Intel Core i7-87...</td>\n",
              "      <td>Razer</td>\n",
              "      <td>Razer Blade 15</td>\n",
              "      <td>15.6</td>\n",
              "      <td>1920</td>\n",
              "      <td>1080</td>\n",
              "      <td>Matte</td>\n",
              "      <td>0</td>\n",
              "      <td>Intel Core i7</td>\n",
              "      <td>Intel Core i7-8750H 2.2 GHz (8th gen Coffee La...</td>\n",
              "      <td>0.0</td>\n",
              "      <td>1</td>\n",
              "      <td>NVIDIA GeForce RTX 2070 Max-Q</td>\n",
              "      <td>Windows</td>\n",
              "      <td>Windows 10 Home</td>\n",
              "      <td>16</td>\n",
              "      <td>512</td>\n",
              "      <td>512</td>\n",
              "      <td>4.63</td>\n",
              "      <td>2099.99</td>\n",
              "      <td>2099.99</td>\n",
              "    </tr>\n",
              "    <tr>\n",
              "      <th>2</th>\n",
              "      <td>25267</td>\n",
              "      <td>Hp 15.6 Inch HD Thin and Light Laptop ( 7th Ge...</td>\n",
              "      <td>HP</td>\n",
              "      <td>HP</td>\n",
              "      <td>15.6</td>\n",
              "      <td>1366</td>\n",
              "      <td>768</td>\n",
              "      <td>NaN</td>\n",
              "      <td>0</td>\n",
              "      <td>AMD A6</td>\n",
              "      <td>AMD A6-9220 2.5 GHz (7th gen Stoney Ridge Dual...</td>\n",
              "      <td>0.0</td>\n",
              "      <td>0</td>\n",
              "      <td>AMD Radeon R4</td>\n",
              "      <td>Windows</td>\n",
              "      <td>Windows 10</td>\n",
              "      <td>8</td>\n",
              "      <td>0</td>\n",
              "      <td>500</td>\n",
              "      <td>4.63</td>\n",
              "      <td>439.00</td>\n",
              "      <td>449.00</td>\n",
              "    </tr>\n",
              "    <tr>\n",
              "      <th>3</th>\n",
              "      <td>22367</td>\n",
              "      <td>Acer Aspire E 15, 15.6\" Full HD, 8th Gen Intel...</td>\n",
              "      <td>Acer</td>\n",
              "      <td>Acer Aspire E5-576</td>\n",
              "      <td>15.6</td>\n",
              "      <td>1920</td>\n",
              "      <td>1080</td>\n",
              "      <td>Matte</td>\n",
              "      <td>0</td>\n",
              "      <td>Intel Core i3</td>\n",
              "      <td>Intel Core i3-8130U 2.2 GHz (8th gen Kaby Lake...</td>\n",
              "      <td>0.0</td>\n",
              "      <td>0</td>\n",
              "      <td>Intel UHD 620</td>\n",
              "      <td>Windows</td>\n",
              "      <td>Windows 10 Home</td>\n",
              "      <td>6</td>\n",
              "      <td>0</td>\n",
              "      <td>1000</td>\n",
              "      <td>5.30</td>\n",
              "      <td>375.00</td>\n",
              "      <td>449.00</td>\n",
              "    </tr>\n",
              "    <tr>\n",
              "      <th>4</th>\n",
              "      <td>17471</td>\n",
              "      <td>HP 17.3 inch (1600 x 900) HD+ Laptop PC, Intel...</td>\n",
              "      <td>HP</td>\n",
              "      <td>HP 17</td>\n",
              "      <td>17.3</td>\n",
              "      <td>1600</td>\n",
              "      <td>900</td>\n",
              "      <td>Glossy</td>\n",
              "      <td>0</td>\n",
              "      <td>Intel Core i5</td>\n",
              "      <td>Intel Core i5-7200U 2.5 GHz (7th gen Kaby Lake...</td>\n",
              "      <td>0.0</td>\n",
              "      <td>0</td>\n",
              "      <td>Intel HD 620</td>\n",
              "      <td>Windows</td>\n",
              "      <td>Windows 10</td>\n",
              "      <td>8</td>\n",
              "      <td>0</td>\n",
              "      <td>1000</td>\n",
              "      <td>5.80</td>\n",
              "      <td>559.00</td>\n",
              "      <td>559.00</td>\n",
              "    </tr>\n",
              "  </tbody>\n",
              "</table>\n",
              "</div>"
            ],
            "text/plain": [
              "      id  ... max_price\n",
              "0   7774  ...    899.00\n",
              "1  25926  ...   2099.99\n",
              "2  25267  ...    449.00\n",
              "3  22367  ...    449.00\n",
              "4  17471  ...    559.00\n",
              "\n",
              "[5 rows x 22 columns]"
            ]
          },
          "metadata": {
            "tags": []
          },
          "execution_count": 11
        }
      ]
    },
    {
      "cell_type": "code",
      "metadata": {
        "id": "AmU2LhSncp12",
        "outputId": "934e68ac-ade5-41b4-de82-f96b171050a4",
        "colab": {
          "base_uri": "https://localhost:8080/",
          "height": 34
        }
      },
      "source": [
        "dfTrain.shape"
      ],
      "execution_count": null,
      "outputs": [
        {
          "output_type": "execute_result",
          "data": {
            "text/plain": [
              "(510, 22)"
            ]
          },
          "metadata": {
            "tags": []
          },
          "execution_count": 12
        }
      ]
    },
    {
      "cell_type": "markdown",
      "metadata": {
        "id": "F_WhgzCK6jJW"
      },
      "source": [
        "## 1.1 Numerical and Categorical Data Exploration "
      ]
    },
    {
      "cell_type": "code",
      "metadata": {
        "id": "Qw7oqv8wgNi5",
        "outputId": "def79559-22b4-4fc1-a3ff-f0c1873da44f",
        "colab": {
          "base_uri": "https://localhost:8080/",
          "height": 317
        }
      },
      "source": [
        "# Get simple data statistics based on numerical features . \n",
        "dfTrain.describe()"
      ],
      "execution_count": null,
      "outputs": [
        {
          "output_type": "execute_result",
          "data": {
            "text/html": [
              "<div>\n",
              "<style scoped>\n",
              "    .dataframe tbody tr th:only-of-type {\n",
              "        vertical-align: middle;\n",
              "    }\n",
              "\n",
              "    .dataframe tbody tr th {\n",
              "        vertical-align: top;\n",
              "    }\n",
              "\n",
              "    .dataframe thead th {\n",
              "        text-align: right;\n",
              "    }\n",
              "</style>\n",
              "<table border=\"1\" class=\"dataframe\">\n",
              "  <thead>\n",
              "    <tr style=\"text-align: right;\">\n",
              "      <th></th>\n",
              "      <th>id</th>\n",
              "      <th>screen_size</th>\n",
              "      <th>pixels_x</th>\n",
              "      <th>pixels_y</th>\n",
              "      <th>touchscreen</th>\n",
              "      <th>detachable_keyboard</th>\n",
              "      <th>discrete_gpu</th>\n",
              "      <th>ram</th>\n",
              "      <th>ssd</th>\n",
              "      <th>storage</th>\n",
              "      <th>weight</th>\n",
              "      <th>min_price</th>\n",
              "      <th>max_price</th>\n",
              "    </tr>\n",
              "  </thead>\n",
              "  <tbody>\n",
              "    <tr>\n",
              "      <th>count</th>\n",
              "      <td>510.000000</td>\n",
              "      <td>510.000000</td>\n",
              "      <td>510.000000</td>\n",
              "      <td>510.000000</td>\n",
              "      <td>510.000000</td>\n",
              "      <td>506.000000</td>\n",
              "      <td>510.000000</td>\n",
              "      <td>510.000000</td>\n",
              "      <td>510.000000</td>\n",
              "      <td>510.000000</td>\n",
              "      <td>506.000000</td>\n",
              "      <td>510.000000</td>\n",
              "      <td>510.000000</td>\n",
              "    </tr>\n",
              "    <tr>\n",
              "      <th>mean</th>\n",
              "      <td>21748.831373</td>\n",
              "      <td>14.648235</td>\n",
              "      <td>1865.972549</td>\n",
              "      <td>1074.564706</td>\n",
              "      <td>0.347059</td>\n",
              "      <td>0.035573</td>\n",
              "      <td>0.290196</td>\n",
              "      <td>9.590196</td>\n",
              "      <td>198.909804</td>\n",
              "      <td>574.749020</td>\n",
              "      <td>4.197925</td>\n",
              "      <td>793.677686</td>\n",
              "      <td>829.228000</td>\n",
              "    </tr>\n",
              "    <tr>\n",
              "      <th>std</th>\n",
              "      <td>7344.314902</td>\n",
              "      <td>1.606050</td>\n",
              "      <td>565.111787</td>\n",
              "      <td>354.346764</td>\n",
              "      <td>0.476502</td>\n",
              "      <td>0.185407</td>\n",
              "      <td>0.454298</td>\n",
              "      <td>6.246940</td>\n",
              "      <td>244.424611</td>\n",
              "      <td>517.445695</td>\n",
              "      <td>1.342661</td>\n",
              "      <td>543.619499</td>\n",
              "      <td>570.076909</td>\n",
              "    </tr>\n",
              "    <tr>\n",
              "      <th>min</th>\n",
              "      <td>3841.000000</td>\n",
              "      <td>10.100000</td>\n",
              "      <td>1280.000000</td>\n",
              "      <td>768.000000</td>\n",
              "      <td>0.000000</td>\n",
              "      <td>0.000000</td>\n",
              "      <td>0.000000</td>\n",
              "      <td>2.000000</td>\n",
              "      <td>0.000000</td>\n",
              "      <td>16.000000</td>\n",
              "      <td>1.370000</td>\n",
              "      <td>69.000000</td>\n",
              "      <td>76.000000</td>\n",
              "    </tr>\n",
              "    <tr>\n",
              "      <th>25%</th>\n",
              "      <td>18547.750000</td>\n",
              "      <td>13.300000</td>\n",
              "      <td>1366.000000</td>\n",
              "      <td>768.000000</td>\n",
              "      <td>0.000000</td>\n",
              "      <td>0.000000</td>\n",
              "      <td>0.000000</td>\n",
              "      <td>4.000000</td>\n",
              "      <td>0.000000</td>\n",
              "      <td>128.000000</td>\n",
              "      <td>3.020000</td>\n",
              "      <td>380.110000</td>\n",
              "      <td>399.225000</td>\n",
              "    </tr>\n",
              "    <tr>\n",
              "      <th>50%</th>\n",
              "      <td>23196.500000</td>\n",
              "      <td>15.600000</td>\n",
              "      <td>1920.000000</td>\n",
              "      <td>1080.000000</td>\n",
              "      <td>0.000000</td>\n",
              "      <td>0.000000</td>\n",
              "      <td>0.000000</td>\n",
              "      <td>8.000000</td>\n",
              "      <td>128.000000</td>\n",
              "      <td>500.000000</td>\n",
              "      <td>4.310000</td>\n",
              "      <td>638.500000</td>\n",
              "      <td>649.000000</td>\n",
              "    </tr>\n",
              "    <tr>\n",
              "      <th>75%</th>\n",
              "      <td>27881.500000</td>\n",
              "      <td>15.600000</td>\n",
              "      <td>1920.000000</td>\n",
              "      <td>1080.000000</td>\n",
              "      <td>1.000000</td>\n",
              "      <td>0.000000</td>\n",
              "      <td>1.000000</td>\n",
              "      <td>16.000000</td>\n",
              "      <td>256.000000</td>\n",
              "      <td>1000.000000</td>\n",
              "      <td>4.935000</td>\n",
              "      <td>1099.742500</td>\n",
              "      <td>1179.742500</td>\n",
              "    </tr>\n",
              "    <tr>\n",
              "      <th>max</th>\n",
              "      <td>31422.000000</td>\n",
              "      <td>17.300000</td>\n",
              "      <td>3840.000000</td>\n",
              "      <td>2160.000000</td>\n",
              "      <td>1.000000</td>\n",
              "      <td>1.000000</td>\n",
              "      <td>1.000000</td>\n",
              "      <td>64.000000</td>\n",
              "      <td>2000.000000</td>\n",
              "      <td>4000.000000</td>\n",
              "      <td>9.740000</td>\n",
              "      <td>2999.110000</td>\n",
              "      <td>2999.110000</td>\n",
              "    </tr>\n",
              "  </tbody>\n",
              "</table>\n",
              "</div>"
            ],
            "text/plain": [
              "                 id  screen_size  ...    min_price    max_price\n",
              "count    510.000000   510.000000  ...   510.000000   510.000000\n",
              "mean   21748.831373    14.648235  ...   793.677686   829.228000\n",
              "std     7344.314902     1.606050  ...   543.619499   570.076909\n",
              "min     3841.000000    10.100000  ...    69.000000    76.000000\n",
              "25%    18547.750000    13.300000  ...   380.110000   399.225000\n",
              "50%    23196.500000    15.600000  ...   638.500000   649.000000\n",
              "75%    27881.500000    15.600000  ...  1099.742500  1179.742500\n",
              "max    31422.000000    17.300000  ...  2999.110000  2999.110000\n",
              "\n",
              "[8 rows x 13 columns]"
            ]
          },
          "metadata": {
            "tags": []
          },
          "execution_count": 13
        }
      ]
    },
    {
      "cell_type": "code",
      "metadata": {
        "id": "qS-fg5en90Zk",
        "outputId": "5afe3f3f-0a07-4edb-a75d-dcf9d4bec0fc",
        "colab": {
          "base_uri": "https://localhost:8080/",
          "height": 282
        }
      },
      "source": [
        "# Histogram of all columns were displayed. \n",
        "# There is no problem about data distribution we realized.  \n",
        "dfTrain['storage'].hist(bins=10)"
      ],
      "execution_count": null,
      "outputs": [
        {
          "output_type": "execute_result",
          "data": {
            "text/plain": [
              "<matplotlib.axes._subplots.AxesSubplot at 0x7f7f2c9e32b0>"
            ]
          },
          "metadata": {
            "tags": []
          },
          "execution_count": 14
        },
        {
          "output_type": "display_data",
          "data": {
            "image/png": "[encoded data removed]",
            "text/plain": [
              "<Figure size 432x288 with 1 Axes>"
            ]
          },
          "metadata": {
            "tags": [],
            "needs_background": "light"
          }
        }
      ]
    },
    {
      "cell_type": "code",
      "metadata": {
        "id": "rnZ8hXTr-PET",
        "outputId": "628b9d1a-09be-48d4-9498-b0fc7bc4a1cc",
        "colab": {
          "base_uri": "https://localhost:8080/",
          "height": 1000
        }
      },
      "source": [
        "## checking using histograms whether or not we have data errors.\n",
        "import matplotlib.pyplot as plt\n",
        "fig = plt.figure(figsize = (15,20))\n",
        "ax = fig.gca()\n",
        "dfTrain.drop(\"id\",axis=1).hist(ax = ax,bins=50)"
      ],
      "execution_count": null,
      "outputs": [
        {
          "output_type": "stream",
          "text": [
            "/usr/local/lib/python3.6/dist-packages/ipykernel_launcher.py:4: UserWarning: To output multiple subplots, the figure containing the passed axes is being cleared\n",
            "  after removing the cwd from sys.path.\n"
          ],
          "name": "stderr"
        },
        {
          "output_type": "execute_result",
          "data": {
            "text/plain": [
              "array([[<matplotlib.axes._subplots.AxesSubplot object at 0x7f7f2c93f5c0>,\n",
              "        <matplotlib.axes._subplots.AxesSubplot object at 0x7f7f2c464320>,\n",
              "        <matplotlib.axes._subplots.AxesSubplot object at 0x7f7f2c416588>],\n",
              "       [<matplotlib.axes._subplots.AxesSubplot object at 0x7f7f2c4497f0>,\n",
              "        <matplotlib.axes._subplots.AxesSubplot object at 0x7f7f2c3f5a58>,\n",
              "        <matplotlib.axes._subplots.AxesSubplot object at 0x7f7f2c3ac0f0>],\n",
              "       [<matplotlib.axes._subplots.AxesSubplot object at 0x7f7f2c35e358>,\n",
              "        <matplotlib.axes._subplots.AxesSubplot object at 0x7f7f2c312588>,\n",
              "        <matplotlib.axes._subplots.AxesSubplot object at 0x7f7f2c3125f8>],\n",
              "       [<matplotlib.axes._subplots.AxesSubplot object at 0x7f7f2c2fba90>,\n",
              "        <matplotlib.axes._subplots.AxesSubplot object at 0x7f7f2c2afcf8>,\n",
              "        <matplotlib.axes._subplots.AxesSubplot object at 0x7f7f2c264f60>]],\n",
              "      dtype=object)"
            ]
          },
          "metadata": {
            "tags": []
          },
          "execution_count": 15
        },
        {
          "output_type": "display_data",
          "data": {
            "image/png": "[encoded data removed]",
            "text/plain": [
              "<Figure size 1080x1440 with 12 Axes>"
            ]
          },
          "metadata": {
            "tags": [],
            "needs_background": "light"
          }
        }
      ]
    },
    {
      "cell_type": "code",
      "metadata": {
        "id": "GDo2PgUohEIC",
        "outputId": "83a721a2-426e-470c-a3fe-36b943f5dd1b",
        "colab": {
          "base_uri": "https://localhost:8080/",
          "height": 190
        }
      },
      "source": [
        "# Get simple data statistics based on nominal features . \n",
        "dfTrain.describe(include=['object'])"
      ],
      "execution_count": null,
      "outputs": [
        {
          "output_type": "execute_result",
          "data": {
            "text/html": [
              "<div>\n",
              "<style scoped>\n",
              "    .dataframe tbody tr th:only-of-type {\n",
              "        vertical-align: middle;\n",
              "    }\n",
              "\n",
              "    .dataframe tbody tr th {\n",
              "        vertical-align: top;\n",
              "    }\n",
              "\n",
              "    .dataframe thead th {\n",
              "        text-align: right;\n",
              "    }\n",
              "</style>\n",
              "<table border=\"1\" class=\"dataframe\">\n",
              "  <thead>\n",
              "    <tr style=\"text-align: right;\">\n",
              "      <th></th>\n",
              "      <th>name</th>\n",
              "      <th>brand</th>\n",
              "      <th>base_name</th>\n",
              "      <th>screen_surface</th>\n",
              "      <th>cpu</th>\n",
              "      <th>cpu_details</th>\n",
              "      <th>gpu</th>\n",
              "      <th>os</th>\n",
              "      <th>os_details</th>\n",
              "    </tr>\n",
              "  </thead>\n",
              "  <tbody>\n",
              "    <tr>\n",
              "      <th>count</th>\n",
              "      <td>510</td>\n",
              "      <td>510</td>\n",
              "      <td>510</td>\n",
              "      <td>498</td>\n",
              "      <td>510</td>\n",
              "      <td>504</td>\n",
              "      <td>508</td>\n",
              "      <td>508</td>\n",
              "      <td>508</td>\n",
              "    </tr>\n",
              "    <tr>\n",
              "      <th>unique</th>\n",
              "      <td>510</td>\n",
              "      <td>18</td>\n",
              "      <td>385</td>\n",
              "      <td>4</td>\n",
              "      <td>23</td>\n",
              "      <td>132</td>\n",
              "      <td>73</td>\n",
              "      <td>4</td>\n",
              "      <td>20</td>\n",
              "    </tr>\n",
              "    <tr>\n",
              "      <th>top</th>\n",
              "      <td>2020 HP 15.6\" Touchscreen Laptop Computer/ 10t...</td>\n",
              "      <td>Dell</td>\n",
              "      <td>HP</td>\n",
              "      <td>Glossy</td>\n",
              "      <td>Intel Core i7</td>\n",
              "      <td>Intel Core i7-9750H 2.6 GHz (9th gen Coffee La...</td>\n",
              "      <td>Intel UHD 620</td>\n",
              "      <td>Windows</td>\n",
              "      <td>Windows 10 Home</td>\n",
              "    </tr>\n",
              "    <tr>\n",
              "      <th>freq</th>\n",
              "      <td>1</td>\n",
              "      <td>108</td>\n",
              "      <td>9</td>\n",
              "      <td>257</td>\n",
              "      <td>181</td>\n",
              "      <td>41</td>\n",
              "      <td>69</td>\n",
              "      <td>431</td>\n",
              "      <td>253</td>\n",
              "    </tr>\n",
              "  </tbody>\n",
              "</table>\n",
              "</div>"
            ],
            "text/plain": [
              "                                                     name  ...       os_details\n",
              "count                                                 510  ...              508\n",
              "unique                                                510  ...               20\n",
              "top     2020 HP 15.6\" Touchscreen Laptop Computer/ 10t...  ...  Windows 10 Home\n",
              "freq                                                    1  ...              253\n",
              "\n",
              "[4 rows x 9 columns]"
            ]
          },
          "metadata": {
            "tags": []
          },
          "execution_count": 16
        }
      ]
    },
    {
      "cell_type": "code",
      "metadata": {
        "id": "ozNDoZkhGOzo"
      },
      "source": [
        ""
      ],
      "execution_count": null,
      "outputs": []
    },
    {
      "cell_type": "markdown",
      "metadata": {
        "id": "RjowwGWX6t8o"
      },
      "source": [
        "# 1.2 Filling Missing Values in Traning Set\n",
        "## 1.2.1 Nominal Features \n",
        "After examination of nominal features, it was found [ detachable_keyboard,weight ] have some missing values. Let's fill them. \n"
      ]
    },
    {
      "cell_type": "code",
      "metadata": {
        "id": "jqjcyWw9F_YZ",
        "outputId": "448d2dc5-bfaf-4cce-d07f-9889bd3e2675",
        "colab": {
          "base_uri": "https://localhost:8080/",
          "height": 317
        }
      },
      "source": [
        "# Missing values at [ detachable_keyboard,weight ] \n",
        "# Start with WEIGHT column.\n",
        "\n",
        "dfTrain[dfTrain['weight'].isnull()].describe()\n",
        "# Weight column -  missing data filling \n",
        "# { (screen_size, touchscreen, detachable_keyboard,discrete_gpu, ram\t, storage)\t* W = weight }\n"
      ],
      "execution_count": null,
      "outputs": [
        {
          "output_type": "execute_result",
          "data": {
            "text/html": [
              "<div>\n",
              "<style scoped>\n",
              "    .dataframe tbody tr th:only-of-type {\n",
              "        vertical-align: middle;\n",
              "    }\n",
              "\n",
              "    .dataframe tbody tr th {\n",
              "        vertical-align: top;\n",
              "    }\n",
              "\n",
              "    .dataframe thead th {\n",
              "        text-align: right;\n",
              "    }\n",
              "</style>\n",
              "<table border=\"1\" class=\"dataframe\">\n",
              "  <thead>\n",
              "    <tr style=\"text-align: right;\">\n",
              "      <th></th>\n",
              "      <th>id</th>\n",
              "      <th>screen_size</th>\n",
              "      <th>pixels_x</th>\n",
              "      <th>pixels_y</th>\n",
              "      <th>touchscreen</th>\n",
              "      <th>detachable_keyboard</th>\n",
              "      <th>discrete_gpu</th>\n",
              "      <th>ram</th>\n",
              "      <th>ssd</th>\n",
              "      <th>storage</th>\n",
              "      <th>weight</th>\n",
              "      <th>min_price</th>\n",
              "      <th>max_price</th>\n",
              "    </tr>\n",
              "  </thead>\n",
              "  <tbody>\n",
              "    <tr>\n",
              "      <th>count</th>\n",
              "      <td>4.00000</td>\n",
              "      <td>4.000000</td>\n",
              "      <td>4.000000</td>\n",
              "      <td>4.000000</td>\n",
              "      <td>4.00</td>\n",
              "      <td>4.00</td>\n",
              "      <td>4.0</td>\n",
              "      <td>4.0</td>\n",
              "      <td>4.0</td>\n",
              "      <td>4.000000</td>\n",
              "      <td>0.0</td>\n",
              "      <td>4.000</td>\n",
              "      <td>4.000000</td>\n",
              "    </tr>\n",
              "    <tr>\n",
              "      <th>mean</th>\n",
              "      <td>24966.00000</td>\n",
              "      <td>14.650000</td>\n",
              "      <td>1541.500000</td>\n",
              "      <td>887.000000</td>\n",
              "      <td>0.75</td>\n",
              "      <td>0.25</td>\n",
              "      <td>0.0</td>\n",
              "      <td>5.5</td>\n",
              "      <td>8.0</td>\n",
              "      <td>1008.000000</td>\n",
              "      <td>NaN</td>\n",
              "      <td>464.485</td>\n",
              "      <td>480.487500</td>\n",
              "    </tr>\n",
              "    <tr>\n",
              "      <th>std</th>\n",
              "      <td>3689.54803</td>\n",
              "      <td>3.137409</td>\n",
              "      <td>286.279001</td>\n",
              "      <td>140.413675</td>\n",
              "      <td>0.50</td>\n",
              "      <td>0.50</td>\n",
              "      <td>0.0</td>\n",
              "      <td>3.0</td>\n",
              "      <td>16.0</td>\n",
              "      <td>803.485739</td>\n",
              "      <td>NaN</td>\n",
              "      <td>284.856</td>\n",
              "      <td>289.891734</td>\n",
              "    </tr>\n",
              "    <tr>\n",
              "      <th>min</th>\n",
              "      <td>21221.00000</td>\n",
              "      <td>10.100000</td>\n",
              "      <td>1280.000000</td>\n",
              "      <td>768.000000</td>\n",
              "      <td>0.00</td>\n",
              "      <td>0.00</td>\n",
              "      <td>0.0</td>\n",
              "      <td>2.0</td>\n",
              "      <td>0.0</td>\n",
              "      <td>32.000000</td>\n",
              "      <td>NaN</td>\n",
              "      <td>133.950</td>\n",
              "      <td>133.950000</td>\n",
              "    </tr>\n",
              "    <tr>\n",
              "      <th>25%</th>\n",
              "      <td>22085.75000</td>\n",
              "      <td>14.225000</td>\n",
              "      <td>1344.500000</td>\n",
              "      <td>792.000000</td>\n",
              "      <td>0.75</td>\n",
              "      <td>0.00</td>\n",
              "      <td>0.0</td>\n",
              "      <td>3.5</td>\n",
              "      <td>0.0</td>\n",
              "      <td>758.000000</td>\n",
              "      <td>NaN</td>\n",
              "      <td>277.980</td>\n",
              "      <td>303.487500</td>\n",
              "    </tr>\n",
              "    <tr>\n",
              "      <th>50%</th>\n",
              "      <td>25209.50000</td>\n",
              "      <td>15.600000</td>\n",
              "      <td>1483.000000</td>\n",
              "      <td>850.000000</td>\n",
              "      <td>1.00</td>\n",
              "      <td>0.00</td>\n",
              "      <td>0.0</td>\n",
              "      <td>6.0</td>\n",
              "      <td>0.0</td>\n",
              "      <td>1000.000000</td>\n",
              "      <td>NaN</td>\n",
              "      <td>487.495</td>\n",
              "      <td>504.500000</td>\n",
              "    </tr>\n",
              "    <tr>\n",
              "      <th>75%</th>\n",
              "      <td>28089.75000</td>\n",
              "      <td>16.025000</td>\n",
              "      <td>1680.000000</td>\n",
              "      <td>945.000000</td>\n",
              "      <td>1.00</td>\n",
              "      <td>0.25</td>\n",
              "      <td>0.0</td>\n",
              "      <td>8.0</td>\n",
              "      <td>8.0</td>\n",
              "      <td>1250.000000</td>\n",
              "      <td>NaN</td>\n",
              "      <td>674.000</td>\n",
              "      <td>681.500000</td>\n",
              "    </tr>\n",
              "    <tr>\n",
              "      <th>max</th>\n",
              "      <td>28224.00000</td>\n",
              "      <td>17.300000</td>\n",
              "      <td>1920.000000</td>\n",
              "      <td>1080.000000</td>\n",
              "      <td>1.00</td>\n",
              "      <td>1.00</td>\n",
              "      <td>0.0</td>\n",
              "      <td>8.0</td>\n",
              "      <td>32.0</td>\n",
              "      <td>2000.000000</td>\n",
              "      <td>NaN</td>\n",
              "      <td>749.000</td>\n",
              "      <td>779.000000</td>\n",
              "    </tr>\n",
              "  </tbody>\n",
              "</table>\n",
              "</div>"
            ],
            "text/plain": [
              "                id  screen_size     pixels_x  ...  weight  min_price   max_price\n",
              "count      4.00000     4.000000     4.000000  ...     0.0      4.000    4.000000\n",
              "mean   24966.00000    14.650000  1541.500000  ...     NaN    464.485  480.487500\n",
              "std     3689.54803     3.137409   286.279001  ...     NaN    284.856  289.891734\n",
              "min    21221.00000    10.100000  1280.000000  ...     NaN    133.950  133.950000\n",
              "25%    22085.75000    14.225000  1344.500000  ...     NaN    277.980  303.487500\n",
              "50%    25209.50000    15.600000  1483.000000  ...     NaN    487.495  504.500000\n",
              "75%    28089.75000    16.025000  1680.000000  ...     NaN    674.000  681.500000\n",
              "max    28224.00000    17.300000  1920.000000  ...     NaN    749.000  779.000000\n",
              "\n",
              "[8 rows x 13 columns]"
            ]
          },
          "metadata": {
            "tags": []
          },
          "execution_count": 17
        }
      ]
    },
    {
      "cell_type": "markdown",
      "metadata": {
        "id": "x72N4sDy7VTP"
      },
      "source": [
        "## 1.2.1.a \"WEIGHT\" Column\n",
        "In this column, we used linear regression to find weight. Correlation between whole features and weight were displayed and then it as concluded that [\"screen_size\", \"touchscreen\", \"detachable_keyboard\",\"discrete_gpu\", \"ram\"\t, \"storage\"] affects weight so that a linear regression was generated to find missing weight values.  "
      ]
    },
    {
      "cell_type": "code",
      "metadata": {
        "id": "15X1bQQYgK7T",
        "outputId": "6442c4d6-4713-4c98-b5d9-0f843c27480a",
        "colab": {
          "base_uri": "https://localhost:8080/",
          "height": 34
        }
      },
      "source": [
        "# # Weight column -  missing data filling  by linear regression \n",
        "# { screen_size, touchscreen, detachable_keyboard,discrete_gpu, ram\t, storage\t* W = weight }\n",
        "from sklearn.linear_model import LinearRegression\n",
        "from sklearn.model_selection import train_test_split\n",
        "from sklearn.metrics import mean_squared_error\n",
        "\n",
        "dfTrain_ = dfTrain.dropna(how='any',axis=0) \n",
        "\n",
        "target = dfTrain_[\"weight\"]\n",
        "features = dfTrain_[[\"screen_size\", \"touchscreen\", \"detachable_keyboard\",\"discrete_gpu\", \"ram\"\t, \"storage\"]]\n",
        "\n",
        "X_train,X_test,y_train,y_test = train_test_split(features,target,test_size=0.2,random_state=30,shuffle=True)\n",
        "##initializing the linear model\n",
        "model = LinearRegression()\n",
        "##fitting the data\n",
        "model.fit(X_train,y_train)\n",
        "## predictions\n",
        "y_predicted=model.predict(X_test)\n",
        "\n",
        "print(\"mse of training data is :\",mean_squared_error(y_predicted,y_test))\n",
        "\n"
      ],
      "execution_count": null,
      "outputs": [
        {
          "output_type": "stream",
          "text": [
            "mse of training data is : 0.33792550942693755\n"
          ],
          "name": "stdout"
        }
      ]
    },
    {
      "cell_type": "code",
      "metadata": {
        "id": "TdItORaMhUqi",
        "outputId": "fa7cb4e5-5cd2-48a9-97ca-39b9c75d75a1",
        "colab": {
          "base_uri": "https://localhost:8080/",
          "height": 282
        }
      },
      "source": [
        "# control weight of the computers to see any un-logical values. \n",
        "dfTrain['weight'].hist()\n",
        "\n",
        "# Some beneficial Codes \n",
        "#dfTrain.corr()\n",
        "#dfTrain[dfTrain.isna().any(axis=1)]\n"
      ],
      "execution_count": null,
      "outputs": [
        {
          "output_type": "execute_result",
          "data": {
            "text/plain": [
              "<matplotlib.axes._subplots.AxesSubplot at 0x7f7f2c9ca898>"
            ]
          },
          "metadata": {
            "tags": []
          },
          "execution_count": 19
        },
        {
          "output_type": "display_data",
          "data": {
            "image/png": "[encoded data removed]",
            "text/plain": [
              "<Figure size 432x288 with 1 Axes>"
            ]
          },
          "metadata": {
            "tags": [],
            "needs_background": "light"
          }
        }
      ]
    },
    {
      "cell_type": "code",
      "metadata": {
        "id": "bwfaHJNdI8KK",
        "outputId": "013540f4-018d-48cd-8b14-3106bd40ae3a",
        "colab": {
          "base_uri": "https://localhost:8080/",
          "height": 273
        }
      },
      "source": [
        "# Filling missing Weight values \n",
        "# Find missing rows \n",
        "tmpFrame = dfTrain[dfTrain['weight'].isnull()]\n",
        "# Exctract only required columns \n",
        "tmpList = tmpFrame[[\"screen_size\", \"touchscreen\", \"detachable_keyboard\",\"discrete_gpu\", \"ram\"\t, \"storage\"]]\n",
        "\n",
        "# Model is already created in the upper part.  \n",
        "tmpPredict=model.predict(tmpList)\n",
        "\n",
        "ndX = 0 \n",
        "# update predicted values. \n",
        "for index, row in dfTrain.iterrows():\n",
        "    if(pd.isnull(row['weight'])):\n",
        "        print('There is a missing value in weight column')\n",
        "        dfTrain.loc[index, 'weight'] = tmpPredict[ndX]\n",
        "        print('It is filled.\\n')\n",
        "        ndX = ndX + 1 \n",
        "\n",
        "\n",
        "\n",
        "# Let's control weight is updated or NOT. \n",
        "dfTrain[dfTrain['weight'].isnull()]\n",
        "\n"
      ],
      "execution_count": null,
      "outputs": [
        {
          "output_type": "stream",
          "text": [
            "There is a missing value in weight column\n",
            "It is filled.\n",
            "\n",
            "There is a missing value in weight column\n",
            "It is filled.\n",
            "\n",
            "There is a missing value in weight column\n",
            "It is filled.\n",
            "\n",
            "There is a missing value in weight column\n",
            "It is filled.\n",
            "\n"
          ],
          "name": "stdout"
        },
        {
          "output_type": "execute_result",
          "data": {
            "text/html": [
              "<div>\n",
              "<style scoped>\n",
              "    .dataframe tbody tr th:only-of-type {\n",
              "        vertical-align: middle;\n",
              "    }\n",
              "\n",
              "    .dataframe tbody tr th {\n",
              "        vertical-align: top;\n",
              "    }\n",
              "\n",
              "    .dataframe thead th {\n",
              "        text-align: right;\n",
              "    }\n",
              "</style>\n",
              "<table border=\"1\" class=\"dataframe\">\n",
              "  <thead>\n",
              "    <tr style=\"text-align: right;\">\n",
              "      <th></th>\n",
              "      <th>id</th>\n",
              "      <th>name</th>\n",
              "      <th>brand</th>\n",
              "      <th>base_name</th>\n",
              "      <th>screen_size</th>\n",
              "      <th>pixels_x</th>\n",
              "      <th>pixels_y</th>\n",
              "      <th>screen_surface</th>\n",
              "      <th>touchscreen</th>\n",
              "      <th>cpu</th>\n",
              "      <th>cpu_details</th>\n",
              "      <th>detachable_keyboard</th>\n",
              "      <th>discrete_gpu</th>\n",
              "      <th>gpu</th>\n",
              "      <th>os</th>\n",
              "      <th>os_details</th>\n",
              "      <th>ram</th>\n",
              "      <th>ssd</th>\n",
              "      <th>storage</th>\n",
              "      <th>weight</th>\n",
              "      <th>min_price</th>\n",
              "      <th>max_price</th>\n",
              "    </tr>\n",
              "  </thead>\n",
              "  <tbody>\n",
              "  </tbody>\n",
              "</table>\n",
              "</div>"
            ],
            "text/plain": [
              "Empty DataFrame\n",
              "Columns: [id, name, brand, base_name, screen_size, pixels_x, pixels_y, screen_surface, touchscreen, cpu, cpu_details, detachable_keyboard, discrete_gpu, gpu, os, os_details, ram, ssd, storage, weight, min_price, max_price]\n",
              "Index: []"
            ]
          },
          "metadata": {
            "tags": []
          },
          "execution_count": 20
        }
      ]
    },
    {
      "cell_type": "markdown",
      "metadata": {
        "id": "k-ZXvx829BCS"
      },
      "source": [
        "## 1.2.1.b \"DETACHABLE_KEYBOARD\" Column\n",
        "In this column, we used mode of the column to fill missing values. "
      ]
    },
    {
      "cell_type": "code",
      "metadata": {
        "id": "9rF2bLTxF_Ak",
        "outputId": "d0ed3139-5d18-4981-c2ef-d225081c620e",
        "colab": {
          "base_uri": "https://localhost:8080/",
          "height": 188
        }
      },
      "source": [
        "# The second missing element is detachable_keyboard. We used mode of this column to fill data. \n",
        "\n",
        "print(\"\\nMost frequent element of detachable_keyboard column is : \" + str(dfTrain['detachable_keyboard'].mode()[0]))\n",
        "\n",
        "dfTrain['detachable_keyboard'].fillna(dfTrain['detachable_keyboard'].mode()[0], inplace=True)\n",
        "print(\"\\nMissing data is filled\") \n",
        "\n",
        "print (\"\\nUnique elements of detachable keyboard is  : \"  + str (dfTrain['detachable_keyboard'].unique()) )\n",
        "\n",
        "print (\"\")\n",
        "\n",
        "# Check is there any missing values \n",
        "dfTrain[dfTrain['detachable_keyboard'].isnull()]"
      ],
      "execution_count": null,
      "outputs": [
        {
          "output_type": "stream",
          "text": [
            "\n",
            "Most frequent element of detachable_keyboard column is : 0.0\n",
            "\n",
            "Missing data is filled\n",
            "\n",
            "Unique elements of detachable keyboard is  : [0. 1.]\n",
            "\n"
          ],
          "name": "stdout"
        },
        {
          "output_type": "execute_result",
          "data": {
            "text/html": [
              "<div>\n",
              "<style scoped>\n",
              "    .dataframe tbody tr th:only-of-type {\n",
              "        vertical-align: middle;\n",
              "    }\n",
              "\n",
              "    .dataframe tbody tr th {\n",
              "        vertical-align: top;\n",
              "    }\n",
              "\n",
              "    .dataframe thead th {\n",
              "        text-align: right;\n",
              "    }\n",
              "</style>\n",
              "<table border=\"1\" class=\"dataframe\">\n",
              "  <thead>\n",
              "    <tr style=\"text-align: right;\">\n",
              "      <th></th>\n",
              "      <th>id</th>\n",
              "      <th>name</th>\n",
              "      <th>brand</th>\n",
              "      <th>base_name</th>\n",
              "      <th>screen_size</th>\n",
              "      <th>pixels_x</th>\n",
              "      <th>pixels_y</th>\n",
              "      <th>screen_surface</th>\n",
              "      <th>touchscreen</th>\n",
              "      <th>cpu</th>\n",
              "      <th>cpu_details</th>\n",
              "      <th>detachable_keyboard</th>\n",
              "      <th>discrete_gpu</th>\n",
              "      <th>gpu</th>\n",
              "      <th>os</th>\n",
              "      <th>os_details</th>\n",
              "      <th>ram</th>\n",
              "      <th>ssd</th>\n",
              "      <th>storage</th>\n",
              "      <th>weight</th>\n",
              "      <th>min_price</th>\n",
              "      <th>max_price</th>\n",
              "    </tr>\n",
              "  </thead>\n",
              "  <tbody>\n",
              "  </tbody>\n",
              "</table>\n",
              "</div>"
            ],
            "text/plain": [
              "Empty DataFrame\n",
              "Columns: [id, name, brand, base_name, screen_size, pixels_x, pixels_y, screen_surface, touchscreen, cpu, cpu_details, detachable_keyboard, discrete_gpu, gpu, os, os_details, ram, ssd, storage, weight, min_price, max_price]\n",
              "Index: []"
            ]
          },
          "metadata": {
            "tags": []
          },
          "execution_count": 21
        }
      ]
    },
    {
      "cell_type": "code",
      "metadata": {
        "id": "3MavgLGbmriO"
      },
      "source": [
        ""
      ],
      "execution_count": null,
      "outputs": []
    },
    {
      "cell_type": "code",
      "metadata": {
        "id": "LNuXs5PrFLx8",
        "outputId": "d5e80967-6b30-4970-982a-f8d4df6edccd",
        "colab": {
          "base_uri": "https://localhost:8080/",
          "height": 317
        }
      },
      "source": [
        "# Data EXPLORATION. \n",
        "# Until now, two features were filled. Go on with numerical data exploration to seek any anomalies. \n",
        "\n",
        "dfTrain.describe()\n"
      ],
      "execution_count": null,
      "outputs": [
        {
          "output_type": "execute_result",
          "data": {
            "text/html": [
              "<div>\n",
              "<style scoped>\n",
              "    .dataframe tbody tr th:only-of-type {\n",
              "        vertical-align: middle;\n",
              "    }\n",
              "\n",
              "    .dataframe tbody tr th {\n",
              "        vertical-align: top;\n",
              "    }\n",
              "\n",
              "    .dataframe thead th {\n",
              "        text-align: right;\n",
              "    }\n",
              "</style>\n",
              "<table border=\"1\" class=\"dataframe\">\n",
              "  <thead>\n",
              "    <tr style=\"text-align: right;\">\n",
              "      <th></th>\n",
              "      <th>id</th>\n",
              "      <th>screen_size</th>\n",
              "      <th>pixels_x</th>\n",
              "      <th>pixels_y</th>\n",
              "      <th>touchscreen</th>\n",
              "      <th>detachable_keyboard</th>\n",
              "      <th>discrete_gpu</th>\n",
              "      <th>ram</th>\n",
              "      <th>ssd</th>\n",
              "      <th>storage</th>\n",
              "      <th>weight</th>\n",
              "      <th>min_price</th>\n",
              "      <th>max_price</th>\n",
              "    </tr>\n",
              "  </thead>\n",
              "  <tbody>\n",
              "    <tr>\n",
              "      <th>count</th>\n",
              "      <td>510.000000</td>\n",
              "      <td>510.000000</td>\n",
              "      <td>510.000000</td>\n",
              "      <td>510.000000</td>\n",
              "      <td>510.000000</td>\n",
              "      <td>510.000000</td>\n",
              "      <td>510.000000</td>\n",
              "      <td>510.000000</td>\n",
              "      <td>510.000000</td>\n",
              "      <td>510.000000</td>\n",
              "      <td>510.000000</td>\n",
              "      <td>510.000000</td>\n",
              "      <td>510.000000</td>\n",
              "    </tr>\n",
              "    <tr>\n",
              "      <th>mean</th>\n",
              "      <td>21748.831373</td>\n",
              "      <td>14.648235</td>\n",
              "      <td>1865.972549</td>\n",
              "      <td>1074.564706</td>\n",
              "      <td>0.347059</td>\n",
              "      <td>0.035294</td>\n",
              "      <td>0.290196</td>\n",
              "      <td>9.590196</td>\n",
              "      <td>198.909804</td>\n",
              "      <td>574.749020</td>\n",
              "      <td>4.198621</td>\n",
              "      <td>793.677686</td>\n",
              "      <td>829.228000</td>\n",
              "    </tr>\n",
              "    <tr>\n",
              "      <th>std</th>\n",
              "      <td>7344.314902</td>\n",
              "      <td>1.606050</td>\n",
              "      <td>565.111787</td>\n",
              "      <td>354.346764</td>\n",
              "      <td>0.476502</td>\n",
              "      <td>0.184703</td>\n",
              "      <td>0.454298</td>\n",
              "      <td>6.246940</td>\n",
              "      <td>244.424611</td>\n",
              "      <td>517.445695</td>\n",
              "      <td>1.347560</td>\n",
              "      <td>543.619499</td>\n",
              "      <td>570.076909</td>\n",
              "    </tr>\n",
              "    <tr>\n",
              "      <th>min</th>\n",
              "      <td>3841.000000</td>\n",
              "      <td>10.100000</td>\n",
              "      <td>1280.000000</td>\n",
              "      <td>768.000000</td>\n",
              "      <td>0.000000</td>\n",
              "      <td>0.000000</td>\n",
              "      <td>0.000000</td>\n",
              "      <td>2.000000</td>\n",
              "      <td>0.000000</td>\n",
              "      <td>16.000000</td>\n",
              "      <td>1.203747</td>\n",
              "      <td>69.000000</td>\n",
              "      <td>76.000000</td>\n",
              "    </tr>\n",
              "    <tr>\n",
              "      <th>25%</th>\n",
              "      <td>18547.750000</td>\n",
              "      <td>13.300000</td>\n",
              "      <td>1366.000000</td>\n",
              "      <td>768.000000</td>\n",
              "      <td>0.000000</td>\n",
              "      <td>0.000000</td>\n",
              "      <td>0.000000</td>\n",
              "      <td>4.000000</td>\n",
              "      <td>0.000000</td>\n",
              "      <td>128.000000</td>\n",
              "      <td>3.020000</td>\n",
              "      <td>380.110000</td>\n",
              "      <td>399.225000</td>\n",
              "    </tr>\n",
              "    <tr>\n",
              "      <th>50%</th>\n",
              "      <td>23196.500000</td>\n",
              "      <td>15.600000</td>\n",
              "      <td>1920.000000</td>\n",
              "      <td>1080.000000</td>\n",
              "      <td>0.000000</td>\n",
              "      <td>0.000000</td>\n",
              "      <td>0.000000</td>\n",
              "      <td>8.000000</td>\n",
              "      <td>128.000000</td>\n",
              "      <td>500.000000</td>\n",
              "      <td>4.315000</td>\n",
              "      <td>638.500000</td>\n",
              "      <td>649.000000</td>\n",
              "    </tr>\n",
              "    <tr>\n",
              "      <th>75%</th>\n",
              "      <td>27881.500000</td>\n",
              "      <td>15.600000</td>\n",
              "      <td>1920.000000</td>\n",
              "      <td>1080.000000</td>\n",
              "      <td>1.000000</td>\n",
              "      <td>0.000000</td>\n",
              "      <td>1.000000</td>\n",
              "      <td>16.000000</td>\n",
              "      <td>256.000000</td>\n",
              "      <td>1000.000000</td>\n",
              "      <td>4.947500</td>\n",
              "      <td>1099.742500</td>\n",
              "      <td>1179.742500</td>\n",
              "    </tr>\n",
              "    <tr>\n",
              "      <th>max</th>\n",
              "      <td>31422.000000</td>\n",
              "      <td>17.300000</td>\n",
              "      <td>3840.000000</td>\n",
              "      <td>2160.000000</td>\n",
              "      <td>1.000000</td>\n",
              "      <td>1.000000</td>\n",
              "      <td>1.000000</td>\n",
              "      <td>64.000000</td>\n",
              "      <td>2000.000000</td>\n",
              "      <td>4000.000000</td>\n",
              "      <td>9.740000</td>\n",
              "      <td>2999.110000</td>\n",
              "      <td>2999.110000</td>\n",
              "    </tr>\n",
              "  </tbody>\n",
              "</table>\n",
              "</div>"
            ],
            "text/plain": [
              "                 id  screen_size  ...    min_price    max_price\n",
              "count    510.000000   510.000000  ...   510.000000   510.000000\n",
              "mean   21748.831373    14.648235  ...   793.677686   829.228000\n",
              "std     7344.314902     1.606050  ...   543.619499   570.076909\n",
              "min     3841.000000    10.100000  ...    69.000000    76.000000\n",
              "25%    18547.750000    13.300000  ...   380.110000   399.225000\n",
              "50%    23196.500000    15.600000  ...   638.500000   649.000000\n",
              "75%    27881.500000    15.600000  ...  1099.742500  1179.742500\n",
              "max    31422.000000    17.300000  ...  2999.110000  2999.110000\n",
              "\n",
              "[8 rows x 13 columns]"
            ]
          },
          "metadata": {
            "tags": []
          },
          "execution_count": 22
        }
      ]
    },
    {
      "cell_type": "code",
      "metadata": {
        "id": "W8lCKwxgSNNt"
      },
      "source": [
        ""
      ],
      "execution_count": null,
      "outputs": []
    },
    {
      "cell_type": "markdown",
      "metadata": {
        "id": "tuLdZDkR-kf8"
      },
      "source": [
        "## 1.2.2 Categorical Features\n",
        "Now, go on analysis by looking at categorical features. \n",
        "We detected missing values at these columns respectively [ screen_surface , cpu_details , gpu , os , os_details ] \n",
        "\n"
      ]
    },
    {
      "cell_type": "markdown",
      "metadata": {
        "id": "Zn1FtadS-2_I"
      },
      "source": [
        "### 1.2.2.a \"SCREEN_SURFACE\" Column"
      ]
    },
    {
      "cell_type": "code",
      "metadata": {
        "id": "1aG8CgTzhKis",
        "outputId": "889e777c-7447-40d7-b521-4177ca35919b",
        "colab": {
          "base_uri": "https://localhost:8080/",
          "height": 190
        }
      },
      "source": [
        "# Now, looking at statistics of screen_surface. \n",
        "dfTrain[dfTrain['screen_surface'].isnull()].describe(include=['object'])"
      ],
      "execution_count": null,
      "outputs": [
        {
          "output_type": "execute_result",
          "data": {
            "text/html": [
              "<div>\n",
              "<style scoped>\n",
              "    .dataframe tbody tr th:only-of-type {\n",
              "        vertical-align: middle;\n",
              "    }\n",
              "\n",
              "    .dataframe tbody tr th {\n",
              "        vertical-align: top;\n",
              "    }\n",
              "\n",
              "    .dataframe thead th {\n",
              "        text-align: right;\n",
              "    }\n",
              "</style>\n",
              "<table border=\"1\" class=\"dataframe\">\n",
              "  <thead>\n",
              "    <tr style=\"text-align: right;\">\n",
              "      <th></th>\n",
              "      <th>name</th>\n",
              "      <th>brand</th>\n",
              "      <th>base_name</th>\n",
              "      <th>screen_surface</th>\n",
              "      <th>cpu</th>\n",
              "      <th>cpu_details</th>\n",
              "      <th>gpu</th>\n",
              "      <th>os</th>\n",
              "      <th>os_details</th>\n",
              "    </tr>\n",
              "  </thead>\n",
              "  <tbody>\n",
              "    <tr>\n",
              "      <th>count</th>\n",
              "      <td>12</td>\n",
              "      <td>12</td>\n",
              "      <td>12</td>\n",
              "      <td>0</td>\n",
              "      <td>12</td>\n",
              "      <td>12</td>\n",
              "      <td>11</td>\n",
              "      <td>12</td>\n",
              "      <td>12</td>\n",
              "    </tr>\n",
              "    <tr>\n",
              "      <th>unique</th>\n",
              "      <td>12</td>\n",
              "      <td>7</td>\n",
              "      <td>12</td>\n",
              "      <td>0</td>\n",
              "      <td>6</td>\n",
              "      <td>9</td>\n",
              "      <td>7</td>\n",
              "      <td>2</td>\n",
              "      <td>4</td>\n",
              "    </tr>\n",
              "    <tr>\n",
              "      <th>top</th>\n",
              "      <td>Lenovo Premium Built High Performance 15.6 inc...</td>\n",
              "      <td>Lenovo</td>\n",
              "      <td>Acer Aspire E</td>\n",
              "      <td>NaN</td>\n",
              "      <td>Intel Celeron</td>\n",
              "      <td>Intel Celeron N3060 1.6 GHz (Braswell Dual-Core)</td>\n",
              "      <td>Intel HD 400</td>\n",
              "      <td>Windows</td>\n",
              "      <td>Windows 10</td>\n",
              "    </tr>\n",
              "    <tr>\n",
              "      <th>freq</th>\n",
              "      <td>1</td>\n",
              "      <td>4</td>\n",
              "      <td>1</td>\n",
              "      <td>NaN</td>\n",
              "      <td>6</td>\n",
              "      <td>3</td>\n",
              "      <td>4</td>\n",
              "      <td>11</td>\n",
              "      <td>6</td>\n",
              "    </tr>\n",
              "  </tbody>\n",
              "</table>\n",
              "</div>"
            ],
            "text/plain": [
              "                                                     name  ...  os_details\n",
              "count                                                  12  ...          12\n",
              "unique                                                 12  ...           4\n",
              "top     Lenovo Premium Built High Performance 15.6 inc...  ...  Windows 10\n",
              "freq                                                    1  ...           6\n",
              "\n",
              "[4 rows x 9 columns]"
            ]
          },
          "metadata": {
            "tags": []
          },
          "execution_count": 23
        }
      ]
    },
    {
      "cell_type": "code",
      "metadata": {
        "id": "F-5JwvmY9Qiv"
      },
      "source": [
        ""
      ],
      "execution_count": null,
      "outputs": []
    },
    {
      "cell_type": "code",
      "metadata": {
        "id": "-t65-ey9FcGp",
        "outputId": "921afa74-734d-4572-9732-09500f612792",
        "colab": {
          "base_uri": "https://localhost:8080/",
          "height": 51
        }
      },
      "source": [
        "# There is a typo in this column. Firstly, let's edit it. \n",
        "\n",
        "print(\"Pre-editing : \" + str(dfTrain['screen_surface'].unique()))\n",
        "# It includes some typo elements such as Glossy  and  glossy. Let's correct them. \n",
        "dfTrain[\"screen_surface\"].replace({\"glossy\": \"Glossy\"}, inplace=True)\n",
        "dfTrain[\"screen_surface\"].replace({\"matte\": \"Matte\"}, inplace=True)\n",
        "print(\"Post-editing : \" + str(dfTrain['screen_surface'].unique()))\n",
        "\n",
        "\n"
      ],
      "execution_count": null,
      "outputs": [
        {
          "output_type": "stream",
          "text": [
            "Pre-editing : ['Glossy' 'Matte' nan 'glossy' 'matte']\n",
            "Post-editing : ['Glossy' 'Matte' nan]\n"
          ],
          "name": "stdout"
        }
      ]
    },
    {
      "cell_type": "code",
      "metadata": {
        "id": "uknK7OaXKPTN",
        "outputId": "cbfe2ed8-2bf1-4c4c-95a9-1e500efb1ef2",
        "colab": {
          "base_uri": "https://localhost:8080/",
          "height": 154
        }
      },
      "source": [
        "# Go on analysis for screen_surface. Other columns do not say something important. \n",
        "# Take mode of this column. \n",
        "\n",
        "# Possible outcomes of this feature column\n",
        "print(\"Possible outcome is : \"  + str( dfTrain['screen_surface'].unique()) ) \n",
        "\n",
        "#df.select_dtypes(include='object').fillna(\\\n",
        "# ...: df.select_dtypes(include='object').mode().iloc[0])\n",
        "\n",
        "# Print and Replace nan with mode of this column \n",
        "print(\"Most frequent element of this column is : \" + str(dfTrain['screen_surface'].mode()[0]))\n",
        "\n",
        "dfTrain['screen_surface'].fillna(dfTrain['screen_surface'].mode()[0], inplace=True)\n",
        "print(\"Missing values are filled\")\n",
        "\n",
        "# New outcomes of this feature column\n",
        "print(\"Possible outcome is : \"  + str( dfTrain['screen_surface'].unique()) ) \n",
        "\n",
        "print(\"\")\n",
        "# Let's control is it null or not. \n",
        "dfTrain[dfTrain['screen_surface'].isnull()]\n"
      ],
      "execution_count": null,
      "outputs": [
        {
          "output_type": "stream",
          "text": [
            "Possible outcome is : ['Glossy' 'Matte' nan]\n",
            "Most frequent element of this column is : Glossy\n",
            "Missing values are filled\n",
            "Possible outcome is : ['Glossy' 'Matte']\n",
            "\n"
          ],
          "name": "stdout"
        },
        {
          "output_type": "execute_result",
          "data": {
            "text/html": [
              "<div>\n",
              "<style scoped>\n",
              "    .dataframe tbody tr th:only-of-type {\n",
              "        vertical-align: middle;\n",
              "    }\n",
              "\n",
              "    .dataframe tbody tr th {\n",
              "        vertical-align: top;\n",
              "    }\n",
              "\n",
              "    .dataframe thead th {\n",
              "        text-align: right;\n",
              "    }\n",
              "</style>\n",
              "<table border=\"1\" class=\"dataframe\">\n",
              "  <thead>\n",
              "    <tr style=\"text-align: right;\">\n",
              "      <th></th>\n",
              "      <th>id</th>\n",
              "      <th>name</th>\n",
              "      <th>brand</th>\n",
              "      <th>base_name</th>\n",
              "      <th>screen_size</th>\n",
              "      <th>pixels_x</th>\n",
              "      <th>pixels_y</th>\n",
              "      <th>screen_surface</th>\n",
              "      <th>touchscreen</th>\n",
              "      <th>cpu</th>\n",
              "      <th>cpu_details</th>\n",
              "      <th>detachable_keyboard</th>\n",
              "      <th>discrete_gpu</th>\n",
              "      <th>gpu</th>\n",
              "      <th>os</th>\n",
              "      <th>os_details</th>\n",
              "      <th>ram</th>\n",
              "      <th>ssd</th>\n",
              "      <th>storage</th>\n",
              "      <th>weight</th>\n",
              "      <th>min_price</th>\n",
              "      <th>max_price</th>\n",
              "    </tr>\n",
              "  </thead>\n",
              "  <tbody>\n",
              "  </tbody>\n",
              "</table>\n",
              "</div>"
            ],
            "text/plain": [
              "Empty DataFrame\n",
              "Columns: [id, name, brand, base_name, screen_size, pixels_x, pixels_y, screen_surface, touchscreen, cpu, cpu_details, detachable_keyboard, discrete_gpu, gpu, os, os_details, ram, ssd, storage, weight, min_price, max_price]\n",
              "Index: []"
            ]
          },
          "metadata": {
            "tags": []
          },
          "execution_count": 25
        }
      ]
    },
    {
      "cell_type": "markdown",
      "metadata": {
        "id": "2W-gqa42_dc3"
      },
      "source": [
        "### 1.2.2.b \"CPU_DETAILS\" Column\n",
        "The next one is cpu_details. cpu is short version of cpu_details. (i.e. cpu_details includes cpu information). If there is a missing value in cpu_details, we extraced cpu column of these rows and then search this cpu contained potential candidates. Finally, taking mode from potential candidates pool. For example;  if cpu is intel, we fill cpu_details by looking mode of cpu_details which contains intel. \n"
      ]
    },
    {
      "cell_type": "code",
      "metadata": {
        "id": "SN-Rk_LpLuu8",
        "outputId": "121e6557-c12e-46db-f30c-a67bfc61f598",
        "colab": {
          "base_uri": "https://localhost:8080/",
          "height": 392
        }
      },
      "source": [
        "# cpu = Intel Pentium\t \n",
        "# cpu_details = Intel Pentium N4200 1.1 GHz (Apollo Lake Quad-...\n",
        "# we used mode of this feature vector. \n",
        "                                           \n",
        "# Possible outcomes of this feature column\n",
        "cpuTmpList = dfTrain[dfTrain['cpu_details'].notnull()] #df[df.Last_Name.notnull()]\n",
        "cpuTmpList_ = cpuTmpList['cpu_details']\n",
        "cpuTmpList_ = cpuTmpList_.tolist()\n",
        "\n",
        "\n",
        "from statistics import mode\n",
        "\n",
        "for index, row in dfTrain.iterrows():\n",
        "    if(pd.isnull(row['cpu_details'])):\n",
        "        print('There is a missing value in cpu_details')\n",
        "        matching = [s for s in cpuTmpList_ if row['cpu'] in s]\n",
        "        fillElement = mode(matching)\n",
        "        dfTrain.loc[index, 'cpu_details'] = fillElement\n",
        "        print('It is filled.\\n')\n",
        "\n",
        "\n",
        "print(\" \")\n",
        "# Let's control is it filled or NOT. \n",
        "# dfTrain['cpu_details'].unique()\n",
        "dfTrain[dfTrain['cpu_details'].isnull()]\n"
      ],
      "execution_count": null,
      "outputs": [
        {
          "output_type": "stream",
          "text": [
            "There is a missing value in cpu_details\n",
            "It is filled.\n",
            "\n",
            "There is a missing value in cpu_details\n",
            "It is filled.\n",
            "\n",
            "There is a missing value in cpu_details\n",
            "It is filled.\n",
            "\n",
            "There is a missing value in cpu_details\n",
            "It is filled.\n",
            "\n",
            "There is a missing value in cpu_details\n",
            "It is filled.\n",
            "\n",
            "There is a missing value in cpu_details\n",
            "It is filled.\n",
            "\n",
            " \n"
          ],
          "name": "stdout"
        },
        {
          "output_type": "execute_result",
          "data": {
            "text/html": [
              "<div>\n",
              "<style scoped>\n",
              "    .dataframe tbody tr th:only-of-type {\n",
              "        vertical-align: middle;\n",
              "    }\n",
              "\n",
              "    .dataframe tbody tr th {\n",
              "        vertical-align: top;\n",
              "    }\n",
              "\n",
              "    .dataframe thead th {\n",
              "        text-align: right;\n",
              "    }\n",
              "</style>\n",
              "<table border=\"1\" class=\"dataframe\">\n",
              "  <thead>\n",
              "    <tr style=\"text-align: right;\">\n",
              "      <th></th>\n",
              "      <th>id</th>\n",
              "      <th>name</th>\n",
              "      <th>brand</th>\n",
              "      <th>base_name</th>\n",
              "      <th>screen_size</th>\n",
              "      <th>pixels_x</th>\n",
              "      <th>pixels_y</th>\n",
              "      <th>screen_surface</th>\n",
              "      <th>touchscreen</th>\n",
              "      <th>cpu</th>\n",
              "      <th>cpu_details</th>\n",
              "      <th>detachable_keyboard</th>\n",
              "      <th>discrete_gpu</th>\n",
              "      <th>gpu</th>\n",
              "      <th>os</th>\n",
              "      <th>os_details</th>\n",
              "      <th>ram</th>\n",
              "      <th>ssd</th>\n",
              "      <th>storage</th>\n",
              "      <th>weight</th>\n",
              "      <th>min_price</th>\n",
              "      <th>max_price</th>\n",
              "    </tr>\n",
              "  </thead>\n",
              "  <tbody>\n",
              "  </tbody>\n",
              "</table>\n",
              "</div>"
            ],
            "text/plain": [
              "Empty DataFrame\n",
              "Columns: [id, name, brand, base_name, screen_size, pixels_x, pixels_y, screen_surface, touchscreen, cpu, cpu_details, detachable_keyboard, discrete_gpu, gpu, os, os_details, ram, ssd, storage, weight, min_price, max_price]\n",
              "Index: []"
            ]
          },
          "metadata": {
            "tags": []
          },
          "execution_count": 26
        }
      ]
    },
    {
      "cell_type": "markdown",
      "metadata": {
        "id": "8HE4oHqMBSmi"
      },
      "source": [
        "### 1.2.2.c \"GPU\", \"OS\" and \"OS_DETAILS\" Column\n",
        "\n",
        "It was examined and added manually. "
      ]
    },
    {
      "cell_type": "code",
      "metadata": {
        "id": "BQfyc2N_LvmD",
        "outputId": "ab4f4030-c95e-4cff-f371-54e9f5b04559",
        "colab": {
          "base_uri": "https://localhost:8080/",
          "height": 102
        }
      },
      "source": [
        "# [ gpu , os , os_details  ] will be investigated. \n",
        "\n",
        "## GPU\n",
        "dfTrain[\"gpu\"].fillna(\"Intel HD\",inplace=True)\n",
        "\n",
        "## OS filling\n",
        "dfTrain.os.iloc[310]=\"Windows\"\n",
        "dfTrain.os.iloc[395]=\"macOS\"\n",
        "\n",
        "##OS DETAILS\n",
        "dfTrain.os_details.iloc[310]=\"Windows 10 Home\"\n",
        "dfTrain.os_details.iloc[395]=\"macOS Mojave\"\n",
        "\n",
        "\n"
      ],
      "execution_count": null,
      "outputs": [
        {
          "output_type": "stream",
          "text": [
            "/usr/local/lib/python3.6/dist-packages/pandas/core/indexing.py:671: SettingWithCopyWarning: \n",
            "A value is trying to be set on a copy of a slice from a DataFrame\n",
            "\n",
            "See the caveats in the documentation: https://pandas.pydata.org/pandas-docs/stable/user_guide/indexing.html#returning-a-view-versus-a-copy\n",
            "  self._setitem_with_indexer(indexer, value)\n"
          ],
          "name": "stderr"
        }
      ]
    },
    {
      "cell_type": "code",
      "metadata": {
        "id": "W7ug0feiorz4"
      },
      "source": [
        ""
      ],
      "execution_count": null,
      "outputs": []
    },
    {
      "cell_type": "markdown",
      "metadata": {
        "id": "oTgiy8C9CauV"
      },
      "source": [
        "# 1.3 Filling Missing Values in Test Set"
      ]
    },
    {
      "cell_type": "code",
      "metadata": {
        "id": "MeD6DoiF7bgB",
        "outputId": "e572a8e9-28db-4415-a091-8cf0f628882a",
        "colab": {
          "base_uri": "https://localhost:8080/",
          "height": 581
        }
      },
      "source": [
        "dfTest = pd.read_csv(\"test.csv\")\n",
        "dfTest.head()"
      ],
      "execution_count": null,
      "outputs": [
        {
          "output_type": "execute_result",
          "data": {
            "text/html": [
              "<div>\n",
              "<style scoped>\n",
              "    .dataframe tbody tr th:only-of-type {\n",
              "        vertical-align: middle;\n",
              "    }\n",
              "\n",
              "    .dataframe tbody tr th {\n",
              "        vertical-align: top;\n",
              "    }\n",
              "\n",
              "    .dataframe thead th {\n",
              "        text-align: right;\n",
              "    }\n",
              "</style>\n",
              "<table border=\"1\" class=\"dataframe\">\n",
              "  <thead>\n",
              "    <tr style=\"text-align: right;\">\n",
              "      <th></th>\n",
              "      <th>id</th>\n",
              "      <th>name</th>\n",
              "      <th>brand</th>\n",
              "      <th>base_name</th>\n",
              "      <th>screen_size</th>\n",
              "      <th>pixels_x</th>\n",
              "      <th>pixels_y</th>\n",
              "      <th>screen_surface</th>\n",
              "      <th>touchscreen</th>\n",
              "      <th>cpu</th>\n",
              "      <th>cpu_details</th>\n",
              "      <th>detachable_keyboard</th>\n",
              "      <th>discrete_gpu</th>\n",
              "      <th>gpu</th>\n",
              "      <th>os</th>\n",
              "      <th>os_details</th>\n",
              "      <th>ram</th>\n",
              "      <th>ssd</th>\n",
              "      <th>storage</th>\n",
              "      <th>weight</th>\n",
              "    </tr>\n",
              "  </thead>\n",
              "  <tbody>\n",
              "    <tr>\n",
              "      <th>0</th>\n",
              "      <td>28807</td>\n",
              "      <td>ASUS ZenBook Flip S Touchscreen Convertible La...</td>\n",
              "      <td>Asus</td>\n",
              "      <td>Asus ZenBook Flip S UX370UA</td>\n",
              "      <td>13.3</td>\n",
              "      <td>1920.0</td>\n",
              "      <td>1080.0</td>\n",
              "      <td>Glossy</td>\n",
              "      <td>1</td>\n",
              "      <td>Intel Core i7</td>\n",
              "      <td>Intel Core i7-8550U 1.8 GHz (8th gen Kaby Lake...</td>\n",
              "      <td>0</td>\n",
              "      <td>0</td>\n",
              "      <td>Intel UHD 620</td>\n",
              "      <td>Windows</td>\n",
              "      <td>Windows 10 Pro</td>\n",
              "      <td>16</td>\n",
              "      <td>512</td>\n",
              "      <td>512</td>\n",
              "      <td>2.42</td>\n",
              "    </tr>\n",
              "    <tr>\n",
              "      <th>1</th>\n",
              "      <td>22559</td>\n",
              "      <td>Dell Inspiron 15 Intel Core i3-7130U 8GB 1TB H...</td>\n",
              "      <td>Dell</td>\n",
              "      <td>Dell Inspiron 3567</td>\n",
              "      <td>15.6</td>\n",
              "      <td>1366.0</td>\n",
              "      <td>768.0</td>\n",
              "      <td>Matte</td>\n",
              "      <td>0</td>\n",
              "      <td>Intel Core i3</td>\n",
              "      <td>Intel Core i3-7130U 2.7 GHz (7th gen Kaby Lake...</td>\n",
              "      <td>0</td>\n",
              "      <td>0</td>\n",
              "      <td>Intel HD 620</td>\n",
              "      <td>Windows</td>\n",
              "      <td>Windows 10 Home</td>\n",
              "      <td>8</td>\n",
              "      <td>0</td>\n",
              "      <td>1000</td>\n",
              "      <td>4.95</td>\n",
              "    </tr>\n",
              "    <tr>\n",
              "      <th>2</th>\n",
              "      <td>28647</td>\n",
              "      <td>Asus Vivobook S15 S512 Thin and Light 15.6â€ ...</td>\n",
              "      <td>Asus</td>\n",
              "      <td>Asus VivoBook S512FA</td>\n",
              "      <td>15.6</td>\n",
              "      <td>1920.0</td>\n",
              "      <td>1080.0</td>\n",
              "      <td>Matte</td>\n",
              "      <td>0</td>\n",
              "      <td>Intel Core i7</td>\n",
              "      <td>Intel Core i7-8565U 1.8 GHz (8th gen Whiskey L...</td>\n",
              "      <td>0</td>\n",
              "      <td>0</td>\n",
              "      <td>Intel UHD 620</td>\n",
              "      <td>Windows</td>\n",
              "      <td>Windows 10 Home</td>\n",
              "      <td>8</td>\n",
              "      <td>256</td>\n",
              "      <td>1256</td>\n",
              "      <td>4.00</td>\n",
              "    </tr>\n",
              "    <tr>\n",
              "      <th>3</th>\n",
              "      <td>22141</td>\n",
              "      <td>HP 15.6\" HD Touchscreen Laptop PC, Intel Core ...</td>\n",
              "      <td>HP</td>\n",
              "      <td>HP</td>\n",
              "      <td>15.6</td>\n",
              "      <td>1366.0</td>\n",
              "      <td>768.0</td>\n",
              "      <td>Glossy</td>\n",
              "      <td>1</td>\n",
              "      <td>Intel Core i5</td>\n",
              "      <td>Intel Core i5-7200U 2.5 GHz (7th gen Kaby Lake...</td>\n",
              "      <td>0</td>\n",
              "      <td>0</td>\n",
              "      <td>Intel HD 620</td>\n",
              "      <td>Windows</td>\n",
              "      <td>Windows 10 Home</td>\n",
              "      <td>8</td>\n",
              "      <td>128</td>\n",
              "      <td>2128</td>\n",
              "      <td>4.52</td>\n",
              "    </tr>\n",
              "    <tr>\n",
              "      <th>4</th>\n",
              "      <td>26116</td>\n",
              "      <td>MSI GS75 Stealth-093 17.3\" Razor Thin Bezel Ga...</td>\n",
              "      <td>MSI</td>\n",
              "      <td>MSI GS75 Stealth</td>\n",
              "      <td>17.3</td>\n",
              "      <td>1920.0</td>\n",
              "      <td>1080.0</td>\n",
              "      <td>Matte</td>\n",
              "      <td>0</td>\n",
              "      <td>Intel Core i7</td>\n",
              "      <td>Intel Core i7-8750H 2.2 GHz (8th gen Coffee La...</td>\n",
              "      <td>0</td>\n",
              "      <td>1</td>\n",
              "      <td>NVIDIA GeForce RTX 2080 Max-Q</td>\n",
              "      <td>Windows</td>\n",
              "      <td>Windows 10 Home</td>\n",
              "      <td>32</td>\n",
              "      <td>512</td>\n",
              "      <td>512</td>\n",
              "      <td>4.96</td>\n",
              "    </tr>\n",
              "  </tbody>\n",
              "</table>\n",
              "</div>"
            ],
            "text/plain": [
              "      id                                               name  ... storage weight\n",
              "0  28807  ASUS ZenBook Flip S Touchscreen Convertible La...  ...     512   2.42\n",
              "1  22559  Dell Inspiron 15 Intel Core i3-7130U 8GB 1TB H...  ...    1000   4.95\n",
              "2  28647  Asus Vivobook S15 S512 Thin and Light 15.6â€ ...  ...    1256   4.00\n",
              "3  22141  HP 15.6\" HD Touchscreen Laptop PC, Intel Core ...  ...    2128   4.52\n",
              "4  26116  MSI GS75 Stealth-093 17.3\" Razor Thin Bezel Ga...  ...     512   4.96\n",
              "\n",
              "[5 rows x 20 columns]"
            ]
          },
          "metadata": {
            "tags": []
          },
          "execution_count": 28
        }
      ]
    },
    {
      "cell_type": "code",
      "metadata": {
        "id": "ebCrOFIK7fIS",
        "outputId": "b851b160-65d8-4c75-89cb-e5fbaba86627",
        "colab": {
          "base_uri": "https://localhost:8080/",
          "height": 297
        }
      },
      "source": [
        "# Examine Numerical Columns \n",
        "dfTest.describe()"
      ],
      "execution_count": null,
      "outputs": [
        {
          "output_type": "execute_result",
          "data": {
            "text/html": [
              "<div>\n",
              "<style scoped>\n",
              "    .dataframe tbody tr th:only-of-type {\n",
              "        vertical-align: middle;\n",
              "    }\n",
              "\n",
              "    .dataframe tbody tr th {\n",
              "        vertical-align: top;\n",
              "    }\n",
              "\n",
              "    .dataframe thead th {\n",
              "        text-align: right;\n",
              "    }\n",
              "</style>\n",
              "<table border=\"1\" class=\"dataframe\">\n",
              "  <thead>\n",
              "    <tr style=\"text-align: right;\">\n",
              "      <th></th>\n",
              "      <th>id</th>\n",
              "      <th>screen_size</th>\n",
              "      <th>pixels_x</th>\n",
              "      <th>pixels_y</th>\n",
              "      <th>touchscreen</th>\n",
              "      <th>detachable_keyboard</th>\n",
              "      <th>discrete_gpu</th>\n",
              "      <th>ram</th>\n",
              "      <th>ssd</th>\n",
              "      <th>storage</th>\n",
              "      <th>weight</th>\n",
              "    </tr>\n",
              "  </thead>\n",
              "  <tbody>\n",
              "    <tr>\n",
              "      <th>count</th>\n",
              "      <td>222.000000</td>\n",
              "      <td>222.000000</td>\n",
              "      <td>220.000000</td>\n",
              "      <td>220.000000</td>\n",
              "      <td>222.000000</td>\n",
              "      <td>222.000000</td>\n",
              "      <td>222.000000</td>\n",
              "      <td>222.000000</td>\n",
              "      <td>222.000000</td>\n",
              "      <td>222.000000</td>\n",
              "      <td>221.000000</td>\n",
              "    </tr>\n",
              "    <tr>\n",
              "      <th>mean</th>\n",
              "      <td>21760.477477</td>\n",
              "      <td>14.555315</td>\n",
              "      <td>1839.363636</td>\n",
              "      <td>1057.145455</td>\n",
              "      <td>0.373874</td>\n",
              "      <td>0.045045</td>\n",
              "      <td>0.333333</td>\n",
              "      <td>10.405405</td>\n",
              "      <td>223.261261</td>\n",
              "      <td>573.405405</td>\n",
              "      <td>4.174434</td>\n",
              "    </tr>\n",
              "    <tr>\n",
              "      <th>std</th>\n",
              "      <td>7343.771132</td>\n",
              "      <td>1.627806</td>\n",
              "      <td>495.056175</td>\n",
              "      <td>320.912962</td>\n",
              "      <td>0.484924</td>\n",
              "      <td>0.207872</td>\n",
              "      <td>0.472470</td>\n",
              "      <td>6.825396</td>\n",
              "      <td>260.033472</td>\n",
              "      <td>488.942351</td>\n",
              "      <td>1.347319</td>\n",
              "    </tr>\n",
              "    <tr>\n",
              "      <th>min</th>\n",
              "      <td>3900.000000</td>\n",
              "      <td>10.000000</td>\n",
              "      <td>1280.000000</td>\n",
              "      <td>768.000000</td>\n",
              "      <td>0.000000</td>\n",
              "      <td>0.000000</td>\n",
              "      <td>0.000000</td>\n",
              "      <td>2.000000</td>\n",
              "      <td>0.000000</td>\n",
              "      <td>16.000000</td>\n",
              "      <td>1.150000</td>\n",
              "    </tr>\n",
              "    <tr>\n",
              "      <th>25%</th>\n",
              "      <td>17743.250000</td>\n",
              "      <td>13.300000</td>\n",
              "      <td>1366.000000</td>\n",
              "      <td>768.000000</td>\n",
              "      <td>0.000000</td>\n",
              "      <td>0.000000</td>\n",
              "      <td>0.000000</td>\n",
              "      <td>4.000000</td>\n",
              "      <td>0.000000</td>\n",
              "      <td>136.000000</td>\n",
              "      <td>3.020000</td>\n",
              "    </tr>\n",
              "    <tr>\n",
              "      <th>50%</th>\n",
              "      <td>23714.500000</td>\n",
              "      <td>15.600000</td>\n",
              "      <td>1920.000000</td>\n",
              "      <td>1080.000000</td>\n",
              "      <td>0.000000</td>\n",
              "      <td>0.000000</td>\n",
              "      <td>0.000000</td>\n",
              "      <td>8.000000</td>\n",
              "      <td>128.000000</td>\n",
              "      <td>500.000000</td>\n",
              "      <td>4.300000</td>\n",
              "    </tr>\n",
              "    <tr>\n",
              "      <th>75%</th>\n",
              "      <td>27110.250000</td>\n",
              "      <td>15.600000</td>\n",
              "      <td>1920.000000</td>\n",
              "      <td>1080.000000</td>\n",
              "      <td>1.000000</td>\n",
              "      <td>0.000000</td>\n",
              "      <td>1.000000</td>\n",
              "      <td>16.000000</td>\n",
              "      <td>256.000000</td>\n",
              "      <td>1000.000000</td>\n",
              "      <td>4.850000</td>\n",
              "    </tr>\n",
              "    <tr>\n",
              "      <th>max</th>\n",
              "      <td>31424.000000</td>\n",
              "      <td>17.300000</td>\n",
              "      <td>3840.000000</td>\n",
              "      <td>2160.000000</td>\n",
              "      <td>1.000000</td>\n",
              "      <td>1.000000</td>\n",
              "      <td>1.000000</td>\n",
              "      <td>32.000000</td>\n",
              "      <td>1500.000000</td>\n",
              "      <td>2500.000000</td>\n",
              "      <td>9.740000</td>\n",
              "    </tr>\n",
              "  </tbody>\n",
              "</table>\n",
              "</div>"
            ],
            "text/plain": [
              "                 id  screen_size  ...      storage      weight\n",
              "count    222.000000   222.000000  ...   222.000000  221.000000\n",
              "mean   21760.477477    14.555315  ...   573.405405    4.174434\n",
              "std     7343.771132     1.627806  ...   488.942351    1.347319\n",
              "min     3900.000000    10.000000  ...    16.000000    1.150000\n",
              "25%    17743.250000    13.300000  ...   136.000000    3.020000\n",
              "50%    23714.500000    15.600000  ...   500.000000    4.300000\n",
              "75%    27110.250000    15.600000  ...  1000.000000    4.850000\n",
              "max    31424.000000    17.300000  ...  2500.000000    9.740000\n",
              "\n",
              "[8 rows x 11 columns]"
            ]
          },
          "metadata": {
            "tags": []
          },
          "execution_count": 29
        }
      ]
    },
    {
      "cell_type": "code",
      "metadata": {
        "id": "nLBiMMub1NdM",
        "outputId": "1f2e3cac-6679-427e-d191-679e1df0d597",
        "colab": {
          "base_uri": "https://localhost:8080/",
          "height": 190
        }
      },
      "source": [
        "# Examine Categorical Columns \n",
        "dfTest.describe(include = \"object\")"
      ],
      "execution_count": null,
      "outputs": [
        {
          "output_type": "execute_result",
          "data": {
            "text/html": [
              "<div>\n",
              "<style scoped>\n",
              "    .dataframe tbody tr th:only-of-type {\n",
              "        vertical-align: middle;\n",
              "    }\n",
              "\n",
              "    .dataframe tbody tr th {\n",
              "        vertical-align: top;\n",
              "    }\n",
              "\n",
              "    .dataframe thead th {\n",
              "        text-align: right;\n",
              "    }\n",
              "</style>\n",
              "<table border=\"1\" class=\"dataframe\">\n",
              "  <thead>\n",
              "    <tr style=\"text-align: right;\">\n",
              "      <th></th>\n",
              "      <th>name</th>\n",
              "      <th>brand</th>\n",
              "      <th>base_name</th>\n",
              "      <th>screen_surface</th>\n",
              "      <th>cpu</th>\n",
              "      <th>cpu_details</th>\n",
              "      <th>gpu</th>\n",
              "      <th>os</th>\n",
              "      <th>os_details</th>\n",
              "    </tr>\n",
              "  </thead>\n",
              "  <tbody>\n",
              "    <tr>\n",
              "      <th>count</th>\n",
              "      <td>222</td>\n",
              "      <td>222</td>\n",
              "      <td>222</td>\n",
              "      <td>218</td>\n",
              "      <td>222</td>\n",
              "      <td>222</td>\n",
              "      <td>222</td>\n",
              "      <td>222</td>\n",
              "      <td>222</td>\n",
              "    </tr>\n",
              "    <tr>\n",
              "      <th>unique</th>\n",
              "      <td>221</td>\n",
              "      <td>15</td>\n",
              "      <td>196</td>\n",
              "      <td>4</td>\n",
              "      <td>17</td>\n",
              "      <td>84</td>\n",
              "      <td>59</td>\n",
              "      <td>3</td>\n",
              "      <td>14</td>\n",
              "    </tr>\n",
              "    <tr>\n",
              "      <th>top</th>\n",
              "      <td>Dell Inspiron 15 5000 Series  15.6 Inch Laptop...</td>\n",
              "      <td>Asus</td>\n",
              "      <td>Asus TUF Gaming FX504</td>\n",
              "      <td>Glossy</td>\n",
              "      <td>Intel Core i7</td>\n",
              "      <td>Intel Core i7-8750H 2.2 GHz (8th gen Coffee La...</td>\n",
              "      <td>Intel UHD 620</td>\n",
              "      <td>Windows</td>\n",
              "      <td>Windows 10 Home</td>\n",
              "    </tr>\n",
              "    <tr>\n",
              "      <th>freq</th>\n",
              "      <td>2</td>\n",
              "      <td>39</td>\n",
              "      <td>4</td>\n",
              "      <td>105</td>\n",
              "      <td>84</td>\n",
              "      <td>21</td>\n",
              "      <td>28</td>\n",
              "      <td>193</td>\n",
              "      <td>107</td>\n",
              "    </tr>\n",
              "  </tbody>\n",
              "</table>\n",
              "</div>"
            ],
            "text/plain": [
              "                                                     name  ...       os_details\n",
              "count                                                 222  ...              222\n",
              "unique                                                221  ...               14\n",
              "top     Dell Inspiron 15 5000 Series  15.6 Inch Laptop...  ...  Windows 10 Home\n",
              "freq                                                    2  ...              107\n",
              "\n",
              "[4 rows x 9 columns]"
            ]
          },
          "metadata": {
            "tags": []
          },
          "execution_count": 30
        }
      ]
    },
    {
      "cell_type": "markdown",
      "metadata": {
        "id": "W5jZSi3xDRGg"
      },
      "source": [
        "# 1.3.1 Numerical Columns - Missing Data \n",
        "Columns need to investigated :  [ pixels_x,pixels_y, screen_surface, weight ] \n",
        "\n",
        "### 1.3.1.a. Pixel X and Pixel Y Columns\n",
        "\n",
        "In these columns, mode of the both columns according to training dataset were used. "
      ]
    },
    {
      "cell_type": "code",
      "metadata": {
        "id": "WmI4kgzewRDU",
        "outputId": "e4fe62e4-5c08-4518-962f-a4b5ba58c33c",
        "colab": {
          "base_uri": "https://localhost:8080/",
          "height": 51
        }
      },
      "source": [
        "## Fill pixels_x,pixels_y,\n",
        "\n",
        "# Missing values at test set contains screen size 14.  \n",
        "dfTmp = dfTrain[dfTrain['screen_size'] == 14]\n",
        "dfTmpX = dfTmp['pixels_x'].mode()[0]\n",
        "dfTmpY = dfTmp['pixels_y'].mode()[0]\n",
        "\n",
        "print(\"Mode of pixel X is \" + str(dfTmpX))  \n",
        "print(\"Mode of pixel Y is \" + str(dfTmpY)) \n",
        "\n",
        "\n",
        "dfTest['pixels_x'].fillna(dfTmpX, inplace=True)\n",
        "dfTest['pixels_y'].fillna(dfTmpY, inplace=True)\n",
        "\n"
      ],
      "execution_count": null,
      "outputs": [
        {
          "output_type": "stream",
          "text": [
            "Mode of pixel X is 1920\n",
            "Mode of pixel Y is 1080\n"
          ],
          "name": "stdout"
        }
      ]
    },
    {
      "cell_type": "markdown",
      "metadata": {
        "id": "OXLi5ClLD8JR"
      },
      "source": [
        "### 1.3.1.b. Screen Surface Column"
      ]
    },
    {
      "cell_type": "code",
      "metadata": {
        "id": "vBM3kgsqxW60",
        "outputId": "68fb973a-e40c-44ee-a67d-620e8b35c2be",
        "colab": {
          "base_uri": "https://localhost:8080/",
          "height": 68
        }
      },
      "source": [
        "# Edit typo in screen_surface column. \n",
        "print(\"pre-editing : \" + str(dfTest['screen_surface'].unique()))\n",
        "# It includes some typo elements such as Glossy  and  glossy. Let's correct them. \n",
        "dfTest[\"screen_surface\"].replace({\"glossy\": \"Glossy\"}, inplace=True)\n",
        "dfTest[\"screen_surface\"].replace({\"matte\": \"Matte\"}, inplace=True)\n",
        "print(\"post-editing : \" + str(dfTest['screen_surface'].unique()))\n",
        "\n",
        "\n",
        "## Fill screen_surface\n",
        "dfTest['screen_surface'].fillna(dfTrain['screen_surface'].mode()[0], inplace=True)\n",
        "print(\"Missing values are filled in screen_surface column of test data\")"
      ],
      "execution_count": null,
      "outputs": [
        {
          "output_type": "stream",
          "text": [
            "pre-editing : ['Glossy' 'Matte' 'glossy' nan 'matte']\n",
            "post-editing : ['Glossy' 'Matte' nan]\n",
            "Missing values are filled in screen_surface column of test data\n"
          ],
          "name": "stdout"
        }
      ]
    },
    {
      "cell_type": "markdown",
      "metadata": {
        "id": "qcAnWWsxEM98"
      },
      "source": [
        "### 1.3.1.c. WEIGHT Column"
      ]
    },
    {
      "cell_type": "code",
      "metadata": {
        "id": "C_wUtM6gyVuJ",
        "outputId": "1adc19f2-5ebc-4ae4-8f1e-47e437985569",
        "colab": {
          "base_uri": "https://localhost:8080/",
          "height": 68
        }
      },
      "source": [
        "# ## Fill weight \n",
        "#print(\"\\nMost frequent element of weight column is : \" + str(dfTrain['weight'].mode()[0]))\n",
        "\n",
        "#dfTest['weight'].fillna(dfTrain['weight'].mode()[0], inplace=True)\n",
        "#print(\"\\nMissing data is filled in test data\") \n",
        "\n",
        "tmpFrameTest = dfTest[dfTest['weight'].isnull()]\n",
        "tmpListTest = list()\n",
        "\n",
        "tmpListTest = tmpFrameTest[[\"screen_size\", \"touchscreen\", \"detachable_keyboard\",\"discrete_gpu\", \"ram\"\t, \"storage\"]]\n",
        "\n",
        "\n",
        "# Model is already generated in the training data part.(upper*)\n",
        "tmpPredictTest=model.predict(tmpListTest)\n",
        "\n",
        "ndX = 0 \n",
        "# update predicted values. \n",
        "\n",
        "for index, row in dfTest.iterrows():\n",
        "    if(pd.isnull(row['weight'])):\n",
        "        print('There is a missing value')\n",
        "        dfTest.loc[index, 'weight'] = tmpPredictTest[ndX]\n",
        "        print('It is filled.\\n')\n",
        "        ndX = ndX + 1 \n",
        "\n",
        "\n",
        "\n",
        "\n"
      ],
      "execution_count": null,
      "outputs": [
        {
          "output_type": "stream",
          "text": [
            "There is a missing value\n",
            "It is filled.\n",
            "\n"
          ],
          "name": "stdout"
        }
      ]
    },
    {
      "cell_type": "code",
      "metadata": {
        "id": "Kt92Zb0agTRW",
        "outputId": "a284eba5-c950-4ce5-822b-105b5528a327",
        "colab": {
          "base_uri": "https://localhost:8080/",
          "height": 51
        }
      },
      "source": [
        "# Print traning and test data respectively. \n",
        "print(\"Training Data Shape is : \" +  str(dfTrain.shape))\n",
        "print(\"Test Data Shape is : \" + str(dfTest.shape))"
      ],
      "execution_count": null,
      "outputs": [
        {
          "output_type": "stream",
          "text": [
            "Training Data Shape is : (510, 22)\n",
            "Test Data Shape is : (222, 20)\n"
          ],
          "name": "stdout"
        }
      ]
    },
    {
      "cell_type": "code",
      "metadata": {
        "id": "qF2_UgZpGIvF",
        "outputId": "dc1a8bf4-434a-4892-fa5f-3914320349a7",
        "colab": {
          "base_uri": "https://localhost:8080/",
          "height": 678
        }
      },
      "source": [
        "# Visualize missing values as a matrix \n",
        "import missingno as msno \n",
        "msno.matrix(dfTrain) "
      ],
      "execution_count": null,
      "outputs": [
        {
          "output_type": "stream",
          "text": [
            "/usr/local/lib/python3.6/dist-packages/statsmodels/tools/_testing.py:19: FutureWarning: pandas.util.testing is deprecated. Use the functions in the public API at pandas.testing instead.\n",
            "  import pandas.util.testing as tm\n"
          ],
          "name": "stderr"
        },
        {
          "output_type": "execute_result",
          "data": {
            "text/plain": [
              "<matplotlib.axes._subplots.AxesSubplot at 0x7f7f1e0c8470>"
            ]
          },
          "metadata": {
            "tags": []
          },
          "execution_count": 35
        },
        {
          "output_type": "display_data",
          "data": {
            "image/png": "[encoded data removed]",
            "text/plain": [
              "<Figure size 1800x720 with 2 Axes>"
            ]
          },
          "metadata": {
            "tags": [],
            "needs_background": "light"
          }
        }
      ]
    },
    {
      "cell_type": "code",
      "metadata": {
        "id": "qUJGsMSAGMaD",
        "outputId": "6ecb0cd4-dc16-4822-e890-b4958a5ffb3e",
        "colab": {
          "base_uri": "https://localhost:8080/",
          "height": 623
        }
      },
      "source": [
        "# Visualize missing values as a matrix \n",
        "import missingno as msno \n",
        "msno.matrix(dfTest) "
      ],
      "execution_count": null,
      "outputs": [
        {
          "output_type": "execute_result",
          "data": {
            "text/plain": [
              "<matplotlib.axes._subplots.AxesSubplot at 0x7f7f1b831d68>"
            ]
          },
          "metadata": {
            "tags": []
          },
          "execution_count": 36
        },
        {
          "output_type": "display_data",
          "data": {
            "image/png": "[encoded data removed]",
            "text/plain": [
              "<Figure size 1800x720 with 2 Axes>"
            ]
          },
          "metadata": {
            "tags": [],
            "needs_background": "light"
          }
        }
      ]
    },
    {
      "cell_type": "markdown",
      "metadata": {
        "id": "DhOtT33KTS4t"
      },
      "source": [
        "# 1.4 Pre-Model Settings\n",
        "Drop id columns of test and train data. Then, seperate Target column from training data. "
      ]
    },
    {
      "cell_type": "code",
      "metadata": {
        "id": "gj_4MmnaJmg7",
        "outputId": "efc2f95c-5eb2-4d46-d070-3ee324b6c884",
        "colab": {
          "base_uri": "https://localhost:8080/",
          "height": 51
        }
      },
      "source": [
        "# After missing data is filled, let's start to generate model. \n",
        "# Before doing it we need to convert categorical data into numerical one. \n",
        "dfTrain_ = dfTrain\n",
        "\n",
        "dfTrain_ = dfTrain_.drop('id', 1)\n",
        "dfTrain_ = dfTrain_.drop('min_price', 1)\n",
        "dfTrain_ = dfTrain_.drop('max_price', 1)\n",
        "\n",
        "dfTest_ = dfTest.drop('id', 1)\n",
        "\n",
        "#Train data\n",
        "print (\"Train data shape is \" + str (dfTrain_.shape))\n",
        "\n",
        "# Test data\n",
        "print (\"Test data shape is \" + str (dfTest_.shape))\n",
        "\n"
      ],
      "execution_count": null,
      "outputs": [
        {
          "output_type": "stream",
          "text": [
            "Train data shape is (510, 19)\n",
            "Test data shape is (222, 19)\n"
          ],
          "name": "stdout"
        }
      ]
    },
    {
      "cell_type": "markdown",
      "metadata": {
        "id": "EdvbuoIAFZnB"
      },
      "source": [
        "# 1.5 Feature Engineering \n",
        "After missing data cases were handled, let's focus on to create some meaningful features. "
      ]
    },
    {
      "cell_type": "markdown",
      "metadata": {
        "id": "FMw3iGPXFmOb"
      },
      "source": [
        "### 1.5.1 Name Column\n",
        "It is obvious that gaming computer affects price significantly so that let's add a column which specifies computer as gaming or Not. \n"
      ]
    },
    {
      "cell_type": "code",
      "metadata": {
        "id": "LFR8YWWpVuuH",
        "outputId": "2a2215ea-2137-40c6-ce33-046263ba522f",
        "colab": {
          "base_uri": "https://localhost:8080/",
          "height": 85
        }
      },
      "source": [
        "# Name column contains huge information. Let's add a column which specifies it as gaming or not. \n",
        "dfTrain_['name'] = dfTrain_['name'].str.lower()\n",
        "dfTrain_['gaming_info'] = 0 \n",
        "say = 0 \n",
        "for index, row in dfTrain_.iterrows():\n",
        "    if ('gaming' in row['name']) or ('nvidia geforce' in row['name']) :\n",
        "        dfTrain_.loc[index, 'gaming_info'] = 1\n",
        "        say = say + 1 \n",
        "\n",
        "print(\"Training - Number of gaming computers are : \" + str (say))\n",
        "\n",
        "\n",
        "\n",
        "# Name column contains huge information. Let's add a column which specifies it as gaming or not. \n",
        "dfTest_['name'] = dfTest_['name'].str.lower()\n",
        "dfTest_['gaming_info'] = 0 \n",
        "say = 0 \n",
        "for index, row in dfTest_.iterrows():\n",
        "    if ('gaming' in row['name']) or ('nvidia geforce' in row['name']) :\n",
        "        dfTest_.loc[index, 'gaming_info'] = 1\n",
        "        say = say + 1 \n",
        "\n",
        "print(\"Test - Number of gaming computers are : \" + str (say))\n",
        "print(\" \")\n",
        "print(\" Gaming Info Column was generated for modeling... \")"
      ],
      "execution_count": null,
      "outputs": [
        {
          "output_type": "stream",
          "text": [
            "Training - Number of gaming computers are : 115\n",
            "Test - Number of gaming computers are : 57\n",
            " \n",
            " Gaming Info Column was generated for modeling... \n"
          ],
          "name": "stdout"
        }
      ]
    },
    {
      "cell_type": "code",
      "metadata": {
        "id": "CG8dnkRzq5qm",
        "outputId": "376970e6-efb2-4f90-951b-a60ea35b4cc3",
        "colab": {
          "base_uri": "https://localhost:8080/",
          "height": 513
        }
      },
      "source": [
        "dfTrain_.head()"
      ],
      "execution_count": null,
      "outputs": [
        {
          "output_type": "execute_result",
          "data": {
            "text/html": [
              "<div>\n",
              "<style scoped>\n",
              "    .dataframe tbody tr th:only-of-type {\n",
              "        vertical-align: middle;\n",
              "    }\n",
              "\n",
              "    .dataframe tbody tr th {\n",
              "        vertical-align: top;\n",
              "    }\n",
              "\n",
              "    .dataframe thead th {\n",
              "        text-align: right;\n",
              "    }\n",
              "</style>\n",
              "<table border=\"1\" class=\"dataframe\">\n",
              "  <thead>\n",
              "    <tr style=\"text-align: right;\">\n",
              "      <th></th>\n",
              "      <th>name</th>\n",
              "      <th>brand</th>\n",
              "      <th>base_name</th>\n",
              "      <th>screen_size</th>\n",
              "      <th>pixels_x</th>\n",
              "      <th>pixels_y</th>\n",
              "      <th>screen_surface</th>\n",
              "      <th>touchscreen</th>\n",
              "      <th>cpu</th>\n",
              "      <th>cpu_details</th>\n",
              "      <th>detachable_keyboard</th>\n",
              "      <th>discrete_gpu</th>\n",
              "      <th>gpu</th>\n",
              "      <th>os</th>\n",
              "      <th>os_details</th>\n",
              "      <th>ram</th>\n",
              "      <th>ssd</th>\n",
              "      <th>storage</th>\n",
              "      <th>weight</th>\n",
              "      <th>gaming_info</th>\n",
              "    </tr>\n",
              "  </thead>\n",
              "  <tbody>\n",
              "    <tr>\n",
              "      <th>0</th>\n",
              "      <td>lenovo flex 3 15.6-inch touchscreen laptop (co...</td>\n",
              "      <td>Lenovo</td>\n",
              "      <td>Lenovo Flex 3 80JM002CUS</td>\n",
              "      <td>15.6</td>\n",
              "      <td>1920</td>\n",
              "      <td>1080</td>\n",
              "      <td>Glossy</td>\n",
              "      <td>1</td>\n",
              "      <td>Intel Core i7</td>\n",
              "      <td>Intel Core i7-5500U 2.40 GHz (5th gen Broadwel...</td>\n",
              "      <td>0.0</td>\n",
              "      <td>0</td>\n",
              "      <td>Intel HD</td>\n",
              "      <td>Windows</td>\n",
              "      <td>Windows 10</td>\n",
              "      <td>8</td>\n",
              "      <td>0</td>\n",
              "      <td>1000</td>\n",
              "      <td>4.60</td>\n",
              "      <td>0</td>\n",
              "    </tr>\n",
              "    <tr>\n",
              "      <th>1</th>\n",
              "      <td>razer blade 15 gaming laptop: intel core i7-87...</td>\n",
              "      <td>Razer</td>\n",
              "      <td>Razer Blade 15</td>\n",
              "      <td>15.6</td>\n",
              "      <td>1920</td>\n",
              "      <td>1080</td>\n",
              "      <td>Matte</td>\n",
              "      <td>0</td>\n",
              "      <td>Intel Core i7</td>\n",
              "      <td>Intel Core i7-8750H 2.2 GHz (8th gen Coffee La...</td>\n",
              "      <td>0.0</td>\n",
              "      <td>1</td>\n",
              "      <td>NVIDIA GeForce RTX 2070 Max-Q</td>\n",
              "      <td>Windows</td>\n",
              "      <td>Windows 10 Home</td>\n",
              "      <td>16</td>\n",
              "      <td>512</td>\n",
              "      <td>512</td>\n",
              "      <td>4.63</td>\n",
              "      <td>1</td>\n",
              "    </tr>\n",
              "    <tr>\n",
              "      <th>2</th>\n",
              "      <td>hp 15.6 inch hd thin and light laptop ( 7th ge...</td>\n",
              "      <td>HP</td>\n",
              "      <td>HP</td>\n",
              "      <td>15.6</td>\n",
              "      <td>1366</td>\n",
              "      <td>768</td>\n",
              "      <td>Glossy</td>\n",
              "      <td>0</td>\n",
              "      <td>AMD A6</td>\n",
              "      <td>AMD A6-9220 2.5 GHz (7th gen Stoney Ridge Dual...</td>\n",
              "      <td>0.0</td>\n",
              "      <td>0</td>\n",
              "      <td>AMD Radeon R4</td>\n",
              "      <td>Windows</td>\n",
              "      <td>Windows 10</td>\n",
              "      <td>8</td>\n",
              "      <td>0</td>\n",
              "      <td>500</td>\n",
              "      <td>4.63</td>\n",
              "      <td>0</td>\n",
              "    </tr>\n",
              "    <tr>\n",
              "      <th>3</th>\n",
              "      <td>acer aspire e 15, 15.6\" full hd, 8th gen intel...</td>\n",
              "      <td>Acer</td>\n",
              "      <td>Acer Aspire E5-576</td>\n",
              "      <td>15.6</td>\n",
              "      <td>1920</td>\n",
              "      <td>1080</td>\n",
              "      <td>Matte</td>\n",
              "      <td>0</td>\n",
              "      <td>Intel Core i3</td>\n",
              "      <td>Intel Core i3-8130U 2.2 GHz (8th gen Kaby Lake...</td>\n",
              "      <td>0.0</td>\n",
              "      <td>0</td>\n",
              "      <td>Intel UHD 620</td>\n",
              "      <td>Windows</td>\n",
              "      <td>Windows 10 Home</td>\n",
              "      <td>6</td>\n",
              "      <td>0</td>\n",
              "      <td>1000</td>\n",
              "      <td>5.30</td>\n",
              "      <td>0</td>\n",
              "    </tr>\n",
              "    <tr>\n",
              "      <th>4</th>\n",
              "      <td>hp 17.3 inch (1600 x 900) hd+ laptop pc, intel...</td>\n",
              "      <td>HP</td>\n",
              "      <td>HP 17</td>\n",
              "      <td>17.3</td>\n",
              "      <td>1600</td>\n",
              "      <td>900</td>\n",
              "      <td>Glossy</td>\n",
              "      <td>0</td>\n",
              "      <td>Intel Core i5</td>\n",
              "      <td>Intel Core i5-7200U 2.5 GHz (7th gen Kaby Lake...</td>\n",
              "      <td>0.0</td>\n",
              "      <td>0</td>\n",
              "      <td>Intel HD 620</td>\n",
              "      <td>Windows</td>\n",
              "      <td>Windows 10</td>\n",
              "      <td>8</td>\n",
              "      <td>0</td>\n",
              "      <td>1000</td>\n",
              "      <td>5.80</td>\n",
              "      <td>0</td>\n",
              "    </tr>\n",
              "  </tbody>\n",
              "</table>\n",
              "</div>"
            ],
            "text/plain": [
              "                                                name  ... gaming_info\n",
              "0  lenovo flex 3 15.6-inch touchscreen laptop (co...  ...           0\n",
              "1  razer blade 15 gaming laptop: intel core i7-87...  ...           1\n",
              "2  hp 15.6 inch hd thin and light laptop ( 7th ge...  ...           0\n",
              "3  acer aspire e 15, 15.6\" full hd, 8th gen intel...  ...           0\n",
              "4  hp 17.3 inch (1600 x 900) hd+ laptop pc, intel...  ...           0\n",
              "\n",
              "[5 rows x 20 columns]"
            ]
          },
          "metadata": {
            "tags": []
          },
          "execution_count": 39
        }
      ]
    },
    {
      "cell_type": "code",
      "metadata": {
        "id": "LzXTFBTWohe6",
        "outputId": "20ddcb11-a1ba-45e0-a651-7e04204f9c12",
        "colab": {
          "base_uri": "https://localhost:8080/",
          "height": 54
        }
      },
      "source": [
        "\"\"\" # Name column contains huge information. Let's add a column which specifies it as gaming or not. \n",
        "# It need some update. Do not RUN it for now. \n",
        "\n",
        "import re \n",
        "\n",
        "dfTrain['cpu_avg'] = 0 \n",
        "\n",
        "def digit_sum(n):\n",
        "    num_str = str(n)\n",
        "    sum = 0\n",
        "    countNonZ = 0 \n",
        "    for i in range(0, len(num_str)):\n",
        "        sum += int(num_str[i])\n",
        "        if num_str[i] != \"0\":\n",
        "         countNonZ = countNonZ + 1 \n",
        "    return sum/countNonZ\n",
        "\n",
        "\n",
        "for index, row in dfTrain.iterrows():\n",
        "        digitOnly = re.sub(\"[^0-9]\", \"\", row['cpu_details'])\n",
        "        if digitOnly == '':\n",
        "         dfTrain.loc[index, 'cpu_avg'] = None\n",
        "        else: \n",
        "         dfTrain.loc[index, 'cpu_avg'] = digit_sum(int(digitOnly)) \"\"\" \n",
        "\n",
        "\n"
      ],
      "execution_count": null,
      "outputs": [
        {
          "output_type": "execute_result",
          "data": {
            "text/plain": [
              "' #\\xa0Name column contains huge information. Let\\'s add a column which specifies it as gaming or not. \\n#\\xa0It need some update. Do not RUN it for now. \\n\\nimport re \\n\\ndfTrain[\\'cpu_avg\\'] = 0 \\n\\ndef digit_sum(n):\\n    num_str = str(n)\\n    sum = 0\\n    countNonZ = 0 \\n    for i in range(0, len(num_str)):\\n        sum += int(num_str[i])\\n        if num_str[i] != \"0\":\\n         countNonZ = countNonZ + 1 \\n    return sum/countNonZ\\n\\n\\nfor index, row in dfTrain.iterrows():\\n        digitOnly = re.sub(\"[^0-9]\", \"\", row[\\'cpu_details\\'])\\n        if digitOnly == \\'\\':\\n         dfTrain.loc[index, \\'cpu_avg\\'] = None\\n        else: \\n         dfTrain.loc[index, \\'cpu_avg\\'] = digit_sum(int(digitOnly)) '"
            ]
          },
          "metadata": {
            "tags": []
          },
          "execution_count": 32
        }
      ]
    },
    {
      "cell_type": "markdown",
      "metadata": {
        "id": "7g-231-zU1wZ"
      },
      "source": [
        "# 1.6 Categorical to Numerical Conversion \n",
        "When we look at the data columns, there are 9 columns which need to be converted to numerical type. These are [name, brand, base_name, screen_surface, cpu, cpu_details, gpu, os, os_details]. \n",
        "\n",
        "### 1.6.1 Screen Surface Column \n",
        "\n",
        "It is the most easy one. It has 2 categories. Convert it to binary form. "
      ]
    },
    {
      "cell_type": "code",
      "metadata": {
        "id": "JGXMyYt4U6-b",
        "outputId": "d7bb3bd1-5348-4b13-9f09-819bfdcb845e",
        "colab": {
          "base_uri": "https://localhost:8080/",
          "height": 51
        }
      },
      "source": [
        "# Categorical to Numerical Column Conversion. \n",
        "# [name, brand, base_name, screen_surface, cpu, cpu_details, gpu, os, os_details]\n",
        "# The first column is screen_surface column. \n",
        "\n",
        "\n",
        "print( \"BEFORE - Possible Outcomes of screen surface is : \" + str ( dfTrain_['screen_surface'].unique()))\n",
        "\n",
        "# Create a dictionary for it. \n",
        "screen_surface = {\n",
        "     'Glossy' : '0',\n",
        "     'Matte' : '1',\n",
        "     }\n",
        "\n",
        "# Remap the values of the dataframe \n",
        "dfTrain_.replace({\"screen_surface\": screen_surface}, inplace=True) \n",
        "\n",
        "print( \"AFTER - Possible Outcomes of screen surface is : \" + str ( dfTrain_['screen_surface'].unique()))\n",
        "\n",
        "\n",
        "\n"
      ],
      "execution_count": null,
      "outputs": [
        {
          "output_type": "stream",
          "text": [
            "BEFORE - Possible Outcomes of screen surface is : ['Glossy' 'Matte']\n",
            "AFTER - Possible Outcomes of screen surface is : ['0' '1']\n"
          ],
          "name": "stdout"
        }
      ]
    },
    {
      "cell_type": "code",
      "metadata": {
        "id": "PZ8A9XA3pVG7",
        "outputId": "a5f78891-c59b-4c1e-bc48-a1c4c839e80f",
        "colab": {
          "base_uri": "https://localhost:8080/",
          "height": 51
        }
      },
      "source": [
        "print( \"BEFORE - Possible Outcomes of screen surface is : \" + str ( dfTest_['screen_surface'].unique()))\n",
        "\n",
        "# Create a dictionary for it. \n",
        "screen_surface = {\n",
        "     'Glossy' : '0',\n",
        "     'Matte' : '1',\n",
        "     }\n",
        "\n",
        "# Remap the values of the dataframe \n",
        "dfTest_.replace({\"screen_surface\": screen_surface}, inplace=True) \n",
        "\n",
        "print( \"AFTER - Possible Outcomes of screen surface is : \" + str ( dfTest_['screen_surface'].unique()))\n",
        "\n",
        "\n",
        "\n"
      ],
      "execution_count": null,
      "outputs": [
        {
          "output_type": "stream",
          "text": [
            "BEFORE - Possible Outcomes of screen surface is : ['Glossy' 'Matte']\n",
            "AFTER - Possible Outcomes of screen surface is : ['0' '1']\n"
          ],
          "name": "stdout"
        }
      ]
    },
    {
      "cell_type": "markdown",
      "metadata": {
        "id": "kfEr5_LjVYyh"
      },
      "source": [
        "### 1.6.2 Brand Column "
      ]
    },
    {
      "cell_type": "code",
      "metadata": {
        "id": "T9nDIQeSvL7a"
      },
      "source": [
        "#dfTrain_['brand'] = dfTrain['brand']\n",
        "#dfTest_['brand'] = dfTest['brand']"
      ],
      "execution_count": null,
      "outputs": []
    },
    {
      "cell_type": "code",
      "metadata": {
        "id": "15p1g5LKEqYe",
        "outputId": "c9fdce9a-0c23-46d1-ee24-bfb7df60c780",
        "colab": {
          "base_uri": "https://localhost:8080/",
          "height": 833
        }
      },
      "source": [
        "# The second feature is \"brand\". Below you can see frequency table of this feature and following operations. \n",
        " \n",
        "# Show a brand dictionary \n",
        "print (\"Show value counts of training brand column \\n \" + str (dfTrain_['brand'].value_counts())) \n",
        "\n",
        "\n",
        "# Decresase number of groups in this column. \n",
        "dfTrain_['brand'] = dfTrain_['brand'].str.lower()\n",
        "print(\"Number of unique elements are \" + str(len(dfTrain_['brand'].unique())))\n",
        "print(\"\\nNew categorization will be performed. \")\n",
        "\n",
        "#Get first \"13\" for categorical elements and 1 more Other option. \n",
        "print(\"Getting first 13 elements in the category...\")\n",
        "print(dfTrain_['brand'].value_counts().index[0:12])\n",
        "\n",
        "brandCheckList = (dfTrain_['brand'].value_counts().index[0:12].tolist())\n",
        "\n",
        "for index, row in dfTrain_.iterrows():\n",
        "    if not(row['brand'] in brandCheckList):\n",
        "        #print('There is a missing value')\n",
        "        dfTrain_.loc[index, 'brand'] = 'otherbrand'\n",
        "        #print('It is filled.\\n')\n",
        "\n",
        "\n",
        "brandDict = dfTrain_['brand'].value_counts().to_dict() \n",
        "\n",
        "\n",
        "\n",
        "# Then, use brandDict to process test data. \n",
        "# Lower brand column in test data \n",
        "dfTest_['brand'] = dfTest_['brand'].str.lower()\n",
        "# update categories - aligning according to traning data \n",
        "for index, row in dfTest_.iterrows():\n",
        "    if not(row['brand'] in list(brandDict.keys())):\n",
        "        print('There is a different brand value in test set.')\n",
        "        dfTest_.loc[index, 'brand'] = 'otherbrand'\n",
        "# new categories \n",
        "print (\"Test data brand values : \\n\"  + str ( dfTest_['brand'].value_counts()))\n",
        "\n",
        "\n",
        "print(\"Number of unique elements in the new categories are \" + str(len(dfTrain_['brand'].unique())))\n",
        "print(\"\\nNew categorization were performed. \")\n"
      ],
      "execution_count": null,
      "outputs": [
        {
          "output_type": "stream",
          "text": [
            "Show value counts of training brand column \n",
            " Dell         108\n",
            "HP            89\n",
            "Asus          74\n",
            "Lenovo        63\n",
            "Acer          46\n",
            "Apple         25\n",
            "Microsoft     24\n",
            "Other         22\n",
            "MSI           16\n",
            "Samsung       12\n",
            "Alienware     10\n",
            "Razer         10\n",
            "LG             3\n",
            "Google         2\n",
            "Jumper         2\n",
            "Huawei         2\n",
            "Toshiba        1\n",
            "RCA            1\n",
            "Name: brand, dtype: int64\n",
            "Number of unique elements are 18\n",
            "\n",
            "New categorization will be performed. \n",
            "Getting first 13 elements in the category...\n",
            "Index(['dell', 'hp', 'asus', 'lenovo', 'acer', 'apple', 'microsoft', 'other',\n",
            "       'msi', 'samsung', 'alienware', 'razer'],\n",
            "      dtype='object')\n",
            "There is a different brand value in test set.\n",
            "There is a different brand value in test set.\n",
            "There is a different brand value in test set.\n",
            "Test data brand values : \n",
            "asus          39\n",
            "lenovo        39\n",
            "hp            38\n",
            "dell          38\n",
            "acer          15\n",
            "microsoft     10\n",
            "samsung        8\n",
            "msi            8\n",
            "apple          8\n",
            "alienware      7\n",
            "other          5\n",
            "razer          4\n",
            "otherbrand     3\n",
            "Name: brand, dtype: int64\n",
            "Number of unique elements in the new categories are 13\n",
            "\n",
            "New categorization were performed. \n"
          ],
          "name": "stdout"
        }
      ]
    },
    {
      "cell_type": "code",
      "metadata": {
        "id": "DgE_TlaXwUB3",
        "outputId": "46cf974b-fbe0-4f4d-c548-eabc0f2c4186",
        "colab": {
          "base_uri": "https://localhost:8080/",
          "height": 51
        }
      },
      "source": [
        "# After categorization were performed, let's implement one-hot encoding to convert them into numerical version. \n",
        "from sklearn.preprocessing import OneHotEncoder\n",
        "color_ohe = OneHotEncoder()\n",
        "# one hot for training\n",
        "X_ = dfTrain_['brand']\n",
        "X = color_ohe.fit_transform(dfTrain_.brand.values.reshape(-1,1)).toarray()\n",
        "dfOneHot = pd.DataFrame(X, columns = [\"Brand_\"+str(int(i)) for i in range(X.shape[1])])\n",
        "X_ = pd.concat([X_, dfOneHot], axis=1)\n",
        "\n",
        "# one hot for test\n",
        "Y = color_ohe.transform(dfTest_.brand.values.reshape(-1,1)).toarray()\n",
        "Y_ = dfTest_['brand']\n",
        "dfOneHotY = pd.DataFrame(Y, columns = [\"Brand_\"+str(int(i)) for i in range(Y.shape[1])])\n",
        "Y_ = pd.concat([Y_, dfOneHotY], axis=1)\n",
        "\n",
        "\n",
        "# Concat both training and test set respoectively. \n",
        "#dfTrain_ = pd.concat([dfTrain_, dfOneHot], axis=1)\n",
        "#dfTest_ = pd.concat([dfTest_, dfOneHot], axis=1)\n",
        "\n",
        "# save variables for \n",
        "dfBrandTrain = dfOneHot \n",
        "dfBrandTest = dfOneHotY \n",
        "print(\"\\n One Hot encoding in brand column were performed for training and test set respectively. \")\n",
        "\n"
      ],
      "execution_count": null,
      "outputs": [
        {
          "output_type": "stream",
          "text": [
            "\n",
            " One Hot encoding in brand column were performed for training and test set respectively. \n"
          ],
          "name": "stdout"
        }
      ]
    },
    {
      "cell_type": "code",
      "metadata": {
        "id": "IK7ja6kq4pKD"
      },
      "source": [
        ""
      ],
      "execution_count": null,
      "outputs": []
    },
    {
      "cell_type": "code",
      "metadata": {
        "id": "n4rAy-yZIGH8"
      },
      "source": [
        ""
      ],
      "execution_count": null,
      "outputs": []
    },
    {
      "cell_type": "code",
      "metadata": {
        "id": "wtKZU0s_IN18"
      },
      "source": [
        ""
      ],
      "execution_count": null,
      "outputs": []
    },
    {
      "cell_type": "markdown",
      "metadata": {
        "id": "8BEVyX56ZcY4"
      },
      "source": [
        "### 1.6.3 Base Name Column  "
      ]
    },
    {
      "cell_type": "code",
      "metadata": {
        "id": "1STeSzEjE_F4",
        "outputId": "a8319180-2436-4b0f-80a9-e7f3480cc58c",
        "colab": {
          "base_uri": "https://localhost:8080/",
          "height": 207
        }
      },
      "source": [
        "# Third variable is base_name. It is important that base_name starts with brand name so \n",
        "# that we can extract the first element of this structure. Let's take only the second element of whole structure\n",
        "# by removing remaining parts. \n",
        "dfTrain_['base_name'] = dfTrain_['base_name'].str.lower()\n",
        "print(\"Number of unique elements are \" + str(len(dfTrain_['base_name'].unique())))\n",
        "print(\"\\nNew categorization will be performed.\")\n",
        "tmpBase  = pd.DataFrame()\n",
        "tmpB = dfTrain_[\"base_name\"].str.split(\" \", n = 4, expand = True)\n",
        "tmpBase['base_name'] = tmpB[1]\n",
        "# Get first \"26\" for categorical elements and 1 more Other option. \n",
        "print(tmpBase['base_name'].value_counts().index[0:25])\n",
        "\n",
        "\n",
        "baseNameCheckList = (tmpBase['base_name'].value_counts().index[0:25].tolist())\n",
        "for index, row in tmpBase.iterrows():\n",
        "    if not(row['base_name'] in baseNameCheckList):\n",
        "        #print('There is a missing value')\n",
        "        tmpBase.loc[index, 'base_name'] = 'other'\n",
        "        #print('It is filled.\\n')\n",
        "\n",
        "\n",
        "# Update new basename columns \n",
        "dfTrain_['base_name'] = tmpBase['base_name']\n",
        "# New categories. \n",
        "baseNameDict = dfTrain_['base_name'].value_counts().to_dict() \n",
        "print(baseNameDict)\n",
        "\n",
        "\n",
        "## -- ## \n",
        "\n",
        "# update test data according to new categories. \n",
        "dfTest_['base_name'] = dfTest_['base_name'].str.lower()\n",
        "\n",
        "tmpBaseTest  = pd.DataFrame()\n",
        "tmpBTest = dfTest_[\"base_name\"].str.split(\" \", n = 4, expand = True)\n",
        "tmpBTest['base_name'] = tmpB[1]\n",
        "\n",
        "say = 0 \n",
        "for index, row in tmpBTest.iterrows():\n",
        "    if not(row['base_name'] in list(baseNameDict.keys())):\n",
        "        #print('There is a different value')\n",
        "        tmpBTest.loc[index, 'base_name'] = 'other'\n",
        "        say = say + 1 \n",
        "        #print('It is filled.\\n')\n",
        "print('Total number of different values : ' + str(say))\n",
        "\n",
        "# Update new basename columns \n",
        "dfTest_['base_name'] = tmpBTest['base_name']\n",
        "\n"
      ],
      "execution_count": null,
      "outputs": [
        {
          "output_type": "stream",
          "text": [
            "Number of unique elements are 384\n",
            "\n",
            "New categorization will be performed.\n",
            "Index(['inspiron', 'chromebook', 'macbook', 'surface', 'ideapad', 'vivobook',\n",
            "       'aspire', 'rog', 'zenbook', 'xps', 'thinkpad', 'yoga', 'pavilion',\n",
            "       'blade', 'latitude', '17', 'flex', 'omen', 'stream', 'predator',\n",
            "       'elitebook', 'spectre', 'tuf', '15', 'np7856'],\n",
            "      dtype='object')\n",
            "{'other': 128, 'inspiron': 77, 'chromebook': 42, 'macbook': 25, 'surface': 24, 'ideapad': 23, 'vivobook': 19, 'aspire': 18, 'rog': 16, 'zenbook': 16, 'xps': 14, 'thinkpad': 13, 'yoga': 12, 'pavilion': 11, 'blade': 10, 'latitude': 9, '17': 8, 'flex': 7, 'stream': 6, 'omen': 6, 'elitebook': 5, 'predator': 5, 'spectre': 4, 'np7856': 4, '15': 4, 'tuf': 4}\n",
            "Total number of different values : 62\n"
          ],
          "name": "stdout"
        }
      ]
    },
    {
      "cell_type": "code",
      "metadata": {
        "id": "yNoVLDGaLyc-"
      },
      "source": [
        ""
      ],
      "execution_count": null,
      "outputs": []
    },
    {
      "cell_type": "code",
      "metadata": {
        "id": "D-IMHjCGLjXA"
      },
      "source": [
        ""
      ],
      "execution_count": null,
      "outputs": []
    },
    {
      "cell_type": "code",
      "metadata": {
        "id": "3q8SD7v_Krpu",
        "outputId": "7d484c7d-d8f1-4b47-e446-983fc59683c9",
        "colab": {
          "base_uri": "https://localhost:8080/",
          "height": 68
        }
      },
      "source": [
        "# After categorization were performed, let's implement one-hot encoding to convert them into numerical version. \n",
        "from sklearn.preprocessing import OneHotEncoder\n",
        "color_ohe = OneHotEncoder()\n",
        "# one hot for training\n",
        "X_ = dfTrain_['base_name']\n",
        "X = color_ohe.fit_transform(dfTrain_.base_name.values.reshape(-1,1)).toarray()\n",
        "dfOneHot = pd.DataFrame(X, columns = [\"BaseName_\"+str(int(i)) for i in range(X.shape[1])])\n",
        "X_ = pd.concat([X_, dfOneHot], axis=1)\n",
        "\n",
        "# one hot for test\n",
        "Y = color_ohe.transform(dfTest_.base_name.values.reshape(-1,1)).toarray()\n",
        "Y_ = dfTest_['base_name']\n",
        "dfOneHotY = pd.DataFrame(Y, columns = [\"BaseName_\"+str(int(i)) for i in range(Y.shape[1])])\n",
        "Y_ = pd.concat([Y_, dfOneHotY], axis=1)\n",
        "\n",
        "\n",
        "# Concat both training and test set respoectively. \n",
        "#dfTrain_ = pd.concat([dfTrain_, dfOneHot], axis=1)\n",
        "#dfTest_ = pd.concat([dfTest_, dfOneHot], axis=1)\n",
        "\n",
        "# save variables for \n",
        "dfBaseTrain = dfOneHot \n",
        "dfBaseTest = dfOneHotY \n",
        "print(\"\\n One Hot encoding in base name column were performed for training and test set respectively. \\n\")\n",
        "\n",
        "# You can check correctness of one-hot encoded columns. \n",
        "# X_.drop_duplicates()\n",
        "# Y_.drop_duplicates()"
      ],
      "execution_count": null,
      "outputs": [
        {
          "output_type": "stream",
          "text": [
            "\n",
            " One Hot encoding in base name column were performed for training and test set respectively. \n",
            "\n"
          ],
          "name": "stdout"
        }
      ]
    },
    {
      "cell_type": "code",
      "metadata": {
        "id": "5jITMS9oK7_A"
      },
      "source": [
        "\n"
      ],
      "execution_count": null,
      "outputs": []
    },
    {
      "cell_type": "code",
      "metadata": {
        "id": "qwJb30R3LEIq"
      },
      "source": [
        ""
      ],
      "execution_count": null,
      "outputs": []
    },
    {
      "cell_type": "markdown",
      "metadata": {
        "id": "NA9y0vYh5lQl"
      },
      "source": [
        "### 1.6.4 CPU Column"
      ]
    },
    {
      "cell_type": "code",
      "metadata": {
        "id": "5ghLWgFhussf",
        "outputId": "07a2c56e-4c32-4493-f28d-edb9d961cbae",
        "colab": {
          "base_uri": "https://localhost:8080/",
          "height": 1000
        }
      },
      "source": [
        "# The next element is cpu but we can skip it because cpu_details has more informative columns.\n",
        "# Let's use it in the feature selection step. Get first 15 row and make \n",
        "dfTrain_['cpu'] = dfTrain_['cpu'].str.lower()\n",
        "\n",
        "cpuCheckList = (dfTrain_['cpu'].value_counts().index[0:15].tolist())\n",
        "\n",
        "for index, row in dfTrain_.iterrows():\n",
        "    if not(row['cpu'] in cpuCheckList):\n",
        "        #print('There is a missing value')\n",
        "        dfTrain_.loc[index, 'cpu'] = 'othercpu'\n",
        "        #print('It is filled.\\n')\n",
        "\n",
        "print(dfTrain_['cpu'].value_counts())\n",
        "cpuDict = dfTrain_['cpu'].value_counts().to_dict() \n",
        "\n",
        "\n",
        "## -- ## \n",
        "\n",
        "# Then update test data according to these train data. \n",
        "dfTest_['cpu'] = dfTest_['cpu'].str.lower()\n",
        "# test data cpu categoties \n",
        "print(dfTest_['cpu'].value_counts())\n",
        "print(\" \")\n",
        "# update categories - aligning according to traning data \n",
        "for index, row in dfTest_.iterrows():\n",
        "    if not(row['cpu'] in list(cpuDict.keys())):\n",
        "        print('There is a different cpu value in test set : ' + str (row['cpu']))\n",
        "        dfTest_.loc[index, 'cpu'] = 'othercpu'\n",
        "\n",
        "print(\" \")\n",
        "# new categories \n",
        "print ( dfTest_['cpu'].value_counts()) \n",
        "\n",
        "print (\"\\nPotential Categories in this column : \" +  str (list(cpuDict.keys())))"
      ],
      "execution_count": null,
      "outputs": [
        {
          "output_type": "stream",
          "text": [
            "intel core i7    181\n",
            "intel core i5    138\n",
            "intel celeron     69\n",
            "intel core i3     30\n",
            "intel pentium     17\n",
            "amd ryzen 5       15\n",
            "amd a6            14\n",
            "intel core m3     13\n",
            "othercpu           8\n",
            "intel atom         7\n",
            "amd a12            7\n",
            "amd ryzen 3        3\n",
            "amd ryzen 7        2\n",
            "mediatek           2\n",
            "amd a8             2\n",
            "amd a9             2\n",
            "Name: cpu, dtype: int64\n",
            "intel core i7     84\n",
            "intel core i5     61\n",
            "intel celeron     31\n",
            "intel core i3     10\n",
            "amd ryzen 5        6\n",
            "amd a6             5\n",
            "intel pentium      5\n",
            "mediatek           4\n",
            "amd ryzen 7        4\n",
            "intel core m3      2\n",
            "amd a12            2\n",
            "amd a9             2\n",
            "intel core m       2\n",
            "samsung exynos     1\n",
            "amd a4             1\n",
            "intel atom         1\n",
            "intel core i9      1\n",
            "Name: cpu, dtype: int64\n",
            " \n",
            "There is a different cpu value in test set : intel core i9\n",
            "There is a different cpu value in test set : samsung exynos\n",
            "There is a different cpu value in test set : amd a4\n",
            "There is a different cpu value in test set : intel core m\n",
            "There is a different cpu value in test set : intel core m\n",
            " \n",
            "intel core i7    84\n",
            "intel core i5    61\n",
            "intel celeron    31\n",
            "intel core i3    10\n",
            "amd ryzen 5       6\n",
            "intel pentium     5\n",
            "amd a6            5\n",
            "othercpu          5\n",
            "mediatek          4\n",
            "amd ryzen 7       4\n",
            "amd a9            2\n",
            "intel core m3     2\n",
            "amd a12           2\n",
            "intel atom        1\n",
            "Name: cpu, dtype: int64\n",
            "\n",
            "Potential Categories in this column : ['intel core i7', 'intel core i5', 'intel celeron', 'intel core i3', 'intel pentium', 'amd ryzen 5', 'amd a6', 'intel core m3', 'othercpu', 'intel atom', 'amd a12', 'amd ryzen 3', 'amd ryzen 7', 'mediatek', 'amd a8', 'amd a9']\n"
          ],
          "name": "stdout"
        }
      ]
    },
    {
      "cell_type": "code",
      "metadata": {
        "id": "toLxmrrvMPwZ",
        "outputId": "50c9296a-8671-4c39-d544-c1a98f4baca6",
        "colab": {
          "base_uri": "https://localhost:8080/",
          "height": 68
        }
      },
      "source": [
        "# After categorization were performed, let's implement one-hot encoding to convert them into numerical version. \n",
        "from sklearn.preprocessing import OneHotEncoder\n",
        "color_ohe = OneHotEncoder()\n",
        "# one hot for training\n",
        "X_ = dfTrain_['cpu']\n",
        "X = color_ohe.fit_transform(dfTrain_.cpu.values.reshape(-1,1)).toarray()\n",
        "dfOneHot = pd.DataFrame(X, columns = [\"cpu_\"+str(int(i)) for i in range(X.shape[1])])\n",
        "X_ = pd.concat([X_, dfOneHot], axis=1)\n",
        "\n",
        "# one hot for test\n",
        "Y = color_ohe.transform(dfTest_.cpu.values.reshape(-1,1)).toarray()\n",
        "Y_ = dfTest_['cpu']\n",
        "dfOneHotY = pd.DataFrame(Y, columns = [\"cpu_\"+str(int(i)) for i in range(Y.shape[1])])\n",
        "Y_ = pd.concat([Y_, dfOneHotY], axis=1)\n",
        "\n",
        "\n",
        "# Concat both training and test set respoectively. \n",
        "#dfTrain_ = pd.concat([dfTrain_, dfOneHot], axis=1)\n",
        "#dfTest_ = pd.concat([dfTest_, dfOneHot], axis=1)\n",
        "\n",
        "# save variables for \n",
        "dfCpuTrain = dfOneHot \n",
        "dfCpuTest = dfOneHotY \n",
        "print(\"\\n One Hot encoding in cpu name column were performed for training and test set respectively. \\n\")\n",
        "\n",
        "# You can check correctness of one-hot encoded columns. \n",
        "# X_.drop_duplicates()\n",
        "# Y_.drop_duplicates()\n",
        "\n",
        "\n",
        "\n",
        "\n"
      ],
      "execution_count": null,
      "outputs": [
        {
          "output_type": "stream",
          "text": [
            "\n",
            " One Hot encoding in cpu name column were performed for training and test set respectively. \n",
            "\n"
          ],
          "name": "stdout"
        }
      ]
    },
    {
      "cell_type": "code",
      "metadata": {
        "id": "1W4NW1WKetPR",
        "outputId": "3039db5c-b033-41b0-9cd4-7a1f5e59534a",
        "colab": {
          "base_uri": "https://localhost:8080/",
          "height": 204
        }
      },
      "source": [
        "X_.head()"
      ],
      "execution_count": null,
      "outputs": [
        {
          "output_type": "execute_result",
          "data": {
            "text/html": [
              "<div>\n",
              "<style scoped>\n",
              "    .dataframe tbody tr th:only-of-type {\n",
              "        vertical-align: middle;\n",
              "    }\n",
              "\n",
              "    .dataframe tbody tr th {\n",
              "        vertical-align: top;\n",
              "    }\n",
              "\n",
              "    .dataframe thead th {\n",
              "        text-align: right;\n",
              "    }\n",
              "</style>\n",
              "<table border=\"1\" class=\"dataframe\">\n",
              "  <thead>\n",
              "    <tr style=\"text-align: right;\">\n",
              "      <th></th>\n",
              "      <th>cpu</th>\n",
              "      <th>cpu_0</th>\n",
              "      <th>cpu_1</th>\n",
              "      <th>cpu_2</th>\n",
              "      <th>cpu_3</th>\n",
              "      <th>cpu_4</th>\n",
              "      <th>cpu_5</th>\n",
              "      <th>cpu_6</th>\n",
              "      <th>cpu_7</th>\n",
              "      <th>cpu_8</th>\n",
              "      <th>cpu_9</th>\n",
              "      <th>cpu_10</th>\n",
              "      <th>cpu_11</th>\n",
              "      <th>cpu_12</th>\n",
              "      <th>cpu_13</th>\n",
              "      <th>cpu_14</th>\n",
              "      <th>cpu_15</th>\n",
              "    </tr>\n",
              "  </thead>\n",
              "  <tbody>\n",
              "    <tr>\n",
              "      <th>0</th>\n",
              "      <td>intel core i7</td>\n",
              "      <td>0.0</td>\n",
              "      <td>0.0</td>\n",
              "      <td>0.0</td>\n",
              "      <td>0.0</td>\n",
              "      <td>0.0</td>\n",
              "      <td>0.0</td>\n",
              "      <td>0.0</td>\n",
              "      <td>0.0</td>\n",
              "      <td>0.0</td>\n",
              "      <td>0.0</td>\n",
              "      <td>0.0</td>\n",
              "      <td>1.0</td>\n",
              "      <td>0.0</td>\n",
              "      <td>0.0</td>\n",
              "      <td>0.0</td>\n",
              "      <td>0.0</td>\n",
              "    </tr>\n",
              "    <tr>\n",
              "      <th>1</th>\n",
              "      <td>intel core i7</td>\n",
              "      <td>0.0</td>\n",
              "      <td>0.0</td>\n",
              "      <td>0.0</td>\n",
              "      <td>0.0</td>\n",
              "      <td>0.0</td>\n",
              "      <td>0.0</td>\n",
              "      <td>0.0</td>\n",
              "      <td>0.0</td>\n",
              "      <td>0.0</td>\n",
              "      <td>0.0</td>\n",
              "      <td>0.0</td>\n",
              "      <td>1.0</td>\n",
              "      <td>0.0</td>\n",
              "      <td>0.0</td>\n",
              "      <td>0.0</td>\n",
              "      <td>0.0</td>\n",
              "    </tr>\n",
              "    <tr>\n",
              "      <th>2</th>\n",
              "      <td>amd a6</td>\n",
              "      <td>0.0</td>\n",
              "      <td>1.0</td>\n",
              "      <td>0.0</td>\n",
              "      <td>0.0</td>\n",
              "      <td>0.0</td>\n",
              "      <td>0.0</td>\n",
              "      <td>0.0</td>\n",
              "      <td>0.0</td>\n",
              "      <td>0.0</td>\n",
              "      <td>0.0</td>\n",
              "      <td>0.0</td>\n",
              "      <td>0.0</td>\n",
              "      <td>0.0</td>\n",
              "      <td>0.0</td>\n",
              "      <td>0.0</td>\n",
              "      <td>0.0</td>\n",
              "    </tr>\n",
              "    <tr>\n",
              "      <th>3</th>\n",
              "      <td>intel core i3</td>\n",
              "      <td>0.0</td>\n",
              "      <td>0.0</td>\n",
              "      <td>0.0</td>\n",
              "      <td>0.0</td>\n",
              "      <td>0.0</td>\n",
              "      <td>0.0</td>\n",
              "      <td>0.0</td>\n",
              "      <td>0.0</td>\n",
              "      <td>0.0</td>\n",
              "      <td>1.0</td>\n",
              "      <td>0.0</td>\n",
              "      <td>0.0</td>\n",
              "      <td>0.0</td>\n",
              "      <td>0.0</td>\n",
              "      <td>0.0</td>\n",
              "      <td>0.0</td>\n",
              "    </tr>\n",
              "    <tr>\n",
              "      <th>4</th>\n",
              "      <td>intel core i5</td>\n",
              "      <td>0.0</td>\n",
              "      <td>0.0</td>\n",
              "      <td>0.0</td>\n",
              "      <td>0.0</td>\n",
              "      <td>0.0</td>\n",
              "      <td>0.0</td>\n",
              "      <td>0.0</td>\n",
              "      <td>0.0</td>\n",
              "      <td>0.0</td>\n",
              "      <td>0.0</td>\n",
              "      <td>1.0</td>\n",
              "      <td>0.0</td>\n",
              "      <td>0.0</td>\n",
              "      <td>0.0</td>\n",
              "      <td>0.0</td>\n",
              "      <td>0.0</td>\n",
              "    </tr>\n",
              "  </tbody>\n",
              "</table>\n",
              "</div>"
            ],
            "text/plain": [
              "             cpu  cpu_0  cpu_1  cpu_2  ...  cpu_12  cpu_13  cpu_14  cpu_15\n",
              "0  intel core i7    0.0    0.0    0.0  ...     0.0     0.0     0.0     0.0\n",
              "1  intel core i7    0.0    0.0    0.0  ...     0.0     0.0     0.0     0.0\n",
              "2         amd a6    0.0    1.0    0.0  ...     0.0     0.0     0.0     0.0\n",
              "3  intel core i3    0.0    0.0    0.0  ...     0.0     0.0     0.0     0.0\n",
              "4  intel core i5    0.0    0.0    0.0  ...     0.0     0.0     0.0     0.0\n",
              "\n",
              "[5 rows x 17 columns]"
            ]
          },
          "metadata": {
            "tags": []
          },
          "execution_count": 42
        }
      ]
    },
    {
      "cell_type": "markdown",
      "metadata": {
        "id": "7dZrWqz87xIP"
      },
      "source": [
        "### 1.6.5 CPU Details Column\n",
        "In this column, number of cores in the processor and gHZ information of cpu were extracted as a different column to increase features. "
      ]
    },
    {
      "cell_type": "code",
      "metadata": {
        "id": "RCzA85N9WQLb",
        "outputId": "02124b53-d95f-4113-f821-e1fde27323e2",
        "colab": {
          "base_uri": "https://localhost:8080/",
          "height": 540
        }
      },
      "source": [
        "# This cell extracts from cpu_details, nbr of cores and frequency  into new columns for dfTrain_\n",
        "# for dfTrain_\n",
        "print ('Rows not containing Core' + str(dfTrain_[~dfTrain_[\"cpu_details\"].str.contains('-Core')].count))\n",
        "# Id 263 does not contain -Core but Quad Cortex = Quad \n",
        "dfTrain_['Nbr of cores'] = dfTrain_[\"cpu_details\"].str.split('-Core').str[0].str[-4:]\n",
        "dfTrain_.loc[263,'Nbr of cores']= 'Quad'\n",
        "print(dfTrain_['Nbr of cores'].unique())\n",
        "dfTrain_.replace(['Dual','Quad','Hexa','Octa'],[2,4,6,8], inplace=True)\n",
        "print(dfTrain_['Nbr of cores'].unique())\n",
        "print(dfTrain_[dfTrain_['Nbr of cores'].isnull()])\n",
        "\n",
        "print ('Rows not containing GHz' + str(dfTrain_[~dfTrain_[\"cpu_details\"].str.contains('GHz')].count))\n",
        "# Id 284 contain Ghz, we will go to lowercase\n",
        "# Id 178 as no value, we will replace it with mode for cpu type\n",
        "dfTrain_['Frequency'] = dfTrain_[\"cpu_details\"].str.lower().str.split('ghz').str[0].str[-5:]\n",
        "dfTrain_['Frequency'] = dfTrain_['Frequency'].str.split('.').str[0].str[-1:]+'.'+dfTrain_['Frequency'].str.split('.').str[1]\n",
        "dfTrain_.loc[178,'Frequency'] = 0\n",
        "dfTrain_['Frequency'] = dfTrain_['Frequency'].astype(float)\n",
        "dfTrain_.loc[178,'Frequency'] = dfTrain_[dfTrain_['cpu'].str.lower().str.contains('celeron')]['Frequency'].mode()[0]\n",
        "dfTrain_['Frequency'].hist()\n",
        "print(dfTrain_.shape)"
      ],
      "execution_count": null,
      "outputs": [
        {
          "output_type": "stream",
          "text": [
            "Rows not containing Core<bound method DataFrame.count of                                                   name  ... gaming_info\n",
            "263  asus chromebook flip c101pa-db02 10.1inch rock...  ...           0\n",
            "\n",
            "[1 rows x 20 columns]>\n",
            "['Dual' 'Hexa' 'Quad' 'Octa']\n",
            "[2 6 4 8]\n",
            "Empty DataFrame\n",
            "Columns: [name, brand, base_name, screen_size, pixels_x, pixels_y, screen_surface, touchscreen, cpu, cpu_details, detachable_keyboard, discrete_gpu, gpu, os, os_details, ram, ssd, storage, weight, gaming_info, Nbr of cores]\n",
            "Index: []\n",
            "Rows not containing GHz<bound method DataFrame.count of                                                   name  ... Nbr of cores\n",
            "178  2018 newest premium dell inspiron 15.6\" hd led...  ...            2\n",
            "284  alienware fhd anw17-6429slv 17.3-inch gaming l...  ...            4\n",
            "\n",
            "[2 rows x 21 columns]>\n",
            "(510, 22)\n"
          ],
          "name": "stdout"
        },
        {
          "output_type": "display_data",
          "data": {
            "image/png": "[encoded data removed]",
            "text/plain": [
              "<Figure size 432x288 with 1 Axes>"
            ]
          },
          "metadata": {
            "tags": [],
            "needs_background": "light"
          }
        }
      ]
    },
    {
      "cell_type": "code",
      "metadata": {
        "id": "DK5APB7G6ilx",
        "outputId": "ddf2bec9-f456-4b54-f927-a581c35c431a",
        "colab": {
          "base_uri": "https://localhost:8080/",
          "height": 489
        }
      },
      "source": [
        "# This cell extracts from cpu_details, nbr of cores and frequency  into new columns for dfTrain_\n",
        "# for dfTest_\n",
        "print ('Rows not containing Core' + str(dfTest_[~dfTest_[\"cpu_details\"].str.contains('-Core')].count))\n",
        "dfTest_['Nbr of cores'] = dfTest_[\"cpu_details\"].str.split('-Core').str[0].str[-4:]\n",
        "print(dfTest_['Nbr of cores'].unique())\n",
        "dfTest_.replace(['Dual','Quad','Hexa','Octa'],[2,4,6,8], inplace=True)\n",
        "print(dfTest_['Nbr of cores'].unique())\n",
        "print(dfTest_[dfTest_['Nbr of cores'].isnull()])\n",
        "\n",
        "print ('Rows not containing GHz' + str(dfTest_[~dfTest_[\"cpu_details\"].str.lower().str.contains('ghz')].count))\n",
        "dfTest_['Frequency'] = dfTest_[\"cpu_details\"].str.lower().str.split('ghz').str[0].str[-5:]\n",
        "dfTest_['Frequency'] = dfTest_['Frequency'].str.split('.').str[0].str[-1:]+'.'+dfTest_['Frequency'].str.split('.').str[1]\n",
        "dfTest_['Frequency'] = dfTest_['Frequency'].astype(float)\n",
        "dfTest_['Frequency'].hist()\n",
        "print(dfTest_.shape)"
      ],
      "execution_count": null,
      "outputs": [
        {
          "output_type": "stream",
          "text": [
            "Rows not containing Core<bound method DataFrame.count of Empty DataFrame\n",
            "Columns: [name, brand, base_name, screen_size, pixels_x, pixels_y, screen_surface, touchscreen, cpu, cpu_details, detachable_keyboard, discrete_gpu, gpu, os, os_details, ram, ssd, storage, weight, gaming_info]\n",
            "Index: []>\n",
            "['Quad' 'Dual' 'Hexa' 'Octa']\n",
            "[4 2 6 8]\n",
            "Empty DataFrame\n",
            "Columns: [name, brand, base_name, screen_size, pixels_x, pixels_y, screen_surface, touchscreen, cpu, cpu_details, detachable_keyboard, discrete_gpu, gpu, os, os_details, ram, ssd, storage, weight, gaming_info, Nbr of cores]\n",
            "Index: []\n",
            "Rows not containing GHz<bound method DataFrame.count of Empty DataFrame\n",
            "Columns: [name, brand, base_name, screen_size, pixels_x, pixels_y, screen_surface, touchscreen, cpu, cpu_details, detachable_keyboard, discrete_gpu, gpu, os, os_details, ram, ssd, storage, weight, gaming_info, Nbr of cores]\n",
            "Index: []>\n",
            "(222, 22)\n"
          ],
          "name": "stdout"
        },
        {
          "output_type": "display_data",
          "data": {
            "image/png": "[encoded data removed]",
            "text/plain": [
              "<Figure size 432x288 with 1 Axes>"
            ]
          },
          "metadata": {
            "tags": [],
            "needs_background": "light"
          }
        }
      ]
    },
    {
      "cell_type": "markdown",
      "metadata": {
        "id": "LFylBhqI8g5d"
      },
      "source": [
        "### 1.6.5 GPU Column"
      ]
    },
    {
      "cell_type": "code",
      "metadata": {
        "id": "x7NrqMht8oSn",
        "outputId": "a1d05fea-f77a-433f-e1ca-330d16eee44c",
        "colab": {
          "base_uri": "https://localhost:8080/",
          "height": 221
        }
      },
      "source": [
        "dfTrain['gpu'].value_counts()"
      ],
      "execution_count": null,
      "outputs": [
        {
          "output_type": "execute_result",
          "data": {
            "text/plain": [
              "Intel UHD 620                    69\n",
              "Intel HD                         50\n",
              "Intel HD 620                     50\n",
              "Intel HD 400                     27\n",
              "NVIDIA GeForce GTX 1060          18\n",
              "                                 ..\n",
              "AMD Radeon R2                     1\n",
              "AMD Radeon Pro 555X               1\n",
              "AMD Radeon R6                     1\n",
              "PowerVR GX6250                    1\n",
              "NVIDIA GeForce GTX 1650 Max-Q     1\n",
              "Name: gpu, Length: 73, dtype: int64"
            ]
          },
          "metadata": {
            "tags": []
          },
          "execution_count": 115
        }
      ]
    },
    {
      "cell_type": "code",
      "metadata": {
        "id": "grf2aFJRunh1",
        "outputId": "9185e6fc-43b5-4ce4-f63c-6b97d54276ca",
        "colab": {
          "base_uri": "https://localhost:8080/",
          "height": 493
        }
      },
      "source": [
        "# Extract first element from gpu column. \n",
        "dfTrain_['gpu1'] = dfTrain_['gpu']\n",
        "\n",
        "trainGpu = dfTrain_[\"gpu1\"].str.split(\" \", n = 6, expand = True)\n",
        "# this will be categorized. \n",
        "trainGpu_ = pd.DataFrame()\n",
        "trainGpu_['gpu1'] = trainGpu[0].str.lower()\n",
        "dfTrain_['gpu1'] = trainGpu_['gpu1']\n",
        "\n",
        "gpuCheckList = dfTrain_['gpu1'].value_counts().index[0:3].tolist()\n",
        "\n",
        "for index, row in dfTrain_.iterrows():\n",
        "    if not(row['gpu1'] in gpuCheckList):\n",
        "        #print('There is a missing value')\n",
        "        dfTrain_.loc[index, 'gpu1'] = 'othergpu'\n",
        "        #print('It is filled.\\n')\n",
        "\n",
        "print(dfTrain_['gpu1'].value_counts())\n",
        "gpuDict = dfTrain_['gpu1'].value_counts().to_dict() \n",
        "\n",
        "# Now do it for gpu1 for test set. \n",
        "\n",
        "dfTest_['gpu1'] = dfTest_['gpu']\n",
        "testGpu = dfTest_[\"gpu\"].str.split(\" \", n = 6, expand = True)\n",
        "testGpu.head()\n",
        "testGpu_ = pd.DataFrame()\n",
        "\n",
        "testGpu_['gpu1'] = testGpu[0].str.lower()\n",
        "dfTest_['gpu1'] = testGpu_['gpu1']\n",
        "\n",
        "print(dfTest_['gpu1'].value_counts())\n",
        "print(\" \")\n",
        "\n",
        "# update categories - aligning according to traning data \n",
        "for index, row in dfTest_.iterrows():\n",
        "    if not(row['gpu1'] in list(gpuDict.keys())):\n",
        "        print('There is a different gpu value in test set : ' + str (row['gpu1']))\n",
        "        dfTest_.loc[index, 'gpu1'] = 'othergpu'\n",
        "\n",
        "print(\" \")\n",
        "# new categories \n",
        "print ( dfTest_['gpu1'].value_counts()) \n",
        "\n",
        "print (\"\\nPotential Categories in this column : \" +  str (list(gpuDict.keys())))\n",
        "\n",
        "\n",
        "\n"
      ],
      "execution_count": null,
      "outputs": [
        {
          "output_type": "stream",
          "text": [
            "intel       316\n",
            "nvidia      143\n",
            "amd          48\n",
            "othergpu      3\n",
            "Name: gpu1, dtype: int64\n",
            "intel          124\n",
            "nvidia          68\n",
            "amd             24\n",
            "powervr          3\n",
            "mali-t604        1\n",
            "intelâ iris      1\n",
            "imagination      1\n",
            "Name: gpu1, dtype: int64\n",
            " \n",
            "There is a different gpu value in test set : powervr\n",
            "There is a different gpu value in test set : mali-t604\n",
            "There is a different gpu value in test set : powervr\n",
            "There is a different gpu value in test set : imagination\n",
            "There is a different gpu value in test set : intelâ iris\n",
            "There is a different gpu value in test set : powervr\n",
            " \n",
            "intel       124\n",
            "nvidia       68\n",
            "amd          24\n",
            "othergpu      6\n",
            "Name: gpu1, dtype: int64\n",
            "\n",
            "Potential Categories in this column : ['intel', 'nvidia', 'amd', 'othergpu']\n"
          ],
          "name": "stdout"
        }
      ]
    },
    {
      "cell_type": "code",
      "metadata": {
        "id": "ndR7Tf_BWihO",
        "outputId": "9c66d727-19cb-4aa6-b50c-7da9c70eb507",
        "colab": {
          "base_uri": "https://localhost:8080/",
          "height": 34
        }
      },
      "source": [
        "dfTest_['gpu1'].unique()"
      ],
      "execution_count": null,
      "outputs": [
        {
          "output_type": "execute_result",
          "data": {
            "text/plain": [
              "array(['intel', 'nvidia', 'othergpu', 'amd'], dtype=object)"
            ]
          },
          "metadata": {
            "tags": []
          },
          "execution_count": 51
        }
      ]
    },
    {
      "cell_type": "code",
      "metadata": {
        "id": "iLeKD6_UWL2o",
        "outputId": "059af312-9c03-4362-e0ff-7a68541da7df",
        "colab": {
          "base_uri": "https://localhost:8080/",
          "height": 68
        }
      },
      "source": [
        "# After categorization were performed, let's implement one-hot encoding to convert them into numerical version. \n",
        "from sklearn.preprocessing import OneHotEncoder\n",
        "color_ohe = OneHotEncoder()\n",
        "# one hot for training\n",
        "X_ = dfTrain_['gpu1']\n",
        "X = color_ohe.fit_transform(dfTrain_.gpu1.values.reshape(-1,1)).toarray()\n",
        "dfOneHot = pd.DataFrame(X, columns = [\"gpu1_\"+str(int(i)) for i in range(X.shape[1])])\n",
        "X_ = pd.concat([X_, dfOneHot], axis=1)\n",
        "\n",
        "# one hot for test\n",
        "Y = color_ohe.transform(dfTest_.gpu1.values.reshape(-1,1)).toarray()\n",
        "Y_ = dfTest_['gpu1']\n",
        "dfOneHotY = pd.DataFrame(Y, columns = [\"gpu1_\"+str(int(i)) for i in range(Y.shape[1])])\n",
        "Y_ = pd.concat([Y_, dfOneHotY], axis=1)\n",
        "\n",
        "\n",
        "# Concat both training and test set respoectively. \n",
        "#dfTrain_ = pd.concat([dfTrain_, dfOneHot], axis=1)\n",
        "#dfTest_ = pd.concat([dfTest_, dfOneHot], axis=1)\n",
        "\n",
        "# save variables for \n",
        "dfGpu1Train = dfOneHot \n",
        "dfGpu1Test = dfOneHotY \n",
        "print(\"\\n One Hot encoding in cpu name column were performed for training and test set respectively. \\n\")\n",
        "\n",
        "# You can check correctness of one-hot encoded columns. \n",
        "# X_.drop_duplicates()\n",
        "# Y_.drop_duplicates()"
      ],
      "execution_count": null,
      "outputs": [
        {
          "output_type": "stream",
          "text": [
            "\n",
            " One Hot encoding in cpu name column were performed for training and test set respectively. \n",
            "\n"
          ],
          "name": "stdout"
        }
      ]
    },
    {
      "cell_type": "code",
      "metadata": {
        "id": "UgoVp7gWVKnN"
      },
      "source": [
        ""
      ],
      "execution_count": null,
      "outputs": []
    },
    {
      "cell_type": "code",
      "metadata": {
        "id": "Z4pVL-nHWz5t"
      },
      "source": [
        ""
      ],
      "execution_count": null,
      "outputs": []
    },
    {
      "cell_type": "code",
      "metadata": {
        "id": "PKyle17fUhNa",
        "outputId": "0935e27b-160f-4662-94c6-568479605ef9",
        "colab": {
          "base_uri": "https://localhost:8080/",
          "height": 629
        }
      },
      "source": [
        "# Extract second element from gpu column. \n",
        "\n",
        "dfTrain_['gpu2'] = dfTrain_['gpu']\n",
        "\n",
        "trainGpu2 = dfTrain_[\"gpu2\"].str.split(\" \", n = 6, expand = True)\n",
        "# this will be categorized. \n",
        "trainGpu2_ = pd.DataFrame()\n",
        "trainGpu2_['gpu2'] = trainGpu2[1].str.lower()\n",
        "trainGpu2_['gpu2'].replace('gefoce', 'geforce', inplace = True)\n",
        "dfTrain_['gpu2'] = trainGpu2_['gpu2']\n",
        "\n",
        "print(\"Potential Candadites are :: \" + str(dfTrain_['gpu2'].value_counts().index[0:5].tolist()))\n",
        "\n",
        "gpuCheckList2 = dfTrain_['gpu2'].value_counts().index[0:5].tolist()\n",
        "\n",
        "for index, row in dfTrain_.iterrows():\n",
        "    if not(row['gpu2'] in gpuCheckList2):\n",
        "        #print('There is a missing value')\n",
        "        dfTrain_.loc[index, 'gpu2'] = 'othergpu2'\n",
        "        #print('It is filled.\\n')\n",
        "\n",
        "print(dfTrain_['gpu2'].value_counts())\n",
        "gpuDict2 = dfTrain_['gpu2'].value_counts().to_dict() \n",
        "\n",
        "\n",
        "# Now do it for gpu1 for test set. \n",
        "dfTest_['gpu2'] = dfTest_['gpu']\n",
        "testGpu2 = dfTest_[\"gpu2\"].str.split(\" \", n = 6, expand = True)\n",
        "\n",
        "testGpu2_ = pd.DataFrame()\n",
        "testGpu2_['gpu2'] = testGpu2[1].str.lower()\n",
        "dfTest_['gpu2'] = testGpu2_['gpu2']\n",
        "\n",
        "print(dfTest_['gpu2'].value_counts())\n",
        "print(\" \")\n",
        "\n",
        "\n",
        "# update categories - aligning according to traning data \n",
        "for index, row in dfTest_.iterrows():\n",
        "    if not(row['gpu2'] in list(gpuDict2.keys())):\n",
        "        print('There is a different gpu value in test set : ' + str (row['gpu2']))\n",
        "        dfTest_.loc[index, 'gpu2'] = 'othergpu2'\n",
        "\n",
        "\n",
        "print(\" \")\n",
        "# new categories \n",
        "print ( dfTest_['gpu2'].value_counts()) \n",
        "\n",
        "print (\"\\nPotential Categories in this column : \" +  str (list(gpuDict2.keys())))\n",
        "\n",
        "\n",
        "\n"
      ],
      "execution_count": null,
      "outputs": [
        {
          "output_type": "stream",
          "text": [
            "Potential Candadites are :: ['hd', 'geforce', 'uhd', 'radeon', 'iris']\n",
            "hd           207\n",
            "geforce      141\n",
            "uhd           92\n",
            "radeon        47\n",
            "iris          17\n",
            "othergpu2      6\n",
            "Name: gpu2, dtype: int64\n",
            "hd         83\n",
            "geforce    67\n",
            "uhd        36\n",
            "radeon     24\n",
            "iris        5\n",
            "gx6250      3\n",
            "plus        1\n",
            "quadro      1\n",
            "powervr     1\n",
            "Name: gpu2, dtype: int64\n",
            " \n",
            "There is a different gpu value in test set : gx6250\n",
            "There is a different gpu value in test set : None\n",
            "There is a different gpu value in test set : quadro\n",
            "There is a different gpu value in test set : gx6250\n",
            "There is a different gpu value in test set : powervr\n",
            "There is a different gpu value in test set : plus\n",
            "There is a different gpu value in test set : gx6250\n",
            " \n",
            "hd           83\n",
            "geforce      67\n",
            "uhd          36\n",
            "radeon       24\n",
            "othergpu2     7\n",
            "iris          5\n",
            "Name: gpu2, dtype: int64\n",
            "\n",
            "Potential Categories in this column : ['hd', 'geforce', 'uhd', 'radeon', 'iris', 'othergpu2']\n"
          ],
          "name": "stdout"
        }
      ]
    },
    {
      "cell_type": "code",
      "metadata": {
        "id": "rUk0I2PuYLaX",
        "outputId": "459648b2-1c80-4f0c-8d3c-95fb7389ace9",
        "colab": {
          "base_uri": "https://localhost:8080/",
          "height": 68
        }
      },
      "source": [
        "# After categorization were performed, let's implement one-hot encoding to convert them into numerical version. \n",
        "from sklearn.preprocessing import OneHotEncoder\n",
        "color_ohe = OneHotEncoder()\n",
        "# one hot for training\n",
        "X_ = dfTrain_['gpu2']\n",
        "X = color_ohe.fit_transform(dfTrain_.gpu2.values.reshape(-1,1)).toarray()\n",
        "dfOneHot = pd.DataFrame(X, columns = [\"gpu2_\"+str(int(i)) for i in range(X.shape[1])])\n",
        "X_ = pd.concat([X_, dfOneHot], axis=1)\n",
        "\n",
        "# one hot for test\n",
        "Y = color_ohe.transform(dfTest_.gpu2.values.reshape(-1,1)).toarray()\n",
        "Y_ = dfTest_['gpu2']\n",
        "dfOneHotY = pd.DataFrame(Y, columns = [\"gpu2_\"+str(int(i)) for i in range(Y.shape[1])])\n",
        "Y_ = pd.concat([Y_, dfOneHotY], axis=1)\n",
        "\n",
        "\n",
        "# Concat both training and test set respoectively. \n",
        "#dfTrain_ = pd.concat([dfTrain_, dfOneHot], axis=1)\n",
        "#dfTest_ = pd.concat([dfTest_, dfOneHot], axis=1)\n",
        "\n",
        "# save variables for \n",
        "dfGpu2Train = dfOneHot \n",
        "dfGpu2Test = dfOneHotY \n",
        "print(\"\\n One Hot encoding in gpu name column were performed for training and test set respectively. \\n\")\n",
        "\n",
        "# You can check correctness of one-hot encoded columns. \n",
        "# X_.drop_duplicates()\n",
        "# Y_.drop_duplicates()\n",
        "\n",
        "\n",
        "\n"
      ],
      "execution_count": null,
      "outputs": [
        {
          "output_type": "stream",
          "text": [
            "\n",
            " One Hot encoding in gpu name column were performed for training and test set respectively. \n",
            "\n"
          ],
          "name": "stdout"
        }
      ]
    },
    {
      "cell_type": "code",
      "metadata": {
        "id": "Q8tSlTRKpsXO"
      },
      "source": [
        ""
      ],
      "execution_count": null,
      "outputs": []
    },
    {
      "cell_type": "markdown",
      "metadata": {
        "id": "td5NWEZ5p11I"
      },
      "source": [
        "### 1.6.6. OS Column"
      ]
    },
    {
      "cell_type": "code",
      "metadata": {
        "id": "2OqeYSEfHnyl",
        "outputId": "d6e768ee-3a2c-4862-9980-be913500fc18",
        "colab": {
          "base_uri": "https://localhost:8080/",
          "height": 221
        }
      },
      "source": [
        "dfTrain_['os'] = dfTrain_['os'].str.lower()\n",
        "dfTest_['os'] = dfTest_['os'].str.lower()\n",
        "\n",
        "print(\"Training : \")\n",
        "print ( str(dfTrain_['os'].value_counts()) )\n",
        "print(\" \")\n",
        "print(\"Test : \")\n",
        "print ( str(dfTest_['os'].value_counts()) )\n"
      ],
      "execution_count": null,
      "outputs": [
        {
          "output_type": "stream",
          "text": [
            "Training : \n",
            "windows      432\n",
            "chrome os     52\n",
            "macos         25\n",
            "android        1\n",
            "Name: os, dtype: int64\n",
            " \n",
            "Test : \n",
            "windows      193\n",
            "chrome os     21\n",
            "macos          8\n",
            "Name: os, dtype: int64\n"
          ],
          "name": "stdout"
        }
      ]
    },
    {
      "cell_type": "code",
      "metadata": {
        "id": "QyaSRHALGujo",
        "outputId": "66430e56-375c-4529-dd53-4b3dbdd48457",
        "colab": {
          "base_uri": "https://localhost:8080/",
          "height": 68
        }
      },
      "source": [
        "# After categorization were performed, let's implement one-hot encoding to convert them into numerical version. \n",
        "from sklearn.preprocessing import OneHotEncoder\n",
        "color_ohe = OneHotEncoder()\n",
        "# one hot for training\n",
        "X_ = dfTrain_['os']\n",
        "X = color_ohe.fit_transform(dfTrain_.os.values.reshape(-1,1)).toarray()\n",
        "dfOneHot = pd.DataFrame(X, columns = [\"os_\"+str(int(i)) for i in range(X.shape[1])])\n",
        "X_ = pd.concat([X_, dfOneHot], axis=1)\n",
        "\n",
        "# one hot for test\n",
        "Y = color_ohe.transform(dfTest_.os.values.reshape(-1,1)).toarray()\n",
        "Y_ = dfTest_['os']\n",
        "dfOneHotY = pd.DataFrame(Y, columns = [\"os_\"+str(int(i)) for i in range(Y.shape[1])])\n",
        "Y_ = pd.concat([Y_, dfOneHotY], axis=1)\n",
        "\n",
        "\n",
        "# Concat both training and test set respoectively. \n",
        "#dfTrain_ = pd.concat([dfTrain_, dfOneHot], axis=1)\n",
        "#dfTest_ = pd.concat([dfTest_, dfOneHot], axis=1)\n",
        "\n",
        "# save variables for \n",
        "dfOsTrain = dfOneHot \n",
        "dfOsTest = dfOneHotY \n",
        "print(\"\\n One Hot encoding in OS name column were performed for training and test set respectively. \\n\")\n",
        "\n",
        "# You can check correctness of one-hot encoded columns. \n",
        "# X_.drop_duplicates()\n",
        "# Y_.drop_duplicates()\n",
        "\n",
        "\n"
      ],
      "execution_count": null,
      "outputs": [
        {
          "output_type": "stream",
          "text": [
            "\n",
            " One Hot encoding in OS name column were performed for training and test set respectively. \n",
            "\n"
          ],
          "name": "stdout"
        }
      ]
    },
    {
      "cell_type": "markdown",
      "metadata": {
        "id": "cs6TL6GgYtPD"
      },
      "source": [
        "# 1.7 MERGING FEATURE COLUMNS FOR MODEL\n",
        "\n",
        "Firstly, let's determine dfTrain_ columns and then concatanate pre-determined columns above and finalize training and test set. "
      ]
    },
    {
      "cell_type": "code",
      "metadata": {
        "id": "bHyH2gqmpZCL",
        "outputId": "6fc0b8ff-1cf3-45e6-b5cc-725fa928549f",
        "colab": {
          "base_uri": "https://localhost:8080/",
          "height": 284
        }
      },
      "source": [
        "dfTrain_.head(2)"
      ],
      "execution_count": null,
      "outputs": [
        {
          "output_type": "execute_result",
          "data": {
            "text/html": [
              "<div>\n",
              "<style scoped>\n",
              "    .dataframe tbody tr th:only-of-type {\n",
              "        vertical-align: middle;\n",
              "    }\n",
              "\n",
              "    .dataframe tbody tr th {\n",
              "        vertical-align: top;\n",
              "    }\n",
              "\n",
              "    .dataframe thead th {\n",
              "        text-align: right;\n",
              "    }\n",
              "</style>\n",
              "<table border=\"1\" class=\"dataframe\">\n",
              "  <thead>\n",
              "    <tr style=\"text-align: right;\">\n",
              "      <th></th>\n",
              "      <th>name</th>\n",
              "      <th>brand</th>\n",
              "      <th>base_name</th>\n",
              "      <th>screen_size</th>\n",
              "      <th>pixels_x</th>\n",
              "      <th>pixels_y</th>\n",
              "      <th>screen_surface</th>\n",
              "      <th>touchscreen</th>\n",
              "      <th>cpu</th>\n",
              "      <th>cpu_details</th>\n",
              "      <th>detachable_keyboard</th>\n",
              "      <th>discrete_gpu</th>\n",
              "      <th>gpu</th>\n",
              "      <th>os</th>\n",
              "      <th>os_details</th>\n",
              "      <th>ram</th>\n",
              "      <th>ssd</th>\n",
              "      <th>storage</th>\n",
              "      <th>weight</th>\n",
              "      <th>gaming_info</th>\n",
              "      <th>Nbr of cores</th>\n",
              "      <th>Frequency</th>\n",
              "      <th>gpu1</th>\n",
              "      <th>gpu2</th>\n",
              "    </tr>\n",
              "  </thead>\n",
              "  <tbody>\n",
              "    <tr>\n",
              "      <th>0</th>\n",
              "      <td>lenovo flex 3 15.6-inch touchscreen laptop (co...</td>\n",
              "      <td>lenovo</td>\n",
              "      <td>flex</td>\n",
              "      <td>15.6</td>\n",
              "      <td>1920</td>\n",
              "      <td>1080</td>\n",
              "      <td>0</td>\n",
              "      <td>1</td>\n",
              "      <td>intel core i7</td>\n",
              "      <td>Intel Core i7-5500U 2.40 GHz (5th gen Broadwel...</td>\n",
              "      <td>0.0</td>\n",
              "      <td>0</td>\n",
              "      <td>Intel HD</td>\n",
              "      <td>windows</td>\n",
              "      <td>Windows 10</td>\n",
              "      <td>8</td>\n",
              "      <td>0</td>\n",
              "      <td>1000</td>\n",
              "      <td>4.60</td>\n",
              "      <td>0</td>\n",
              "      <td>2</td>\n",
              "      <td>2.4</td>\n",
              "      <td>intel</td>\n",
              "      <td>hd</td>\n",
              "    </tr>\n",
              "    <tr>\n",
              "      <th>1</th>\n",
              "      <td>razer blade 15 gaming laptop: intel core i7-87...</td>\n",
              "      <td>razer</td>\n",
              "      <td>blade</td>\n",
              "      <td>15.6</td>\n",
              "      <td>1920</td>\n",
              "      <td>1080</td>\n",
              "      <td>1</td>\n",
              "      <td>0</td>\n",
              "      <td>intel core i7</td>\n",
              "      <td>Intel Core i7-8750H 2.2 GHz (8th gen Coffee La...</td>\n",
              "      <td>0.0</td>\n",
              "      <td>1</td>\n",
              "      <td>NVIDIA GeForce RTX 2070 Max-Q</td>\n",
              "      <td>windows</td>\n",
              "      <td>Windows 10 Home</td>\n",
              "      <td>16</td>\n",
              "      <td>512</td>\n",
              "      <td>512</td>\n",
              "      <td>4.63</td>\n",
              "      <td>1</td>\n",
              "      <td>6</td>\n",
              "      <td>2.2</td>\n",
              "      <td>nvidia</td>\n",
              "      <td>geforce</td>\n",
              "    </tr>\n",
              "  </tbody>\n",
              "</table>\n",
              "</div>"
            ],
            "text/plain": [
              "                                                name   brand  ...    gpu1     gpu2\n",
              "0  lenovo flex 3 15.6-inch touchscreen laptop (co...  lenovo  ...   intel       hd\n",
              "1  razer blade 15 gaming laptop: intel core i7-87...   razer  ...  nvidia  geforce\n",
              "\n",
              "[2 rows x 24 columns]"
            ]
          },
          "metadata": {
            "tags": []
          },
          "execution_count": 57
        }
      ]
    },
    {
      "cell_type": "code",
      "metadata": {
        "id": "Au9T9WtqMcSO",
        "outputId": "8a60e0e4-031c-472b-8d48-e6b1c440c346",
        "colab": {
          "base_uri": "https://localhost:8080/",
          "height": 258
        }
      },
      "source": [
        "columns1 = ['screen_size', 'pixels_x', 'pixels_y', 'screen_surface', \n",
        "            'touchscreen','detachable_keyboard', 'discrete_gpu' , 'ram' , \n",
        "            'ssd' ,'storage', 'weight', 'gaming_info', 'Nbr of cores', 'Frequency']\n",
        "\n",
        "dfFinalTrain = dfTrain_[dfTrain_.columns.intersection(columns1)]  \n",
        "dfFinalTrain.head()"
      ],
      "execution_count": null,
      "outputs": [
        {
          "output_type": "execute_result",
          "data": {
            "text/html": [
              "<div>\n",
              "<style scoped>\n",
              "    .dataframe tbody tr th:only-of-type {\n",
              "        vertical-align: middle;\n",
              "    }\n",
              "\n",
              "    .dataframe tbody tr th {\n",
              "        vertical-align: top;\n",
              "    }\n",
              "\n",
              "    .dataframe thead th {\n",
              "        text-align: right;\n",
              "    }\n",
              "</style>\n",
              "<table border=\"1\" class=\"dataframe\">\n",
              "  <thead>\n",
              "    <tr style=\"text-align: right;\">\n",
              "      <th></th>\n",
              "      <th>screen_size</th>\n",
              "      <th>pixels_x</th>\n",
              "      <th>pixels_y</th>\n",
              "      <th>screen_surface</th>\n",
              "      <th>touchscreen</th>\n",
              "      <th>detachable_keyboard</th>\n",
              "      <th>discrete_gpu</th>\n",
              "      <th>ram</th>\n",
              "      <th>ssd</th>\n",
              "      <th>storage</th>\n",
              "      <th>weight</th>\n",
              "      <th>gaming_info</th>\n",
              "      <th>Nbr of cores</th>\n",
              "      <th>Frequency</th>\n",
              "    </tr>\n",
              "  </thead>\n",
              "  <tbody>\n",
              "    <tr>\n",
              "      <th>0</th>\n",
              "      <td>15.6</td>\n",
              "      <td>1920</td>\n",
              "      <td>1080</td>\n",
              "      <td>0</td>\n",
              "      <td>1</td>\n",
              "      <td>0.0</td>\n",
              "      <td>0</td>\n",
              "      <td>8</td>\n",
              "      <td>0</td>\n",
              "      <td>1000</td>\n",
              "      <td>4.60</td>\n",
              "      <td>0</td>\n",
              "      <td>2</td>\n",
              "      <td>2.4</td>\n",
              "    </tr>\n",
              "    <tr>\n",
              "      <th>1</th>\n",
              "      <td>15.6</td>\n",
              "      <td>1920</td>\n",
              "      <td>1080</td>\n",
              "      <td>1</td>\n",
              "      <td>0</td>\n",
              "      <td>0.0</td>\n",
              "      <td>1</td>\n",
              "      <td>16</td>\n",
              "      <td>512</td>\n",
              "      <td>512</td>\n",
              "      <td>4.63</td>\n",
              "      <td>1</td>\n",
              "      <td>6</td>\n",
              "      <td>2.2</td>\n",
              "    </tr>\n",
              "    <tr>\n",
              "      <th>2</th>\n",
              "      <td>15.6</td>\n",
              "      <td>1366</td>\n",
              "      <td>768</td>\n",
              "      <td>0</td>\n",
              "      <td>0</td>\n",
              "      <td>0.0</td>\n",
              "      <td>0</td>\n",
              "      <td>8</td>\n",
              "      <td>0</td>\n",
              "      <td>500</td>\n",
              "      <td>4.63</td>\n",
              "      <td>0</td>\n",
              "      <td>2</td>\n",
              "      <td>2.5</td>\n",
              "    </tr>\n",
              "    <tr>\n",
              "      <th>3</th>\n",
              "      <td>15.6</td>\n",
              "      <td>1920</td>\n",
              "      <td>1080</td>\n",
              "      <td>1</td>\n",
              "      <td>0</td>\n",
              "      <td>0.0</td>\n",
              "      <td>0</td>\n",
              "      <td>6</td>\n",
              "      <td>0</td>\n",
              "      <td>1000</td>\n",
              "      <td>5.30</td>\n",
              "      <td>0</td>\n",
              "      <td>2</td>\n",
              "      <td>2.2</td>\n",
              "    </tr>\n",
              "    <tr>\n",
              "      <th>4</th>\n",
              "      <td>17.3</td>\n",
              "      <td>1600</td>\n",
              "      <td>900</td>\n",
              "      <td>0</td>\n",
              "      <td>0</td>\n",
              "      <td>0.0</td>\n",
              "      <td>0</td>\n",
              "      <td>8</td>\n",
              "      <td>0</td>\n",
              "      <td>1000</td>\n",
              "      <td>5.80</td>\n",
              "      <td>0</td>\n",
              "      <td>2</td>\n",
              "      <td>2.5</td>\n",
              "    </tr>\n",
              "  </tbody>\n",
              "</table>\n",
              "</div>"
            ],
            "text/plain": [
              "   screen_size  pixels_x  pixels_y  ... gaming_info  Nbr of cores  Frequency\n",
              "0         15.6      1920      1080  ...           0             2        2.4\n",
              "1         15.6      1920      1080  ...           1             6        2.2\n",
              "2         15.6      1366       768  ...           0             2        2.5\n",
              "3         15.6      1920      1080  ...           0             2        2.2\n",
              "4         17.3      1600       900  ...           0             2        2.5\n",
              "\n",
              "[5 rows x 14 columns]"
            ]
          },
          "metadata": {
            "tags": []
          },
          "execution_count": 58
        }
      ]
    },
    {
      "cell_type": "code",
      "metadata": {
        "id": "g32bOouxKWEi",
        "outputId": "ce846f43-2bd5-4f80-819d-a9ddc458b6cb",
        "colab": {
          "base_uri": "https://localhost:8080/",
          "height": 258
        }
      },
      "source": [
        "columns1 = ['screen_size', 'pixels_x', 'pixels_y', 'screen_surface', \n",
        "            'touchscreen','detachable_keyboard', 'discrete_gpu' , 'ram' , \n",
        "            'ssd' ,'storage', 'weight', 'gaming_info', 'Nbr of cores', 'Frequency']\n",
        "\n",
        "dfFinalTest = dfTest_[dfTest_.columns.intersection(columns1)]  \n",
        "dfFinalTest.head()\n"
      ],
      "execution_count": null,
      "outputs": [
        {
          "output_type": "execute_result",
          "data": {
            "text/html": [
              "<div>\n",
              "<style scoped>\n",
              "    .dataframe tbody tr th:only-of-type {\n",
              "        vertical-align: middle;\n",
              "    }\n",
              "\n",
              "    .dataframe tbody tr th {\n",
              "        vertical-align: top;\n",
              "    }\n",
              "\n",
              "    .dataframe thead th {\n",
              "        text-align: right;\n",
              "    }\n",
              "</style>\n",
              "<table border=\"1\" class=\"dataframe\">\n",
              "  <thead>\n",
              "    <tr style=\"text-align: right;\">\n",
              "      <th></th>\n",
              "      <th>screen_size</th>\n",
              "      <th>pixels_x</th>\n",
              "      <th>pixels_y</th>\n",
              "      <th>screen_surface</th>\n",
              "      <th>touchscreen</th>\n",
              "      <th>detachable_keyboard</th>\n",
              "      <th>discrete_gpu</th>\n",
              "      <th>ram</th>\n",
              "      <th>ssd</th>\n",
              "      <th>storage</th>\n",
              "      <th>weight</th>\n",
              "      <th>gaming_info</th>\n",
              "      <th>Nbr of cores</th>\n",
              "      <th>Frequency</th>\n",
              "    </tr>\n",
              "  </thead>\n",
              "  <tbody>\n",
              "    <tr>\n",
              "      <th>0</th>\n",
              "      <td>13.3</td>\n",
              "      <td>1920.0</td>\n",
              "      <td>1080.0</td>\n",
              "      <td>0</td>\n",
              "      <td>1</td>\n",
              "      <td>0</td>\n",
              "      <td>0</td>\n",
              "      <td>16</td>\n",
              "      <td>512</td>\n",
              "      <td>512</td>\n",
              "      <td>2.42</td>\n",
              "      <td>0</td>\n",
              "      <td>4</td>\n",
              "      <td>1.8</td>\n",
              "    </tr>\n",
              "    <tr>\n",
              "      <th>1</th>\n",
              "      <td>15.6</td>\n",
              "      <td>1366.0</td>\n",
              "      <td>768.0</td>\n",
              "      <td>1</td>\n",
              "      <td>0</td>\n",
              "      <td>0</td>\n",
              "      <td>0</td>\n",
              "      <td>8</td>\n",
              "      <td>0</td>\n",
              "      <td>1000</td>\n",
              "      <td>4.95</td>\n",
              "      <td>0</td>\n",
              "      <td>2</td>\n",
              "      <td>2.7</td>\n",
              "    </tr>\n",
              "    <tr>\n",
              "      <th>2</th>\n",
              "      <td>15.6</td>\n",
              "      <td>1920.0</td>\n",
              "      <td>1080.0</td>\n",
              "      <td>1</td>\n",
              "      <td>0</td>\n",
              "      <td>0</td>\n",
              "      <td>0</td>\n",
              "      <td>8</td>\n",
              "      <td>256</td>\n",
              "      <td>1256</td>\n",
              "      <td>4.00</td>\n",
              "      <td>0</td>\n",
              "      <td>4</td>\n",
              "      <td>1.8</td>\n",
              "    </tr>\n",
              "    <tr>\n",
              "      <th>3</th>\n",
              "      <td>15.6</td>\n",
              "      <td>1366.0</td>\n",
              "      <td>768.0</td>\n",
              "      <td>0</td>\n",
              "      <td>1</td>\n",
              "      <td>0</td>\n",
              "      <td>0</td>\n",
              "      <td>8</td>\n",
              "      <td>128</td>\n",
              "      <td>2128</td>\n",
              "      <td>4.52</td>\n",
              "      <td>0</td>\n",
              "      <td>2</td>\n",
              "      <td>2.5</td>\n",
              "    </tr>\n",
              "    <tr>\n",
              "      <th>4</th>\n",
              "      <td>17.3</td>\n",
              "      <td>1920.0</td>\n",
              "      <td>1080.0</td>\n",
              "      <td>1</td>\n",
              "      <td>0</td>\n",
              "      <td>0</td>\n",
              "      <td>1</td>\n",
              "      <td>32</td>\n",
              "      <td>512</td>\n",
              "      <td>512</td>\n",
              "      <td>4.96</td>\n",
              "      <td>1</td>\n",
              "      <td>6</td>\n",
              "      <td>2.2</td>\n",
              "    </tr>\n",
              "  </tbody>\n",
              "</table>\n",
              "</div>"
            ],
            "text/plain": [
              "   screen_size  pixels_x  pixels_y  ... gaming_info  Nbr of cores  Frequency\n",
              "0         13.3    1920.0    1080.0  ...           0             4        1.8\n",
              "1         15.6    1366.0     768.0  ...           0             2        2.7\n",
              "2         15.6    1920.0    1080.0  ...           0             4        1.8\n",
              "3         15.6    1366.0     768.0  ...           0             2        2.5\n",
              "4         17.3    1920.0    1080.0  ...           1             6        2.2\n",
              "\n",
              "[5 rows x 14 columns]"
            ]
          },
          "metadata": {
            "tags": []
          },
          "execution_count": 59
        }
      ]
    },
    {
      "cell_type": "code",
      "metadata": {
        "id": "uKHqV6hxbJCQ"
      },
      "source": [
        "# Combine generated structures in the previous section. \n",
        "\n",
        "# training structure : dfBrandTrain,dfBaseTrain,dfCpuTrain,dfGpu1Train,dfGpu2Train,dfOsTrain\n",
        "# test structure : dfBrandTest,dfBaseTest,dfCpuTest,dfGpu1Test,dfGpu2Test,dfOsTest\n",
        "\n",
        "dfTmpTrain = pd.DataFrame()\n",
        "dfTmpTrain = pd.concat([dfTmpTrain, dfBrandTrain], axis=1)\n",
        "dfTmpTrain = pd.concat([dfTmpTrain, dfBaseTrain], axis=1)\n",
        "dfTmpTrain = pd.concat([dfTmpTrain, dfCpuTrain], axis=1)\n",
        "dfTmpTrain = pd.concat([dfTmpTrain, dfGpu1Train], axis=1)\n",
        "dfTmpTrain = pd.concat([dfTmpTrain, dfGpu2Train], axis=1)\n",
        "dfTmpTrain = pd.concat([dfTmpTrain, dfOsTrain], axis=1)\n",
        "\n",
        "\n",
        "\n",
        "dfTmpTest = pd.DataFrame()\n",
        "dfTmpTest = pd.concat([dfTmpTest, dfBrandTest], axis=1)\n",
        "dfTmpTest = pd.concat([dfTmpTest, dfBaseTest], axis=1)\n",
        "dfTmpTest = pd.concat([dfTmpTest, dfCpuTest], axis=1)\n",
        "dfTmpTest = pd.concat([dfTmpTest, dfGpu1Test], axis=1)\n",
        "dfTmpTest = pd.concat([dfTmpTest, dfGpu2Test], axis=1)\n",
        "dfTmpTest = pd.concat([dfTmpTest, dfOsTest], axis=1)\n",
        "\n",
        "\n",
        "# Finalize DATAFRAME \n",
        "dfFinalTrain = pd.concat([dfFinalTrain, dfTmpTrain], axis=1)\n",
        "dfFinalTest = pd.concat([dfFinalTest, dfTmpTest], axis=1)\n",
        "\n",
        "\n"
      ],
      "execution_count": null,
      "outputs": []
    },
    {
      "cell_type": "code",
      "metadata": {
        "id": "W01yJtSvf0JQ"
      },
      "source": [
        "# Change data type. \n",
        "dfFinalTrain = dfFinalTrain.astype(float)\n",
        "dfFinalTest = dfFinalTest.astype(float)"
      ],
      "execution_count": null,
      "outputs": []
    },
    {
      "cell_type": "code",
      "metadata": {
        "id": "lpY6sTZJleHr",
        "outputId": "22e9b1d3-ca96-418d-ee8d-34ae5691c7a7",
        "colab": {
          "base_uri": "https://localhost:8080/",
          "height": 51
        }
      },
      "source": [
        "print(dfFinalTrain.shape)\n",
        "print(dfFinalTest.shape)"
      ],
      "execution_count": null,
      "outputs": [
        {
          "output_type": "stream",
          "text": [
            "(510, 83)\n",
            "(222, 83)\n"
          ],
          "name": "stdout"
        }
      ]
    },
    {
      "cell_type": "code",
      "metadata": {
        "id": "rbtFYpJPnpLC"
      },
      "source": [
        "#dfFinalTrain = pd.concat([dfFinalTrain, dfTrain['min_price']], axis=1)\n",
        "#dfFinalTrain = pd.concat([dfFinalTrain, dfTrain['max_price']], axis=1)\n",
        "#dfFinalTrain = pd.concat([dfFinalTrain, dfTrain['id']], axis=1)\n",
        "\n",
        "#dfFinalTest = pd.concat([dfFinalTest, dfTest['id']], axis=1)\n",
        "\n",
        "#dfFinalTrain.to_csv('trainFinal.csv',index=False, header=None)\n",
        "#dfFinalTest.to_csv('testFinal.csv',index=False, header=None)\n"
      ],
      "execution_count": null,
      "outputs": []
    },
    {
      "cell_type": "code",
      "metadata": {
        "id": "VMqQSppwoD27"
      },
      "source": [
        ""
      ],
      "execution_count": null,
      "outputs": []
    },
    {
      "cell_type": "markdown",
      "metadata": {
        "id": "WgDCSyNFEzik"
      },
      "source": [
        "# 1.8 MODEL GENERATING"
      ]
    },
    {
      "cell_type": "code",
      "metadata": {
        "id": "Vu5YunHnE4C-",
        "outputId": "9f3b5b1f-2f28-46d4-a237-a90c88190ed8",
        "colab": {
          "base_uri": "https://localhost:8080/",
          "height": 343
        }
      },
      "source": [
        "# Import Libraries \n",
        "!pip install catboost\n",
        "import pandas as pd\n",
        "from sklearn.feature_extraction.text import TfidfVectorizer\n",
        "from sklearn.model_selection import train_test_split, cross_val_score\n",
        "from sklearn.ensemble import RandomForestRegressor, StackingRegressor\n",
        "from sklearn.neural_network import MLPRegressor\n",
        "from sklearn.linear_model import ElasticNet\n",
        "from sklearn.metrics import *\n",
        "# !pip install catboost\n",
        "from catboost import CatBoostRegressor, Pool, cv\n",
        "%matplotlib inline\n",
        "import matplotlib.pyplot as plt  # Matlab-style plotting\n",
        "import seaborn as sns\n",
        "color = sns.color_palette()\n",
        "sns.set_style('darkgrid')\n",
        "import xgboost as xgb\n",
        "import numpy as np\n",
        "from xgboost.sklearn import XGBRegressor\n",
        "from scipy.sparse import coo_matrix, hstack\n",
        "# One-hot encode the data using pandas get_dummies\n",
        "from sklearn.model_selection import train_test_split\n",
        "# Import the model we are using\n",
        "from sklearn.ensemble import RandomForestRegressor\n",
        "import numpy as np \n"
      ],
      "execution_count": null,
      "outputs": [
        {
          "output_type": "stream",
          "text": [
            "Collecting catboost\n",
            "\u001b[?25l  Downloading https://files.pythonhosted.org/packages/b1/61/2b8106c8870601671d99ca94d8b8d180f2b740b7cdb95c930147508abcf9/catboost-0.23-cp36-none-manylinux1_x86_64.whl (64.7MB)\n",
            "\u001b[K     |████████████████████████████████| 64.8MB 65kB/s \n",
            "\u001b[?25hRequirement already satisfied: plotly in /usr/local/lib/python3.6/dist-packages (from catboost) (4.4.1)\n",
            "Requirement already satisfied: pandas>=0.24.0 in /usr/local/lib/python3.6/dist-packages (from catboost) (1.0.3)\n",
            "Requirement already satisfied: scipy in /usr/local/lib/python3.6/dist-packages (from catboost) (1.4.1)\n",
            "Requirement already satisfied: matplotlib in /usr/local/lib/python3.6/dist-packages (from catboost) (3.2.1)\n",
            "Requirement already satisfied: numpy>=1.16.0 in /usr/local/lib/python3.6/dist-packages (from catboost) (1.18.4)\n",
            "Requirement already satisfied: six in /usr/local/lib/python3.6/dist-packages (from catboost) (1.12.0)\n",
            "Requirement already satisfied: graphviz in /usr/local/lib/python3.6/dist-packages (from catboost) (0.10.1)\n",
            "Requirement already satisfied: retrying>=1.3.3 in /usr/local/lib/python3.6/dist-packages (from plotly->catboost) (1.3.3)\n",
            "Requirement already satisfied: pytz>=2017.2 in /usr/local/lib/python3.6/dist-packages (from pandas>=0.24.0->catboost) (2018.9)\n",
            "Requirement already satisfied: python-dateutil>=2.6.1 in /usr/local/lib/python3.6/dist-packages (from pandas>=0.24.0->catboost) (2.8.1)\n",
            "Requirement already satisfied: pyparsing!=2.0.4,!=2.1.2,!=2.1.6,>=2.0.1 in /usr/local/lib/python3.6/dist-packages (from matplotlib->catboost) (2.4.7)\n",
            "Requirement already satisfied: kiwisolver>=1.0.1 in /usr/local/lib/python3.6/dist-packages (from matplotlib->catboost) (1.2.0)\n",
            "Requirement already satisfied: cycler>=0.10 in /usr/local/lib/python3.6/dist-packages (from matplotlib->catboost) (0.10.0)\n",
            "Installing collected packages: catboost\n",
            "Successfully installed catboost-0.23\n"
          ],
          "name": "stdout"
        }
      ]
    },
    {
      "cell_type": "code",
      "metadata": {
        "id": "qFbDD4L-aFF_",
        "outputId": "8af4f662-2127-4a9f-cc19-14c8c25a10e9",
        "colab": {
          "base_uri": "https://localhost:8080/",
          "height": 85
        }
      },
      "source": [
        "# Assign training, test and target data. \n",
        "# Generate validation data to test training performance. \n",
        "features = dfFinalTrain\n",
        "labels1 = dfTrain['min_price']\n",
        "labels2 = dfTrain['max_price']\n",
        "\n",
        "# Split the data into training and testing sets\n",
        "train_features, val_features, train_labels, val_labels = train_test_split(features, labels1, test_size = 0.25, random_state = 42)\n",
        "\n",
        "print('Training Features Shape:', train_features.shape)\n",
        "print('Training Labels Shape:', train_labels.shape)\n",
        "print('Testing Features Shape:', val_features.shape)\n",
        "print('Testing Labels Shape:', val_labels.shape)"
      ],
      "execution_count": null,
      "outputs": [
        {
          "output_type": "stream",
          "text": [
            "Training Features Shape: (382, 83)\n",
            "Training Labels Shape: (382,)\n",
            "Testing Features Shape: (128, 83)\n",
            "Testing Labels Shape: (128,)\n"
          ],
          "name": "stdout"
        }
      ]
    },
    {
      "cell_type": "code",
      "metadata": {
        "id": "lQdZFh8IkAeE"
      },
      "source": [
        ""
      ],
      "execution_count": null,
      "outputs": []
    },
    {
      "cell_type": "code",
      "metadata": {
        "id": "baSQmEipoCKR"
      },
      "source": [
        ""
      ],
      "execution_count": null,
      "outputs": []
    },
    {
      "cell_type": "markdown",
      "metadata": {
        "id": "1y-wwObgmAwI"
      },
      "source": [
        "## 1.8.1 Random Forest Method with 10Fold Cross Validation"
      ]
    },
    {
      "cell_type": "code",
      "metadata": {
        "id": "yhAcWhXSl_-T",
        "outputId": "22f0f8e5-302f-4b0a-b91e-7be27893ba0d",
        "colab": {
          "base_uri": "https://localhost:8080/",
          "height": 241
        }
      },
      "source": [
        "# RF with Cross Validation\n",
        "from sklearn.model_selection import KFold\n",
        "scores = []\n",
        "errorsRF = []\n",
        "rf = RandomForestRegressor(n_estimators = 1000, random_state = 42)\n",
        "cv = KFold(n_splits=10, random_state=42, shuffle=False)\n",
        "for train_index, test_index in cv.split(features):\n",
        "    #print(\"Train Index: \", train_index, \"\\n\")\n",
        "    #print(\"Test Index: \", test_index)\n",
        "\n",
        "    X_train, X_test, y_train, y_test = features.iloc[train_index], features.iloc[test_index], labels2.iloc[train_index], labels2.iloc[test_index]\n",
        "    rf.fit(X_train, y_train);\n",
        "    predictions = rf.predict(X_test)\n",
        "    tmp = np.mean(abs(predictions - y_test))\n",
        "    errorsRF.append(tmp)\n",
        "    print(tmp)\n",
        "\n",
        "print(\"Average error is \" + str (sum(errorsRF)/len(errorsRF)))\n",
        "\n"
      ],
      "execution_count": null,
      "outputs": [
        {
          "output_type": "stream",
          "text": [
            "/usr/local/lib/python3.6/dist-packages/sklearn/model_selection/_split.py:296: FutureWarning: Setting a random_state has no effect since shuffle is False. This will raise an error in 0.24. You should leave random_state to its default (None), or set shuffle=True.\n",
            "  FutureWarning\n"
          ],
          "name": "stderr"
        },
        {
          "output_type": "stream",
          "text": [
            "120.97935706535955\n",
            "218.271344603408\n",
            "151.7234464276376\n",
            "160.960544647525\n",
            "163.97922869001005\n",
            "151.35012040569563\n",
            "159.86103747323367\n",
            "157.17109914814733\n",
            "213.64885265234938\n",
            "107.62853162822863\n"
          ],
          "name": "stdout"
        }
      ]
    },
    {
      "cell_type": "code",
      "metadata": {
        "id": "-vdR6mRdnr5r"
      },
      "source": [
        ""
      ],
      "execution_count": null,
      "outputs": []
    },
    {
      "cell_type": "markdown",
      "metadata": {
        "id": "3blzaZ8bngbu"
      },
      "source": [
        "## 1.8.2 Multi-layer Perceptron with 10Fold"
      ]
    },
    {
      "cell_type": "code",
      "metadata": {
        "id": "na1TN1_pncaD",
        "outputId": "0bb7e547-96ee-4e91-d652-7f471828c9f7",
        "colab": {
          "base_uri": "https://localhost:8080/",
          "height": 1000
        }
      },
      "source": [
        "#MLP with 10-Fold Cross Validation\n",
        "from sklearn.model_selection import KFold\n",
        "scores = []\n",
        "errorsMLP = []\n",
        "nn = MLPRegressor(hidden_layer_sizes = (20,),\n",
        "                  activation= 'identity', solver = 'lbfgs', alpha = 0.0001, max_iter = 2000,\n",
        "                  verbose = True)\n",
        "cv = KFold(n_splits=10, random_state=42, shuffle=False)\n",
        "for train_index, test_index in cv.split(features):\n",
        "    #print(\"Train Index: \", train_index, \"\\n\")\n",
        "    #print(\"Test Index: \", test_index)\n",
        "\n",
        "    X_train, X_test, y_train, y_test = features.iloc[train_index], features.iloc[test_index], labels1.iloc[train_index], labels1.iloc[test_index]\n",
        "    nn.fit(X_train, y_train);\n",
        "    predictions = nn.predict(X_test)\n",
        "    tmp = np.mean(abs(predictions - y_test))\n",
        "    errorsMLP.append(tmp)\n",
        "    print(\"MAE is \" + str(tmp))\n",
        "\n",
        "print(\"Average error is \" + str (sum(errorsMLP)/len(errorsMLP))) "
      ],
      "execution_count": null,
      "outputs": [
        {
          "output_type": "stream",
          "text": [
            "/usr/local/lib/python3.6/dist-packages/sklearn/model_selection/_split.py:296: FutureWarning: Setting a random_state has no effect since shuffle is False. This will raise an error in 0.24. You should leave random_state to its default (None), or set shuffle=True.\n",
            "  FutureWarning\n",
            "/usr/local/lib/python3.6/dist-packages/sklearn/neural_network/_multilayer_perceptron.py:470: ConvergenceWarning: lbfgs failed to converge (status=1):\n",
            "STOP: TOTAL NO. of ITERATIONS REACHED LIMIT.\n",
            "\n",
            "Increase the number of iterations (max_iter) or scale the data as shown in:\n",
            "    https://scikit-learn.org/stable/modules/preprocessing.html\n",
            "  self.n_iter_ = _check_optimize_result(\"lbfgs\", opt_res, self.max_iter)\n"
          ],
          "name": "stderr"
        },
        {
          "output_type": "stream",
          "text": [
            "MAE is 164.29423033244274\n"
          ],
          "name": "stdout"
        },
        {
          "output_type": "stream",
          "text": [
            "/usr/local/lib/python3.6/dist-packages/sklearn/neural_network/_multilayer_perceptron.py:470: ConvergenceWarning: lbfgs failed to converge (status=1):\n",
            "STOP: TOTAL NO. of ITERATIONS REACHED LIMIT.\n",
            "\n",
            "Increase the number of iterations (max_iter) or scale the data as shown in:\n",
            "    https://scikit-learn.org/stable/modules/preprocessing.html\n",
            "  self.n_iter_ = _check_optimize_result(\"lbfgs\", opt_res, self.max_iter)\n"
          ],
          "name": "stderr"
        },
        {
          "output_type": "stream",
          "text": [
            "MAE is 219.38968830892068\n"
          ],
          "name": "stdout"
        },
        {
          "output_type": "stream",
          "text": [
            "/usr/local/lib/python3.6/dist-packages/sklearn/neural_network/_multilayer_perceptron.py:470: ConvergenceWarning: lbfgs failed to converge (status=1):\n",
            "STOP: TOTAL NO. of ITERATIONS REACHED LIMIT.\n",
            "\n",
            "Increase the number of iterations (max_iter) or scale the data as shown in:\n",
            "    https://scikit-learn.org/stable/modules/preprocessing.html\n",
            "  self.n_iter_ = _check_optimize_result(\"lbfgs\", opt_res, self.max_iter)\n"
          ],
          "name": "stderr"
        },
        {
          "output_type": "stream",
          "text": [
            "MAE is 135.9104974563281\n"
          ],
          "name": "stdout"
        },
        {
          "output_type": "stream",
          "text": [
            "/usr/local/lib/python3.6/dist-packages/sklearn/neural_network/_multilayer_perceptron.py:470: ConvergenceWarning: lbfgs failed to converge (status=1):\n",
            "STOP: TOTAL NO. of ITERATIONS REACHED LIMIT.\n",
            "\n",
            "Increase the number of iterations (max_iter) or scale the data as shown in:\n",
            "    https://scikit-learn.org/stable/modules/preprocessing.html\n",
            "  self.n_iter_ = _check_optimize_result(\"lbfgs\", opt_res, self.max_iter)\n"
          ],
          "name": "stderr"
        },
        {
          "output_type": "stream",
          "text": [
            "MAE is 185.84356723844573\n"
          ],
          "name": "stdout"
        },
        {
          "output_type": "stream",
          "text": [
            "/usr/local/lib/python3.6/dist-packages/sklearn/neural_network/_multilayer_perceptron.py:470: ConvergenceWarning: lbfgs failed to converge (status=1):\n",
            "STOP: TOTAL NO. of ITERATIONS REACHED LIMIT.\n",
            "\n",
            "Increase the number of iterations (max_iter) or scale the data as shown in:\n",
            "    https://scikit-learn.org/stable/modules/preprocessing.html\n",
            "  self.n_iter_ = _check_optimize_result(\"lbfgs\", opt_res, self.max_iter)\n"
          ],
          "name": "stderr"
        },
        {
          "output_type": "stream",
          "text": [
            "MAE is 186.83863023017403\n"
          ],
          "name": "stdout"
        },
        {
          "output_type": "stream",
          "text": [
            "/usr/local/lib/python3.6/dist-packages/sklearn/neural_network/_multilayer_perceptron.py:470: ConvergenceWarning: lbfgs failed to converge (status=1):\n",
            "STOP: TOTAL NO. of ITERATIONS REACHED LIMIT.\n",
            "\n",
            "Increase the number of iterations (max_iter) or scale the data as shown in:\n",
            "    https://scikit-learn.org/stable/modules/preprocessing.html\n",
            "  self.n_iter_ = _check_optimize_result(\"lbfgs\", opt_res, self.max_iter)\n"
          ],
          "name": "stderr"
        },
        {
          "output_type": "stream",
          "text": [
            "MAE is 168.4080639921692\n"
          ],
          "name": "stdout"
        },
        {
          "output_type": "stream",
          "text": [
            "/usr/local/lib/python3.6/dist-packages/sklearn/neural_network/_multilayer_perceptron.py:470: ConvergenceWarning: lbfgs failed to converge (status=1):\n",
            "STOP: TOTAL NO. of ITERATIONS REACHED LIMIT.\n",
            "\n",
            "Increase the number of iterations (max_iter) or scale the data as shown in:\n",
            "    https://scikit-learn.org/stable/modules/preprocessing.html\n",
            "  self.n_iter_ = _check_optimize_result(\"lbfgs\", opt_res, self.max_iter)\n"
          ],
          "name": "stderr"
        },
        {
          "output_type": "stream",
          "text": [
            "MAE is 180.50929555079574\n"
          ],
          "name": "stdout"
        },
        {
          "output_type": "stream",
          "text": [
            "/usr/local/lib/python3.6/dist-packages/sklearn/neural_network/_multilayer_perceptron.py:470: ConvergenceWarning: lbfgs failed to converge (status=1):\n",
            "STOP: TOTAL NO. of ITERATIONS REACHED LIMIT.\n",
            "\n",
            "Increase the number of iterations (max_iter) or scale the data as shown in:\n",
            "    https://scikit-learn.org/stable/modules/preprocessing.html\n",
            "  self.n_iter_ = _check_optimize_result(\"lbfgs\", opt_res, self.max_iter)\n"
          ],
          "name": "stderr"
        },
        {
          "output_type": "stream",
          "text": [
            "MAE is 183.95564463984763\n"
          ],
          "name": "stdout"
        },
        {
          "output_type": "stream",
          "text": [
            "/usr/local/lib/python3.6/dist-packages/sklearn/neural_network/_multilayer_perceptron.py:470: ConvergenceWarning: lbfgs failed to converge (status=1):\n",
            "STOP: TOTAL NO. of ITERATIONS REACHED LIMIT.\n",
            "\n",
            "Increase the number of iterations (max_iter) or scale the data as shown in:\n",
            "    https://scikit-learn.org/stable/modules/preprocessing.html\n",
            "  self.n_iter_ = _check_optimize_result(\"lbfgs\", opt_res, self.max_iter)\n"
          ],
          "name": "stderr"
        },
        {
          "output_type": "stream",
          "text": [
            "MAE is 220.3264948218361\n",
            "MAE is 150.60145520405612\n",
            "Average error is 179.6077567775016\n"
          ],
          "name": "stdout"
        },
        {
          "output_type": "stream",
          "text": [
            "/usr/local/lib/python3.6/dist-packages/sklearn/neural_network/_multilayer_perceptron.py:470: ConvergenceWarning: lbfgs failed to converge (status=1):\n",
            "STOP: TOTAL NO. of ITERATIONS REACHED LIMIT.\n",
            "\n",
            "Increase the number of iterations (max_iter) or scale the data as shown in:\n",
            "    https://scikit-learn.org/stable/modules/preprocessing.html\n",
            "  self.n_iter_ = _check_optimize_result(\"lbfgs\", opt_res, self.max_iter)\n"
          ],
          "name": "stderr"
        }
      ]
    },
    {
      "cell_type": "markdown",
      "metadata": {
        "id": "8Ni7W1iVolo4"
      },
      "source": [
        "### 1.8.3 XGBoost with 10-Fold"
      ]
    },
    {
      "cell_type": "code",
      "metadata": {
        "id": "qkDdrRHKore8",
        "outputId": "f9bba480-ced3-4904-d010-4e71a6287a08",
        "colab": {
          "base_uri": "https://localhost:8080/",
          "height": 428
        }
      },
      "source": [
        "\n",
        "\n",
        "from sklearn.model_selection import KFold\n",
        "scores = []\n",
        "errorsXGB = []\n",
        "xgb = XGBRegressor(max_depth = 2, learning_rate = 0.03, nrounds = 90, objective = \"reg:squarederror\",\n",
        "                  early_stopping_rounds = 3, eval_metric = \"mae\")\n",
        "cv = KFold(n_splits=10, random_state=42, shuffle=False)\n",
        "for train_index, test_index in cv.split(features,labels1):\n",
        "    #print(\"Train Index: \", train_index, \"\\n\")\n",
        "    #print(\"Test Index: \", test_index)\n",
        "\n",
        "    X_train, X_test, y_train, y_test = features.iloc[train_index], features.iloc[test_index], labels1.iloc[train_index], labels1.iloc[test_index]\n",
        "    xgb.fit(X_train, y_train);\n",
        "    predictions = xgb.predict(X_test)\n",
        "    print(mean_absolute_error( predictions,y_test))\n",
        "    tmp = np.mean(abs(predictions - y_test))\n",
        "    errorsXGB.append(tmp)\n",
        "    print(\"MAE is \" + str(tmp))\n",
        "\n",
        "print(\"Average error is \" + str (sum(errorsXGB)/len(errorsXGB))) \n"
      ],
      "execution_count": null,
      "outputs": [
        {
          "output_type": "stream",
          "text": [
            "/usr/local/lib/python3.6/dist-packages/sklearn/model_selection/_split.py:296: FutureWarning: Setting a random_state has no effect since shuffle is False. This will raise an error in 0.24. You should leave random_state to its default (None), or set shuffle=True.\n",
            "  FutureWarning\n"
          ],
          "name": "stderr"
        },
        {
          "output_type": "stream",
          "text": [
            "144.35172928155637\n",
            "MAE is 144.3517292815564\n",
            "231.09717014686737\n",
            "MAE is 231.09717014686737\n",
            "142.40199192421107\n",
            "MAE is 142.40199192421113\n",
            "178.32272855870863\n",
            "MAE is 178.32272855870866\n",
            "172.98820442947687\n",
            "MAE is 172.98820442947684\n",
            "165.0419369087967\n",
            "MAE is 165.0419369087967\n",
            "160.04931954178153\n",
            "MAE is 160.04931954178153\n",
            "140.928321796492\n",
            "MAE is 140.92832179649204\n",
            "210.11621967390474\n",
            "MAE is 210.1162196739047\n",
            "156.1727674297258\n",
            "MAE is 156.1727674297258\n",
            "Average error is 170.1470389691521\n"
          ],
          "name": "stdout"
        }
      ]
    },
    {
      "cell_type": "markdown",
      "metadata": {
        "id": "G-WuyDuppowW"
      },
      "source": [
        "### 1.8.4 ElasticNET with 10-Fold"
      ]
    },
    {
      "cell_type": "code",
      "metadata": {
        "id": "Sm-bAdxHpqAG",
        "outputId": "e11b6338-8749-4464-872e-92f2a0c46443",
        "colab": {
          "base_uri": "https://localhost:8080/",
          "height": 258
        }
      },
      "source": [
        "from sklearn.model_selection import KFold\n",
        "scores = []\n",
        "errorsEN = []\n",
        "en = ElasticNet(alpha = 0.005, l1_ratio = 0.6, normalize = True, random_state = 712)\n",
        "cv = KFold(n_splits=10, random_state=42, shuffle=False)\n",
        "for train_index, test_index in cv.split(features,labels1):\n",
        "    #print(\"Train Index: \", train_index, \"\\n\")\n",
        "    #print(\"Test Index: \", test_index)\n",
        "\n",
        "    X_train, X_test, y_train, y_test = features.iloc[train_index], features.iloc[test_index], labels1.iloc[train_index], labels1.iloc[test_index]\n",
        "    en.fit(X_train, y_train);\n",
        "    predictions = en.predict(X_test)\n",
        "    tmp = mean_absolute_error( predictions,y_test)\n",
        "    print(tmp)\n",
        "    errorsEN.append(mean_absolute_error( predictions,y_test))\n",
        "\n",
        "\n",
        "print(\"Average error is \" + str (sum(errorsEN)/len(errorsEN)))"
      ],
      "execution_count": null,
      "outputs": [
        {
          "output_type": "stream",
          "text": [
            "146.3133119301667\n",
            "246.88855337111102\n",
            "137.51830945901958\n",
            "185.46394946096495\n",
            "182.70732833779314\n",
            "162.31844316647837\n",
            "180.85945636163623\n",
            "177.12055040584883\n",
            "224.41037638577964\n",
            "161.81760863984306\n",
            "Average error is 180.54178875186417\n"
          ],
          "name": "stdout"
        },
        {
          "output_type": "stream",
          "text": [
            "/usr/local/lib/python3.6/dist-packages/sklearn/model_selection/_split.py:296: FutureWarning: Setting a random_state has no effect since shuffle is False. This will raise an error in 0.24. You should leave random_state to its default (None), or set shuffle=True.\n",
            "  FutureWarning\n"
          ],
          "name": "stderr"
        }
      ]
    },
    {
      "cell_type": "markdown",
      "metadata": {
        "id": "ky2zU8DPqJ5K"
      },
      "source": [
        "### 1.8.5 CatBoost Regressor with 10-fold"
      ]
    },
    {
      "cell_type": "code",
      "metadata": {
        "id": "YPifQ_TlqIEe",
        "outputId": "6becc358-c678-4520-ac86-09338364c3ae",
        "colab": {
          "base_uri": "https://localhost:8080/",
          "height": 258
        }
      },
      "source": [
        "from sklearn.model_selection import KFold\n",
        "scores = []\n",
        "errorsCB = []\n",
        "cb_final = CatBoostRegressor(iterations=800, objective = 'MultiRMSE', eval_metric = 'MultiRMSE',\n",
        "                          learning_rate=0.04, verbose = False,\n",
        "                          depth=10, l2_leaf_reg = 0.2)\n",
        "cv = KFold(n_splits=10, random_state=42, shuffle=False)\n",
        "for train_index, test_index in cv.split(features,labels1):\n",
        "    #print(\"Train Index: \", train_index, \"\\n\")\n",
        "    #print(\"Test Index: \", test_index)\n",
        "\n",
        "    X_train, X_test, y_train, y_test = features.iloc[train_index], features.iloc[test_index], labels2.iloc[train_index], labels2.iloc[test_index]\n",
        "    cb_final.fit(X_train, y_train);\n",
        "    predictions = cb_final.predict(X_test)\n",
        "    print(mean_absolute_error( predictions,y_test))\n",
        "    errorsCB.append(mean_absolute_error( predictions,y_test))\n",
        "\n",
        "\n",
        "print(sum(errorsCB) / len(errorsCB))"
      ],
      "execution_count": null,
      "outputs": [
        {
          "output_type": "stream",
          "text": [
            "/usr/local/lib/python3.6/dist-packages/sklearn/model_selection/_split.py:296: FutureWarning: Setting a random_state has no effect since shuffle is False. This will raise an error in 0.24. You should leave random_state to its default (None), or set shuffle=True.\n",
            "  FutureWarning\n"
          ],
          "name": "stderr"
        },
        {
          "output_type": "stream",
          "text": [
            "124.22990955400766\n",
            "231.88933448640051\n",
            "131.52756073124254\n",
            "169.7576397180427\n",
            "167.8788663075096\n",
            "150.97244197481774\n",
            "149.69473110503486\n",
            "134.29575209672143\n",
            "198.0466673886923\n",
            "112.26410963720853\n",
            "157.05570129996778\n"
          ],
          "name": "stdout"
        }
      ]
    },
    {
      "cell_type": "markdown",
      "metadata": {
        "id": "9uG_L-ijrcox"
      },
      "source": [
        "# 1.9 Model Evaluation "
      ]
    },
    {
      "cell_type": "code",
      "metadata": {
        "id": "ZTmJG1OtrXIF",
        "outputId": "a890d570-da7b-45db-c404-9eb0410142d7",
        "colab": {
          "base_uri": "https://localhost:8080/",
          "height": 391
        }
      },
      "source": [
        "# errorsCB errorsEN errorsXGB errorsRF errorsMLP\n",
        "## numpy is used for creating fake data\n",
        "import numpy as np \n",
        "import matplotlib as mpl \n",
        "## agg backend is used to create plot as a .png file\n",
        "mpl.use('agg')\n",
        "import matplotlib.pyplot as plt \n",
        "\n",
        "\n",
        "data_to_plot = [np.array(errorsCB), np.array(errorsEN), np.array(errorsXGB), np.array(errorsRF), np.array(errorsMLP)]\n",
        "\n",
        "# Create a figure instance\n",
        "fig = plt.figure(1, figsize=(9, 6))\n",
        "\n",
        "# Create an axes instance\n",
        "ax = fig.add_subplot(111)\n",
        "\n",
        "# Create the boxplot\n",
        "bp = ax.boxplot(data_to_plot)\n",
        "\n",
        "ax.get_xaxis().tick_bottom()\n",
        "ax.get_yaxis().tick_left()\n",
        "\n",
        "\n",
        "## Custom x-axis labels\n",
        "ax.set_xticklabels(['CatBoost', 'ElasticNET', 'XGBoost', 'RandomForest', 'Multi-Layer Perceptron'])\n",
        "ax.set_ylabel('Mean Absolute Error')\n",
        "\n",
        "\n",
        "# Save the figure\n",
        "#fig.savefig('fig1.png', bbox_inches='tight')\n"
      ],
      "execution_count": null,
      "outputs": [
        {
          "output_type": "execute_result",
          "data": {
            "text/plain": [
              "Text(0, 0.5, 'Mean Absolute Error')"
            ]
          },
          "metadata": {
            "tags": []
          },
          "execution_count": 86
        },
        {
          "output_type": "display_data",
          "data": {
            "image/png": "[encoded data removed]",
            "text/plain": [
              "<Figure size 648x432 with 1 Axes>"
            ]
          },
          "metadata": {
            "tags": []
          }
        }
      ]
    },
    {
      "cell_type": "markdown",
      "metadata": {
        "id": "Jy5RdlR_1vyT"
      },
      "source": [
        "## 1.10 Additional Stuff for Models "
      ]
    },
    {
      "cell_type": "markdown",
      "metadata": {
        "id": "qurdVCUqFOuS"
      },
      "source": [
        "### 1.10.1 Random Forest Generator"
      ]
    },
    {
      "cell_type": "code",
      "metadata": {
        "id": "TM2t0aGe-f_v",
        "outputId": "a30886e8-286f-497a-b5b3-5893797463b7",
        "colab": {
          "base_uri": "https://localhost:8080/",
          "height": 34
        }
      },
      "source": [
        "# RF with 1 validatiom \n",
        "# Instantiate model with 1000 decision trees\n",
        "rf = RandomForestRegressor(n_estimators = 1000, random_state = 42)\n",
        "# Train the model on training data\n",
        "rf.fit(train_features, train_labels);\n",
        "\n",
        "# Use the forest's predict method on the test data\n",
        "predictions = rf.predict(test_features)\n",
        "# Calculate the absolute errors\n",
        "errors = abs(predictions - test_labels)\n",
        "# Print out the mean absolute error (mae)\n",
        "print('Mean Absolute Error:', round(np.mean(errors), 2), 'degrees.')\n"
      ],
      "execution_count": null,
      "outputs": [
        {
          "output_type": "stream",
          "text": [
            "Mean Absolute Error: 179.13 degrees.\n"
          ],
          "name": "stdout"
        }
      ]
    },
    {
      "cell_type": "markdown",
      "metadata": {
        "id": "dcDL7K6ZhzFJ"
      },
      "source": [
        "### 1.10.2 Multi-layer Perceptron"
      ]
    },
    {
      "cell_type": "code",
      "metadata": {
        "id": "iMMhQ_QVd-oe",
        "outputId": "ff1462cc-bf46-4a7b-804d-bb6ed4762ae3",
        "colab": {
          "base_uri": "https://localhost:8080/",
          "height": 156
        }
      },
      "source": [
        "# MLP with 1 validation set. \n",
        "nn = MLPRegressor(hidden_layer_sizes = (10,),\n",
        "                  activation= 'identity', solver = 'lbfgs', alpha = 0.0001, max_iter = 1000,\n",
        "                  verbose = False)\n",
        "nn.fit(train_features, train_labels)\n",
        "\n",
        "# Getting output\n",
        "y_pred = nn.predict(test_features)\n",
        "mean_absolute_error(y_pred, test_labels) # Calculate MAE\n"
      ],
      "execution_count": null,
      "outputs": [
        {
          "output_type": "stream",
          "text": [
            "/usr/local/lib/python3.6/dist-packages/sklearn/neural_network/_multilayer_perceptron.py:470: ConvergenceWarning: lbfgs failed to converge (status=1):\n",
            "STOP: TOTAL NO. of ITERATIONS REACHED LIMIT.\n",
            "\n",
            "Increase the number of iterations (max_iter) or scale the data as shown in:\n",
            "    https://scikit-learn.org/stable/modules/preprocessing.html\n",
            "  self.n_iter_ = _check_optimize_result(\"lbfgs\", opt_res, self.max_iter)\n"
          ],
          "name": "stderr"
        },
        {
          "output_type": "execute_result",
          "data": {
            "text/plain": [
              "192.58783679616613"
            ]
          },
          "metadata": {
            "tags": []
          },
          "execution_count": 79
        }
      ]
    },
    {
      "cell_type": "code",
      "metadata": {
        "id": "xxD0dn0lCjic"
      },
      "source": [
        "\n"
      ],
      "execution_count": null,
      "outputs": []
    },
    {
      "cell_type": "markdown",
      "metadata": {
        "id": "JA9lc24YhvmY"
      },
      "source": [
        "### 1.10.3 XGBOOST"
      ]
    },
    {
      "cell_type": "code",
      "metadata": {
        "id": "hX2O7LvSewsg",
        "outputId": "cfaa822a-9751-40ae-ed3a-8e9d711a89b1",
        "colab": {
          "base_uri": "https://localhost:8080/",
          "height": 34
        }
      },
      "source": [
        "# XGBOOST 1 VALIDATION SET\n",
        "xgb = XGBRegressor(max_depth = 2, learning_rate = 0.03, nrounds = 90, objective = \"reg:squarederror\",\n",
        "                  early_stopping_rounds = 3, eval_metric = \"mae\")\n",
        "xgb.fit(train_features, train_labels)\n",
        "\n",
        "# Getting output\n",
        "y_pred = xgb.predict(test_features)\n",
        "mean_absolute_error( y_pred,test_labels) # Calculate MAE\n"
      ],
      "execution_count": null,
      "outputs": [
        {
          "output_type": "execute_result",
          "data": {
            "text/plain": [
              "206.75361135005951"
            ]
          },
          "metadata": {
            "tags": []
          },
          "execution_count": 86
        }
      ]
    },
    {
      "cell_type": "code",
      "metadata": {
        "id": "QHh2Ii--DYD8"
      },
      "source": [
        ""
      ],
      "execution_count": null,
      "outputs": []
    },
    {
      "cell_type": "markdown",
      "metadata": {
        "id": "Gdqj-Jj8hsuD"
      },
      "source": [
        "### 1.10.4 Elastic Net"
      ]
    },
    {
      "cell_type": "code",
      "metadata": {
        "id": "GQkeEtIMhS5q",
        "outputId": "d75734a7-930f-4d86-9ce3-f3e541d3f03c",
        "colab": {
          "base_uri": "https://localhost:8080/",
          "height": 34
        }
      },
      "source": [
        "# 1 Validation Set\n",
        "en = ElasticNet(alpha = 0.005, l1_ratio = 0.6, normalize = True, random_state = 712)\n",
        "en.fit(train_features, train_labels)\n",
        "\n",
        "# Getting output\n",
        "y_pred = en.predict(test_features)\n",
        "mean_absolute_error(y_pred,test_labels) # Calculate MAE"
      ],
      "execution_count": null,
      "outputs": [
        {
          "output_type": "execute_result",
          "data": {
            "text/plain": [
              "195.97493968436754"
            ]
          },
          "metadata": {
            "tags": []
          },
          "execution_count": 84
        }
      ]
    },
    {
      "cell_type": "code",
      "metadata": {
        "id": "nDyUiXK3Eoq9"
      },
      "source": [
        ""
      ],
      "execution_count": null,
      "outputs": []
    },
    {
      "cell_type": "markdown",
      "metadata": {
        "id": "sjP6czZIGY3K"
      },
      "source": [
        "### 1.10.5 CatBoostRegressor"
      ]
    },
    {
      "cell_type": "code",
      "metadata": {
        "id": "-6R29hfDiGg6",
        "outputId": "28b77ba2-af0f-401c-a893-415fec09e83b",
        "colab": {
          "base_uri": "https://localhost:8080/",
          "height": 34
        }
      },
      "source": [
        "cb_final = CatBoostRegressor(iterations=800, objective = 'MultiRMSE', eval_metric = 'MultiRMSE',\n",
        "                          learning_rate=0.04, verbose = False,\n",
        "                          depth=10, l2_leaf_reg = 0.2)\n",
        "\n",
        "cb_final.fit(train_features, train_labels)\n",
        "\n",
        "# Getting output\n",
        "prediction2 = cb_final.predict(test_features)\n",
        "mean_absolute_error(prediction2,test_labels) # Calculate MAE\n"
      ],
      "execution_count": null,
      "outputs": [
        {
          "output_type": "execute_result",
          "data": {
            "text/plain": [
              "180.10550605157792"
            ]
          },
          "metadata": {
            "tags": []
          },
          "execution_count": 91
        }
      ]
    },
    {
      "cell_type": "code",
      "metadata": {
        "id": "XXbhMBlqE7Xy"
      },
      "source": [
        ""
      ],
      "execution_count": null,
      "outputs": []
    },
    {
      "cell_type": "markdown",
      "metadata": {
        "id": "6pzBtMHmVDwK"
      },
      "source": [
        "## 1.11 RANDOM FOREST PARAMETER TUNING"
      ]
    },
    {
      "cell_type": "code",
      "metadata": {
        "id": "Mmc1dmXUVDfR"
      },
      "source": [
        "from sklearn.model_selection import GridSearchCV\n",
        "# Create the parameter grid based on the results of random search \n",
        "param_grid = {\n",
        "    'bootstrap': [True],\n",
        "    'max_depth': [80, 90, 100, 110],\n",
        "    'max_features': [2, 3],\n",
        "    'min_samples_leaf': [3, 4, 5],\n",
        "    'min_samples_split': [8, 10, 12],\n",
        "    'n_estimators': [100, 200, 300, 1000]\n",
        "}\n",
        "# Create a based model\n",
        "rf = RandomForestRegressor()\n",
        "# Instantiate the grid search model\n",
        "grid_search = GridSearchCV(estimator = rf, param_grid = param_grid, \n",
        "                          cv = 3, n_jobs = -1, verbose = 2)\n",
        "\n",
        "# Fit the grid search to the data\n",
        "grid_search.fit(train_features, train_labels)\n",
        "grid_search.best_params_\n"
      ],
      "execution_count": null,
      "outputs": []
    },
    {
      "cell_type": "code",
      "metadata": {
        "id": "UPgv89h2aBDs",
        "outputId": "69192195-228b-4113-bd46-8a77b85d4f8b",
        "colab": {
          "base_uri": "https://localhost:8080/",
          "height": 190
        }
      },
      "source": [
        "from sklearn.model_selection import RandomizedSearchCV\n",
        "# Number of trees in random forest\n",
        "n_estimators = [int(x) for x in np.linspace(start = 200, stop = 2000, num = 10)]\n",
        "# Number of features to consider at every split\n",
        "max_features = ['auto', 'sqrt']\n",
        "# Maximum number of levels in tree\n",
        "max_depth = [int(x) for x in np.linspace(10, 110, num = 11)]\n",
        "max_depth.append(None)\n",
        "# Minimum number of samples required to split a node\n",
        "min_samples_split = [2, 5, 10]\n",
        "# Minimum number of samples required at each leaf node\n",
        "min_samples_leaf = [1, 2, 4]\n",
        "# Method of selecting samples for training each tree\n",
        "bootstrap = [True, False]\n",
        "# Create the random grid\n",
        "random_grid = {'n_estimators': n_estimators,\n",
        "               'max_features': max_features,\n",
        "               'max_depth': max_depth,\n",
        "               'min_samples_split': min_samples_split,\n",
        "               'min_samples_leaf': min_samples_leaf,\n",
        "               'bootstrap': bootstrap}\n",
        "               \n",
        "\n",
        "# Use the random grid to search for best hyperparameters\n",
        "# First create the base model to tune\n",
        "rf = RandomForestRegressor()\n",
        "# Random search of parameters, using 3 fold cross validation, \n",
        "# search across 100 different combinations, and use all available cores\n",
        "rf_random = RandomizedSearchCV(estimator = rf, param_distributions = random_grid, n_iter = 100, cv = 5, verbose=2, random_state=42, n_jobs = -1)\n",
        "# Fit the random search model\n",
        "rf_random.fit(train_features, train_labels)\n",
        "\n",
        "# Getting output\n",
        "prediction2 = rf_random.predict(test_features)\n",
        "mean_absolute_error(prediction2,test_labels) # Calculate MAE\n",
        "\n",
        "\n"
      ],
      "execution_count": null,
      "outputs": [
        {
          "output_type": "stream",
          "text": [
            "Fitting 5 folds for each of 100 candidates, totalling 500 fits\n"
          ],
          "name": "stdout"
        },
        {
          "output_type": "stream",
          "text": [
            "[Parallel(n_jobs=-1)]: Using backend LokyBackend with 2 concurrent workers.\n",
            "[Parallel(n_jobs=-1)]: Done  37 tasks      | elapsed:   59.0s\n",
            "[Parallel(n_jobs=-1)]: Done 158 tasks      | elapsed:  4.7min\n",
            "/usr/local/lib/python3.6/dist-packages/joblib/externals/loky/process_executor.py:706: UserWarning: A worker stopped while some jobs were given to the executor. This can be caused by a too short worker timeout or by a memory leak.\n",
            "  \"timeout or by a memory leak.\", UserWarning\n",
            "[Parallel(n_jobs=-1)]: Done 361 tasks      | elapsed: 10.6min\n",
            "[Parallel(n_jobs=-1)]: Done 500 out of 500 | elapsed: 13.9min finished\n"
          ],
          "name": "stderr"
        },
        {
          "output_type": "execute_result",
          "data": {
            "text/plain": [
              "171.2975229248048"
            ]
          },
          "metadata": {
            "tags": []
          },
          "execution_count": 97
        }
      ]
    },
    {
      "cell_type": "code",
      "metadata": {
        "id": "D9-rV1qhfaeu",
        "outputId": "d89d323a-96b2-40b4-ca28-710bb335e35b",
        "colab": {
          "base_uri": "https://localhost:8080/",
          "height": 119
        }
      },
      "source": [
        "rf_random.best_params_"
      ],
      "execution_count": null,
      "outputs": [
        {
          "output_type": "execute_result",
          "data": {
            "text/plain": [
              "{'bootstrap': False,\n",
              " 'max_depth': 100,\n",
              " 'max_features': 'sqrt',\n",
              " 'min_samples_leaf': 1,\n",
              " 'min_samples_split': 5,\n",
              " 'n_estimators': 800}"
            ]
          },
          "metadata": {
            "tags": []
          },
          "execution_count": 98
        }
      ]
    },
    {
      "cell_type": "code",
      "metadata": {
        "id": "JW1zrGoJ2NH4"
      },
      "source": [
        "best_GS = {'bootstrap': False,\n",
        " 'max_depth': 100,\n",
        " 'max_features': 'sqrt',\n",
        " 'min_samples_leaf': 1,\n",
        " 'min_samples_split': 5,\n",
        " 'n_estimators': 800}"
      ],
      "execution_count": null,
      "outputs": []
    },
    {
      "cell_type": "code",
      "metadata": {
        "id": "T1e_jc5NjEUp"
      },
      "source": [
        ""
      ],
      "execution_count": null,
      "outputs": []
    },
    {
      "cell_type": "code",
      "metadata": {
        "id": "V-ewkWpqg4A0"
      },
      "source": [
        ""
      ],
      "execution_count": null,
      "outputs": []
    },
    {
      "cell_type": "code",
      "metadata": {
        "id": "riupyEHMhfPM",
        "outputId": "96f4f9d7-5491-49bb-92c8-ebc03454e246",
        "colab": {
          "base_uri": "https://localhost:8080/",
          "height": 136
        }
      },
      "source": [
        "def evaluate(model, test_features, test_labels):\n",
        "    predictions = model.predict(test_features)\n",
        "    errors = abs(predictions - test_labels)\n",
        "    mape = 100 * np.mean(errors / test_labels)\n",
        "    accuracy = 100 - mape\n",
        "    print('Model Performance')\n",
        "    print('Average Error: {:0.4f} degrees.'.format(np.mean(errors)))\n",
        "    print('Accuracy = {:0.2f}%.'.format(accuracy))\n",
        "    \n",
        "    return accuracy\n",
        "    \n",
        "\n",
        "base_model = RandomForestRegressor(n_estimators = 1000, random_state = 42)\n",
        "base_model.fit(train_features, train_labels)\n",
        "base_accuracy = evaluate(base_model, val_features, val_labels)\n",
        "\n",
        "best = RandomForestRegressor(bootstrap= False, max_depth =  100, max_features = 'sqrt', min_samples_leaf = 1, min_samples_split =  5, n_estimators = 800)\n",
        "best.fit(train_features, train_labels)\n",
        "random_accuracy = evaluate(best, val_features, val_labels)\n",
        "print('Improvement of {:0.2f}%.'.format( 100 * (random_accuracy - base_accuracy) / base_accuracy))\n"
      ],
      "execution_count": null,
      "outputs": [
        {
          "output_type": "stream",
          "text": [
            "Model Performance\n",
            "Average Error: 179.1307 degrees.\n",
            "Accuracy = 79.36%.\n",
            "Model Performance\n",
            "Average Error: 168.2469 degrees.\n",
            "Accuracy = 79.02%.\n",
            "Improvement of -0.43%.\n"
          ],
          "name": "stdout"
        }
      ]
    },
    {
      "cell_type": "markdown",
      "metadata": {
        "id": "4NyxRVB148Hr"
      },
      "source": [
        "## 1.12 Random Forest FEATURE IMPORTANCE"
      ]
    },
    {
      "cell_type": "code",
      "metadata": {
        "id": "7oXrRzmR412l",
        "outputId": "6f51d677-e5fc-4e32-9238-7658e4ef8e54",
        "colab": {
          "base_uri": "https://localhost:8080/",
          "height": 1000
        }
      },
      "source": [
        "# RF with 1 validatiom \n",
        "# Instantiate model with 1000 decision trees\n",
        "rf = RandomForestRegressor(n_estimators = 1000, random_state = 42)\n",
        "# Train the model on training data\n",
        "rf.fit(train_features, train_labels);\n",
        "\n",
        "# Use the forest's predict method on the test data\n",
        "predictions = rf.predict(val_features)\n",
        "# Calculate the absolute errors\n",
        "errors = abs(predictions - val_labels)\n",
        "# Print out the mean absolute error (mae)\n",
        "print('Mean Absolute Error:', round(np.mean(errors), 2), 'degrees.')\n",
        "\n",
        "# Saving feature names for later use\n",
        "feature_list = list(train_features.columns)\n",
        "\n",
        "# Get numerical feature importances\n",
        "importances = list(rf.feature_importances_)\n",
        "# List of tuples with variable and importance\n",
        "feature_importances = [(feature, round(importance, 2)) for feature, importance in zip(feature_list, importances)]\n",
        "# Sort the feature importances by most important first\n",
        "feature_importances = sorted(feature_importances, key = lambda x: x[1], reverse = True)\n",
        "# Print out the feature and importances \n",
        "[print('Variable: {:20} Importance: {}'.format(*pair)) for pair in feature_importances];\n",
        "\n",
        "# cpu_11 : Intel Core i7 \n",
        "# Brand_11  : Razer\n",
        "# BaseName_3  : Blade\n",
        "# BaseName_23 :  XPS\n",
        "# CPU_10 : Intel Core i5\n",
        "# GPU2_2 : Iris"
      ],
      "execution_count": null,
      "outputs": [
        {
          "output_type": "stream",
          "text": [
            "Mean Absolute Error: 179.13 degrees.\n",
            "Variable: ram                  Importance: 0.51\n",
            "Variable: cpu_11               Importance: 0.17\n",
            "Variable: pixels_x             Importance: 0.04\n",
            "Variable: ssd                  Importance: 0.03\n",
            "Variable: storage              Importance: 0.03\n",
            "Variable: weight               Importance: 0.03\n",
            "Variable: pixels_y             Importance: 0.02\n",
            "Variable: Nbr of cores         Importance: 0.02\n",
            "Variable: Brand_11             Importance: 0.02\n",
            "Variable: BaseName_3           Importance: 0.02\n",
            "Variable: screen_size          Importance: 0.01\n",
            "Variable: Frequency            Importance: 0.01\n",
            "Variable: BaseName_16          Importance: 0.01\n",
            "Variable: BaseName_23          Importance: 0.01\n",
            "Variable: cpu_10               Importance: 0.01\n",
            "Variable: screen_surface       Importance: 0.0\n",
            "Variable: touchscreen          Importance: 0.0\n",
            "Variable: detachable_keyboard  Importance: 0.0\n",
            "Variable: discrete_gpu         Importance: 0.0\n",
            "Variable: gaming_info          Importance: 0.0\n",
            "Variable: Brand_0              Importance: 0.0\n",
            "Variable: Brand_1              Importance: 0.0\n",
            "Variable: Brand_2              Importance: 0.0\n",
            "Variable: Brand_3              Importance: 0.0\n",
            "Variable: Brand_4              Importance: 0.0\n",
            "Variable: Brand_5              Importance: 0.0\n",
            "Variable: Brand_6              Importance: 0.0\n",
            "Variable: Brand_7              Importance: 0.0\n",
            "Variable: Brand_8              Importance: 0.0\n",
            "Variable: Brand_9              Importance: 0.0\n",
            "Variable: Brand_10             Importance: 0.0\n",
            "Variable: Brand_12             Importance: 0.0\n",
            "Variable: BaseName_0           Importance: 0.0\n",
            "Variable: BaseName_1           Importance: 0.0\n",
            "Variable: BaseName_2           Importance: 0.0\n",
            "Variable: BaseName_4           Importance: 0.0\n",
            "Variable: BaseName_5           Importance: 0.0\n",
            "Variable: BaseName_6           Importance: 0.0\n",
            "Variable: BaseName_7           Importance: 0.0\n",
            "Variable: BaseName_8           Importance: 0.0\n",
            "Variable: BaseName_9           Importance: 0.0\n",
            "Variable: BaseName_10          Importance: 0.0\n",
            "Variable: BaseName_11          Importance: 0.0\n",
            "Variable: BaseName_12          Importance: 0.0\n",
            "Variable: BaseName_13          Importance: 0.0\n",
            "Variable: BaseName_14          Importance: 0.0\n",
            "Variable: BaseName_15          Importance: 0.0\n",
            "Variable: BaseName_17          Importance: 0.0\n",
            "Variable: BaseName_18          Importance: 0.0\n",
            "Variable: BaseName_19          Importance: 0.0\n",
            "Variable: BaseName_20          Importance: 0.0\n",
            "Variable: BaseName_21          Importance: 0.0\n",
            "Variable: BaseName_22          Importance: 0.0\n",
            "Variable: BaseName_24          Importance: 0.0\n",
            "Variable: BaseName_25          Importance: 0.0\n",
            "Variable: cpu_0                Importance: 0.0\n",
            "Variable: cpu_1                Importance: 0.0\n",
            "Variable: cpu_2                Importance: 0.0\n",
            "Variable: cpu_3                Importance: 0.0\n",
            "Variable: cpu_4                Importance: 0.0\n",
            "Variable: cpu_5                Importance: 0.0\n",
            "Variable: cpu_6                Importance: 0.0\n",
            "Variable: cpu_7                Importance: 0.0\n",
            "Variable: cpu_8                Importance: 0.0\n",
            "Variable: cpu_9                Importance: 0.0\n",
            "Variable: cpu_12               Importance: 0.0\n",
            "Variable: cpu_13               Importance: 0.0\n",
            "Variable: cpu_14               Importance: 0.0\n",
            "Variable: cpu_15               Importance: 0.0\n",
            "Variable: gpu1_0               Importance: 0.0\n",
            "Variable: gpu1_1               Importance: 0.0\n",
            "Variable: gpu1_2               Importance: 0.0\n",
            "Variable: gpu1_3               Importance: 0.0\n",
            "Variable: gpu2_0               Importance: 0.0\n",
            "Variable: gpu2_1               Importance: 0.0\n",
            "Variable: gpu2_2               Importance: 0.0\n",
            "Variable: gpu2_3               Importance: 0.0\n",
            "Variable: gpu2_4               Importance: 0.0\n",
            "Variable: gpu2_5               Importance: 0.0\n",
            "Variable: os_0                 Importance: 0.0\n",
            "Variable: os_1                 Importance: 0.0\n",
            "Variable: os_2                 Importance: 0.0\n",
            "Variable: os_3                 Importance: 0.0\n"
          ],
          "name": "stdout"
        }
      ]
    },
    {
      "cell_type": "code",
      "metadata": {
        "id": "a9cokw_x7SS0",
        "outputId": "b40ed131-838e-44f1-d7b9-d19813f89c7d",
        "colab": {
          "base_uri": "https://localhost:8080/",
          "height": 598
        }
      },
      "source": [
        "#!pip install shap\n",
        "import shap \n",
        "explainer = shap.TreeExplainer(rf).shap_values(train_features)\n",
        "shap.summary_plot(explainer, train_features, plot_type=\"bar\")\n"
      ],
      "execution_count": null,
      "outputs": [
        {
          "output_type": "stream",
          "text": [
            "Setting feature_perturbation = \"tree_path_dependent\" because no background data was given.\n"
          ],
          "name": "stderr"
        },
        {
          "output_type": "display_data",
          "data": {
            "image/png": "[encoded data removed]",
            "text/plain": [
              "<Figure size 576x684 with 1 Axes>"
            ]
          },
          "metadata": {
            "tags": []
          }
        }
      ]
    },
    {
      "cell_type": "markdown",
      "metadata": {
        "id": "O2I6CrmK5hZV"
      },
      "source": [
        "## 1.13 Finally, Random Forest performed good performance. Let's run with test data. "
      ]
    },
    {
      "cell_type": "code",
      "metadata": {
        "id": "456KRFPe5grg"
      },
      "source": [
        "# predicting min price with best parameters. \n",
        "\n",
        "# Instantiate model with 1000 decision trees\n",
        "rf = RandomForestRegressor(n_estimators = 1000, random_state = 42)\n",
        "#rf = RandomForestRegressor(bootstrap= False, max_depth =  100, max_features = 'sqrt', min_samples_leaf = 1, min_samples_split =  5, n_estimators = 800\n",
        "#)\n",
        "# Train the model on training data\n",
        "rf.fit(dfFinalTrain, labels1);\n",
        "\n",
        "# Use the forest's predict method on the test data\n",
        "predictions1 = rf.predict(dfFinalTest)\n",
        "\n"
      ],
      "execution_count": null,
      "outputs": []
    },
    {
      "cell_type": "code",
      "metadata": {
        "id": "jG9FtdeP5gem"
      },
      "source": [
        "# predicting max price \n",
        "\n",
        "# Instantiate model with 1000 decision trees\n",
        "rf = RandomForestRegressor(n_estimators = 1000, random_state = 42)\n",
        "#rf = RandomForestRegressor(bootstrap= False, max_depth =  100, max_features = 'sqrt', min_samples_leaf = 1, min_samples_split =  5, n_estimators = 800\n",
        "#)\n",
        "\n",
        "# Train the model on training data\n",
        "rf.fit(dfFinalTrain, labels2);\n",
        "\n",
        "# Use the forest's predict method on the test data\n",
        "predictions2 = rf.predict(dfFinalTest)\n"
      ],
      "execution_count": null,
      "outputs": []
    },
    {
      "cell_type": "code",
      "metadata": {
        "id": "f2jKjV7TaaxG",
        "outputId": "b203995a-14c6-4b40-8bc6-ea253b8e9e1b",
        "colab": {
          "base_uri": "https://localhost:8080/",
          "height": 669
        }
      },
      "source": [
        "dfFinalResult = pd.DataFrame()\n",
        "dfFinalResult['ID'] =  dfTest['id']\n",
        "dfFinalResult['MIN'] = predictions1\n",
        "dfFinalResult['MAX'] =  predictions2\n",
        "dfFinalResult.head(20)\n",
        "\n",
        "\n",
        "\n"
      ],
      "execution_count": null,
      "outputs": [
        {
          "output_type": "execute_result",
          "data": {
            "text/html": [
              "<div>\n",
              "<style scoped>\n",
              "    .dataframe tbody tr th:only-of-type {\n",
              "        vertical-align: middle;\n",
              "    }\n",
              "\n",
              "    .dataframe tbody tr th {\n",
              "        vertical-align: top;\n",
              "    }\n",
              "\n",
              "    .dataframe thead th {\n",
              "        text-align: right;\n",
              "    }\n",
              "</style>\n",
              "<table border=\"1\" class=\"dataframe\">\n",
              "  <thead>\n",
              "    <tr style=\"text-align: right;\">\n",
              "      <th></th>\n",
              "      <th>ID</th>\n",
              "      <th>MIN</th>\n",
              "      <th>MAX</th>\n",
              "    </tr>\n",
              "  </thead>\n",
              "  <tbody>\n",
              "    <tr>\n",
              "      <th>0</th>\n",
              "      <td>28807</td>\n",
              "      <td>1126.266760</td>\n",
              "      <td>1228.199571</td>\n",
              "    </tr>\n",
              "    <tr>\n",
              "      <th>1</th>\n",
              "      <td>22559</td>\n",
              "      <td>369.657964</td>\n",
              "      <td>383.427054</td>\n",
              "    </tr>\n",
              "    <tr>\n",
              "      <th>2</th>\n",
              "      <td>28647</td>\n",
              "      <td>793.235620</td>\n",
              "      <td>813.563860</td>\n",
              "    </tr>\n",
              "    <tr>\n",
              "      <th>3</th>\n",
              "      <td>22141</td>\n",
              "      <td>542.451883</td>\n",
              "      <td>555.769728</td>\n",
              "    </tr>\n",
              "    <tr>\n",
              "      <th>4</th>\n",
              "      <td>26116</td>\n",
              "      <td>1444.160989</td>\n",
              "      <td>1522.227737</td>\n",
              "    </tr>\n",
              "    <tr>\n",
              "      <th>5</th>\n",
              "      <td>27111</td>\n",
              "      <td>1449.202053</td>\n",
              "      <td>1489.748367</td>\n",
              "    </tr>\n",
              "    <tr>\n",
              "      <th>6</th>\n",
              "      <td>23420</td>\n",
              "      <td>721.392857</td>\n",
              "      <td>735.791360</td>\n",
              "    </tr>\n",
              "    <tr>\n",
              "      <th>7</th>\n",
              "      <td>21464</td>\n",
              "      <td>184.343431</td>\n",
              "      <td>184.328867</td>\n",
              "    </tr>\n",
              "    <tr>\n",
              "      <th>8</th>\n",
              "      <td>29405</td>\n",
              "      <td>678.607953</td>\n",
              "      <td>721.381770</td>\n",
              "    </tr>\n",
              "    <tr>\n",
              "      <th>9</th>\n",
              "      <td>27107</td>\n",
              "      <td>446.749492</td>\n",
              "      <td>439.749150</td>\n",
              "    </tr>\n",
              "    <tr>\n",
              "      <th>10</th>\n",
              "      <td>26141</td>\n",
              "      <td>898.209412</td>\n",
              "      <td>931.068642</td>\n",
              "    </tr>\n",
              "    <tr>\n",
              "      <th>11</th>\n",
              "      <td>25928</td>\n",
              "      <td>1974.481902</td>\n",
              "      <td>2057.795320</td>\n",
              "    </tr>\n",
              "    <tr>\n",
              "      <th>12</th>\n",
              "      <td>24845</td>\n",
              "      <td>695.577780</td>\n",
              "      <td>756.520980</td>\n",
              "    </tr>\n",
              "    <tr>\n",
              "      <th>13</th>\n",
              "      <td>28804</td>\n",
              "      <td>323.324883</td>\n",
              "      <td>335.523194</td>\n",
              "    </tr>\n",
              "    <tr>\n",
              "      <th>14</th>\n",
              "      <td>26772</td>\n",
              "      <td>613.462400</td>\n",
              "      <td>614.649830</td>\n",
              "    </tr>\n",
              "    <tr>\n",
              "      <th>15</th>\n",
              "      <td>27413</td>\n",
              "      <td>885.983190</td>\n",
              "      <td>975.836047</td>\n",
              "    </tr>\n",
              "    <tr>\n",
              "      <th>16</th>\n",
              "      <td>7261</td>\n",
              "      <td>903.053342</td>\n",
              "      <td>946.785097</td>\n",
              "    </tr>\n",
              "    <tr>\n",
              "      <th>17</th>\n",
              "      <td>31424</td>\n",
              "      <td>781.604736</td>\n",
              "      <td>778.538840</td>\n",
              "    </tr>\n",
              "    <tr>\n",
              "      <th>18</th>\n",
              "      <td>3940</td>\n",
              "      <td>388.926691</td>\n",
              "      <td>395.881583</td>\n",
              "    </tr>\n",
              "    <tr>\n",
              "      <th>19</th>\n",
              "      <td>16238</td>\n",
              "      <td>560.250403</td>\n",
              "      <td>563.071130</td>\n",
              "    </tr>\n",
              "  </tbody>\n",
              "</table>\n",
              "</div>"
            ],
            "text/plain": [
              "       ID          MIN          MAX\n",
              "0   28807  1126.266760  1228.199571\n",
              "1   22559   369.657964   383.427054\n",
              "2   28647   793.235620   813.563860\n",
              "3   22141   542.451883   555.769728\n",
              "4   26116  1444.160989  1522.227737\n",
              "5   27111  1449.202053  1489.748367\n",
              "6   23420   721.392857   735.791360\n",
              "7   21464   184.343431   184.328867\n",
              "8   29405   678.607953   721.381770\n",
              "9   27107   446.749492   439.749150\n",
              "10  26141   898.209412   931.068642\n",
              "11  25928  1974.481902  2057.795320\n",
              "12  24845   695.577780   756.520980\n",
              "13  28804   323.324883   335.523194\n",
              "14  26772   613.462400   614.649830\n",
              "15  27413   885.983190   975.836047\n",
              "16   7261   903.053342   946.785097\n",
              "17  31424   781.604736   778.538840\n",
              "18   3940   388.926691   395.881583\n",
              "19  16238   560.250403   563.071130"
            ]
          },
          "metadata": {
            "tags": []
          },
          "execution_count": 131
        }
      ]
    },
    {
      "cell_type": "code",
      "metadata": {
        "id": "H5ogXTlkbd5g"
      },
      "source": [
        "dfFinalResult.to_csv('testNewFour.csv',index=False, header=None)"
      ],
      "execution_count": null,
      "outputs": []
    },
    {
      "cell_type": "code",
      "metadata": {
        "id": "rGQ1G9Mvj25h"
      },
      "source": [
        ""
      ],
      "execution_count": null,
      "outputs": []
    }
  ]
}